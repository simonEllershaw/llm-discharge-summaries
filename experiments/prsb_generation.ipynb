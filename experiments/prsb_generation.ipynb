{
 "cells": [
  {
   "cell_type": "code",
   "execution_count": null,
   "metadata": {},
   "outputs": [],
   "source": [
    "import json\n",
    "import pickle\n",
    "import re\n",
    "from pathlib import Path\n",
    "from typing import List\n",
    "\n",
    "from dotenv import load_dotenv\n",
    "from matplotlib import pyplot as plt\n",
    "from sentence_transformers import SentenceTransformer\n",
    "\n",
    "from discharge_summaries.openai_llm.message import Message, Role\n",
    "from discharge_summaries.openai_llm.token_count import (\n",
    "    num_tokens_from_messages_azure_engine,\n",
    ")\n",
    "from discharge_summaries.schemas.mimic import Record\n",
    "from discharge_summaries.schemas.prsb_guidelines import Section"
   ]
  },
  {
   "cell_type": "code",
   "execution_count": null,
   "metadata": {},
   "outputs": [],
   "source": [
    "load_dotenv()"
   ]
  },
  {
   "cell_type": "code",
   "execution_count": null,
   "metadata": {},
   "outputs": [],
   "source": [
    "DATA_DIR = Path.cwd().parent / \"data\"\n",
    "OUTPUT_DIR = Path.cwd() / \"output\"\n",
    "\n",
    "\n",
    "TRAINING_DATASET_PATH = DATA_DIR / \"train_all_ds.pkl\"\n",
    "RANDOM_SEED = 23\n",
    "AZURE_ENGINE = \"gpt-4-32k\"\n",
    "AZURE_API_VERSION = \"2023-07-01-preview\"\n",
    "# AZURE_ENGINE = \"gpt-35-turbo\"\n",
    "# AZURE_API_VERSION = \"2023-07-01-preview\"\n",
    "\n",
    "GUIDELINES_JSON_PATH = (\n",
    "    Path.cwd().parent\n",
    "    / \"guidelines\"\n",
    "    / \"eDischarge-Summary-v2.1-1st-Feb-21_extract_text_elements.json\"\n",
    ")"
   ]
  },
  {
   "cell_type": "code",
   "execution_count": null,
   "metadata": {},
   "outputs": [],
   "source": [
    "with open(TRAINING_DATASET_PATH, \"rb\") as in_file:\n",
    "    dataset = [Record(**record) for record in pickle.load(in_file)]\n",
    "dataset = dataset\n",
    "sample = dataset[0]"
   ]
  },
  {
   "cell_type": "code",
   "execution_count": null,
   "metadata": {},
   "outputs": [],
   "source": [
    "def text_to_chunks(text: str, prefix: str, max_chunk_length: int = 128) -> List[str]:\n",
    "    chunks = []\n",
    "    for section in text.split(\"\\n\\n\"):\n",
    "        chunk = prefix\n",
    "        for sentence in re.split(\"\\n(?=[^ a-z])|(?<=[?|!|.])\\\\s\", section):\n",
    "            if (\n",
    "                num_tokens_from_messages_azure_engine(\n",
    "                    [Message(content=chunk + sentence, role=Role.USER)],\n",
    "                    AZURE_ENGINE,\n",
    "                    AZURE_API_VERSION,\n",
    "                )\n",
    "                > max_chunk_length\n",
    "            ):\n",
    "                chunks.append(chunk)\n",
    "                chunk = prefix\n",
    "            else:\n",
    "                chunk += f\"\\n{sentence}\"\n",
    "        chunks.append(chunk)\n",
    "\n",
    "    return chunks"
   ]
  },
  {
   "cell_type": "code",
   "execution_count": null,
   "metadata": {},
   "outputs": [],
   "source": [
    "physician_note_chunks = [\n",
    "    chunk\n",
    "    for idx, note in enumerate(sample.physician_notes)\n",
    "    for chunk in text_to_chunks(note.text, f\"Physician Note {idx}, {note.datetime}\\n\")\n",
    "]"
   ]
  },
  {
   "cell_type": "code",
   "execution_count": null,
   "metadata": {},
   "outputs": [],
   "source": [
    "plt.hist(\n",
    "    [\n",
    "        num_tokens_from_messages_azure_engine(\n",
    "            [Message(content=chunk, role=Role.USER)], AZURE_ENGINE, AZURE_API_VERSION\n",
    "        )\n",
    "        for chunk in physician_note_chunks\n",
    "    ]\n",
    ")\n",
    "plt.show()"
   ]
  },
  {
   "cell_type": "code",
   "execution_count": null,
   "metadata": {},
   "outputs": [],
   "source": [
    "embedder = SentenceTransformer(\"all-MiniLM-L6-v2\")"
   ]
  },
  {
   "cell_type": "code",
   "execution_count": null,
   "metadata": {},
   "outputs": [],
   "source": [
    "corpus_embeddings = embedder.encode(\n",
    "    physician_note_chunks, convert_to_tensor=True, show_progress_bar=True\n",
    ")"
   ]
  },
  {
   "cell_type": "code",
   "execution_count": null,
   "metadata": {},
   "outputs": [],
   "source": [
    "guidelines = [\n",
    "    Section(**section_dict)\n",
    "    for section_dict in json.loads(GUIDELINES_JSON_PATH.read_text())\n",
    "]"
   ]
  },
  {
   "cell_type": "code",
   "execution_count": null,
   "metadata": {},
   "outputs": [],
   "source": [
    "guidelines[0].name, guidelines[0].description"
   ]
  },
  {
   "cell_type": "code",
   "execution_count": null,
   "metadata": {},
   "outputs": [],
   "source": [
    "def section_to_prompts(section: Section) -> List[str]:\n",
    "    if section.is_record:\n",
    "    \n",
    "    return [\n",
    "        f\"\"\"Section: {section.name}\n",
    "Section Description: {section_description}\n",
    "Element Name: {element.name}\n",
    "Element Description: f\"{element.description} {element.values}\"\n",
    "Element Cardinality: {element.cardinality}\"\"\"\n",
    "        for element in section.elements[starting_idx:]\n",
    "    ]"
   ]
  },
  {
   "cell_type": "code",
   "execution_count": null,
   "metadata": {},
   "outputs": [],
   "source": [
    "# prompts = section_to_prompts(guidelines[4])\n",
    "\n",
    "# print(prompts[0])"
   ]
  },
  {
   "cell_type": "code",
   "execution_count": null,
   "metadata": {},
   "outputs": [],
   "source": [
    "# element_prompt = (guideline_element_to_prompt(guidelines[0].elements[1], guidelines[0]))\n",
    "# query_embedding = embedder.encode(element_prompt, convert_to_tensor=True)\n",
    "# scores = util.dot_score(query_embedding, corpus_embeddings)[0]\n",
    "# top_results = torch.topk(scores, k=5)\n",
    "# print(\"Query:\", element_prompt)\n",
    "# print(\"\\nTop 5 most similar sentences in corpus:\")\n",
    "\n",
    "# for score, idx in zip(top_results[0], top_results[1]):\n",
    "#     print(physician_note_chunks[idx], \"(Score: {:.4f})\".format(score))\n",
    "#     print()"
   ]
  }
 ],
 "metadata": {
  "kernelspec": {
   "display_name": ".venv",
   "language": "python",
   "name": "python3"
  },
  "language_info": {
   "codemirror_mode": {
    "name": "ipython",
    "version": 3
   },
   "file_extension": ".py",
   "mimetype": "text/x-python",
   "name": "python",
   "nbconvert_exporter": "python",
   "pygments_lexer": "ipython3",
   "version": "3.8.17"
  }
 },
 "nbformat": 4,
 "nbformat_minor": 2
}
