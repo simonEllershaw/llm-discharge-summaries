{
 "cells": [
  {
   "cell_type": "code",
   "execution_count": null,
   "metadata": {},
   "outputs": [],
   "source": [
    "from medcat.cat import CAT"
   ]
  },
  {
   "cell_type": "code",
   "execution_count": null,
   "metadata": {},
   "outputs": [],
   "source": [
    "import os\n",
    "import pickle\n",
    "from collections import Counter\n",
    "from pathlib import Path\n",
    "\n",
    "import numpy as np\n",
    "from dotenv import load_dotenv\n",
    "from sklearn.model_selection import train_test_split\n",
    "from tqdm.notebook import tqdm\n",
    "\n",
    "from discharge_summaries.schemas.medcat import MedCATSpan\n",
    "from discharge_summaries.schemas.mimic import Record"
   ]
  },
  {
   "cell_type": "code",
   "execution_count": null,
   "metadata": {},
   "outputs": [],
   "source": [
    "load_dotenv()\n",
    "\n",
    "\n",
    "UMLS_API_KEY = os.environ.get(\"UMLS_API_KEY\")\n",
    "\n",
    "UMLS_BASE_URL = \"https://uts-ws.nlm.nih.gov/rest\"\n",
    "\n",
    "DATA_DIR = Path.cwd().parent / \"data\"\n",
    "\n",
    "CLEAN_DATASET_SAVE_PATH = DATA_DIR / \"clean_df.pkl\"\n",
    "MODEL_PATH = Path.cwd().parent / \"models\" / \"umls_sm_pt2ch_533bab5115c6c2d6.zip\"\n",
    "RANDOM_SEED = 23"
   ]
  },
  {
   "cell_type": "code",
   "execution_count": null,
   "metadata": {},
   "outputs": [],
   "source": [
    "with open(CLEAN_DATASET_SAVE_PATH, \"rb\") as in_file:\n",
    "    dataset = [Record(**record) for record in pickle.load(in_file)]\n",
    "len(dataset)"
   ]
  },
  {
   "cell_type": "code",
   "execution_count": null,
   "metadata": {},
   "outputs": [],
   "source": [
    "train_dataset, test_dataset = train_test_split(\n",
    "    dataset, test_size=0.5, random_state=RANDOM_SEED\n",
    ")\n",
    "train_dataset = train_dataset[:100]\n",
    "len(train_dataset), len(test_dataset)"
   ]
  },
  {
   "cell_type": "code",
   "execution_count": null,
   "metadata": {},
   "outputs": [],
   "source": [
    "cat = CAT.load_model_pack(MODEL_PATH)"
   ]
  },
  {
   "cell_type": "code",
   "execution_count": null,
   "metadata": {},
   "outputs": [],
   "source": [
    "def run_medcat_on_dataset(dataset: list[str], cat: CAT) -> list[list[MedCATSpan]]:\n",
    "    dataset_entities = []\n",
    "    for sample_string in tqdm(dataset):\n",
    "        medcat_entities = cat(sample_string)\n",
    "        dataset_entities.append(\n",
    "            [MedCATSpan.from_spacy_span(entity, cat) for entity in medcat_entities.ents]\n",
    "            if medcat_entities\n",
    "            else []\n",
    "        )\n",
    "    return dataset_entities"
   ]
  },
  {
   "attachments": {},
   "cell_type": "markdown",
   "metadata": {},
   "source": [
    "## What is in a bhc?"
   ]
  },
  {
   "cell_type": "code",
   "execution_count": null,
   "metadata": {},
   "outputs": [],
   "source": [
    "bhc_entities = run_medcat_on_dataset(\n",
    "    [sample.discharge_summary.bhc for sample in train_dataset], cat\n",
    ")\n",
    "bhc_entities[0]"
   ]
  },
  {
   "cell_type": "code",
   "execution_count": null,
   "metadata": {},
   "outputs": [],
   "source": [
    "type_ids = [\n",
    "    type_id\n",
    "    for doc_entity in bhc_entities\n",
    "    for entity in doc_entity\n",
    "    for type_id in entity.type_ids\n",
    "]\n",
    "Counter(type_ids)"
   ]
  },
  {
   "cell_type": "code",
   "execution_count": null,
   "metadata": {},
   "outputs": [],
   "source": [
    "bhc_entities_047 = [\n",
    "    [entity for entity in doc_entities if \"T047\" in entity.type_ids]\n",
    "    for doc_entities in bhc_entities\n",
    "]\n",
    "bhc_entities_047_cui = [\n",
    "    {entity.cui for entity in doc_entities} for doc_entities in bhc_entities_047\n",
    "]\n",
    "bhc_entities_047_cui[0]"
   ]
  },
  {
   "attachments": {},
   "cell_type": "markdown",
   "metadata": {},
   "source": [
    "## Prefixes"
   ]
  },
  {
   "cell_type": "code",
   "execution_count": null,
   "metadata": {},
   "outputs": [],
   "source": [
    "prefixes = [\"\\n\".join(sample.discharge_summary.prefixes) for sample in train_dataset]\n",
    "prefixes"
   ]
  },
  {
   "cell_type": "code",
   "execution_count": null,
   "metadata": {},
   "outputs": [],
   "source": [
    "prefix_entities = run_medcat_on_dataset(prefixes, cat)\n",
    "Counter(\n",
    "    type_id\n",
    "    for doc_entities in prefix_entities\n",
    "    for entity in doc_entities\n",
    "    for type_id in entity.type_ids\n",
    ")"
   ]
  },
  {
   "cell_type": "code",
   "execution_count": null,
   "metadata": {},
   "outputs": [],
   "source": [
    "prefix_entities_047 = [\n",
    "    [entity for entity in doc_entities if \"T047\" in entity.type_ids]\n",
    "    for doc_entities in prefix_entities\n",
    "]\n",
    "prefix_entities_047_cui = [\n",
    "    {entity.cui for entity in doc_entities} for doc_entities in prefix_entities_047\n",
    "]\n",
    "prefix_entities_047_cui[0]"
   ]
  },
  {
   "attachments": {},
   "cell_type": "markdown",
   "metadata": {},
   "source": [
    "## Notes entities"
   ]
  },
  {
   "cell_type": "code",
   "execution_count": null,
   "metadata": {},
   "outputs": [],
   "source": [
    "type_ids_filter = [\"T047\"]\n",
    "cui_filters = {\n",
    "    cui\n",
    "    for type_ids in type_ids_filter\n",
    "    for cui in cat.cdb.addl_info[\"type_id2cuis\"][type_ids]\n",
    "}\n",
    "cat.cdb.config.linking[\"filters\"][\"cuis\"] = cui_filters"
   ]
  },
  {
   "cell_type": "code",
   "execution_count": null,
   "metadata": {},
   "outputs": [],
   "source": [
    "notes = [\n",
    "    \"\\n\".join(note.text for note in sample.physician_notes) for sample in train_dataset\n",
    "]\n",
    "notes_entities = run_medcat_on_dataset(notes, cat)\n",
    "notes_entities[0]"
   ]
  },
  {
   "cell_type": "code",
   "execution_count": null,
   "metadata": {},
   "outputs": [],
   "source": [
    "notes_entities_cui = [\n",
    "    {entity.cui for entity in doc_entities} for doc_entities in notes_entities\n",
    "]\n",
    "notes_entities_cui[0]"
   ]
  },
  {
   "cell_type": "code",
   "execution_count": null,
   "metadata": {},
   "outputs": [],
   "source": [
    "def calculate_precision_recall(actual_set, predicted_set) -> tuple[float, float]:\n",
    "    if len(actual_set) == 0 and len(predicted_set) == 0:\n",
    "        return 1, 1\n",
    "    elif len(actual_set) == 0:\n",
    "        return 0, 1\n",
    "    if len(predicted_set) == 0:\n",
    "        return 1, 0\n",
    "\n",
    "    true_positives = len(actual_set.intersection(predicted_set))\n",
    "    false_positives = len(predicted_set - actual_set)\n",
    "    false_negatives = len(actual_set - predicted_set)\n",
    "\n",
    "    precision = true_positives / (true_positives + false_positives)\n",
    "    recall = true_positives / (true_positives + false_negatives)\n",
    "\n",
    "    return precision, recall"
   ]
  },
  {
   "cell_type": "code",
   "execution_count": null,
   "metadata": {},
   "outputs": [],
   "source": [
    "prefix_precision_recall = np.array(\n",
    "    [\n",
    "        calculate_precision_recall(actual, pred)\n",
    "        for actual, pred in zip(prefix_entities_047_cui, notes_entities_cui)\n",
    "    ]\n",
    ").mean(axis=0)\n",
    "prefix_precision_recall"
   ]
  },
  {
   "cell_type": "code",
   "execution_count": null,
   "metadata": {},
   "outputs": [],
   "source": [
    "bhc_precision_recall = np.array(\n",
    "    [\n",
    "        calculate_precision_recall(actual, pred)\n",
    "        for actual, pred in zip(bhc_entities_047_cui, notes_entities_cui)\n",
    "    ]\n",
    ").mean(axis=0)\n",
    "bhc_precision_recall"
   ]
  },
  {
   "cell_type": "code",
   "execution_count": null,
   "metadata": {},
   "outputs": [],
   "source": [
    "bhc_entities_047[0]"
   ]
  },
  {
   "cell_type": "code",
   "execution_count": null,
   "metadata": {},
   "outputs": [],
   "source": [
    "\"neutropenia\" in notes[0].lower()"
   ]
  },
  {
   "cell_type": "code",
   "execution_count": null,
   "metadata": {},
   "outputs": [],
   "source": [
    "sorted({entity.name for entity in bhc_entities_047[0]})"
   ]
  },
  {
   "cell_type": "code",
   "execution_count": null,
   "metadata": {},
   "outputs": [],
   "source": [
    "print(train_dataset[0].discharge_summary.bhc)"
   ]
  },
  {
   "cell_type": "code",
   "execution_count": null,
   "metadata": {},
   "outputs": [],
   "source": [
    "sorted({entity.name for entity in notes_entities[0]})"
   ]
  }
 ],
 "metadata": {
  "kernelspec": {
   "display_name": ".venv",
   "language": "python",
   "name": "python3"
  },
  "language_info": {
   "codemirror_mode": {
    "name": "ipython",
    "version": 3
   },
   "file_extension": ".py",
   "mimetype": "text/x-python",
   "name": "python",
   "nbconvert_exporter": "python",
   "pygments_lexer": "ipython3",
   "version": "3.11.4"
  }
 },
 "nbformat": 4,
 "nbformat_minor": 2
}
