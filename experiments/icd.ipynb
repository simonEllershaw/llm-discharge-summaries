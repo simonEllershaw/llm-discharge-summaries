{
 "cells": [
  {
   "cell_type": "code",
   "execution_count": null,
   "metadata": {},
   "outputs": [],
   "source": [
    "from pathlib import Path\n",
    "\n",
    "import pandas as pd\n",
    "import torch\n",
    "from sentence_transformers import SentenceTransformer, util"
   ]
  },
  {
   "cell_type": "code",
   "execution_count": null,
   "metadata": {},
   "outputs": [],
   "source": [
    "MIMIC_III_DIR = (\n",
    "    Path.cwd().parent / \"data\" / \"physionet.org\" / \"files\" / \"mimiciii\" / \"1.4\"\n",
    ")\n",
    "ICD_DEFINITIONS_PATH = MIMIC_III_DIR / \"D_ICD_DIAGNOSES.csv\"\n",
    "ICD_GTS_PATH = MIMIC_III_DIR / \"DIAGNOSES_ICD.csv\"\n",
    "NOTES_PATH = MIMIC_III_DIR / \"NOTEEVENTS.csv\""
   ]
  },
  {
   "cell_type": "code",
   "execution_count": null,
   "metadata": {},
   "outputs": [],
   "source": [
    "icd_definitions = pd.read_csv(ICD_DEFINITIONS_PATH)"
   ]
  },
  {
   "cell_type": "code",
   "execution_count": null,
   "metadata": {},
   "outputs": [],
   "source": [
    "embedder = SentenceTransformer(\"all-mpnet-base-v2\")"
   ]
  },
  {
   "cell_type": "code",
   "execution_count": null,
   "metadata": {},
   "outputs": [],
   "source": [
    "corpus_embeddings = embedder.encode(\n",
    "    icd_definitions[\"LONG_TITLE\"].values, convert_to_tensor=True\n",
    ")"
   ]
  },
  {
   "cell_type": "code",
   "execution_count": null,
   "metadata": {},
   "outputs": [],
   "source": [
    "query_embedding = embedder.encode(\"Cholera\", convert_to_tensor=True)\n",
    "cos_scores = util.cos_sim(query_embedding, corpus_embeddings)[0]\n",
    "top_results = torch.topk(cos_scores, k=3)"
   ]
  },
  {
   "cell_type": "code",
   "execution_count": null,
   "metadata": {},
   "outputs": [],
   "source": [
    "for score, idx in zip(top_results[0], top_results[1]):\n",
    "    print(icd_definitions.iloc[idx.item()], \"(Score: {:.4f})\".format(score))"
   ]
  },
  {
   "cell_type": "code",
   "execution_count": null,
   "metadata": {},
   "outputs": [],
   "source": [
    "icd_gts = pd.read_csv(ICD_GTS_PATH)"
   ]
  },
  {
   "cell_type": "code",
   "execution_count": null,
   "metadata": {},
   "outputs": [],
   "source": [
    "icd_gts"
   ]
  },
  {
   "cell_type": "code",
   "execution_count": null,
   "metadata": {},
   "outputs": [],
   "source": [
    "icd_gts[icd_gts[\"HADM_ID\"] == 172335]"
   ]
  },
  {
   "cell_type": "code",
   "execution_count": null,
   "metadata": {},
   "outputs": [],
   "source": [
    "full_df = pd.read_csv(NOTES_PATH)"
   ]
  },
  {
   "cell_type": "code",
   "execution_count": null,
   "metadata": {},
   "outputs": [],
   "source": [
    "discharge_summaries = full_df[full_df[\"CATEGORY\"] == \"Discharge summary\"]"
   ]
  },
  {
   "cell_type": "code",
   "execution_count": null,
   "metadata": {},
   "outputs": [],
   "source": [
    "# discharge_summaries = discharge_summaries[discharge_summaries[\"ISERROR\"] != 1]\n",
    "# discharge_summaries.drop(\"ISERROR\", axis=1, inplace=True)\n",
    "discharge_summaries = discharge_summaries.drop_duplicates()"
   ]
  },
  {
   "cell_type": "code",
   "execution_count": null,
   "metadata": {},
   "outputs": [],
   "source": [
    "discharge_summaries.head()"
   ]
  },
  {
   "cell_type": "code",
   "execution_count": null,
   "metadata": {},
   "outputs": [],
   "source": [
    "sample = discharge_summaries.sample(1)\n",
    "sample"
   ]
  },
  {
   "cell_type": "code",
   "execution_count": null,
   "metadata": {},
   "outputs": [],
   "source": [
    "sample_ds = sample[\"TEXT\"].values[0]"
   ]
  },
  {
   "cell_type": "code",
   "execution_count": null,
   "metadata": {},
   "outputs": [],
   "source": [
    "sample_hadm_id = sample[\"HADM_ID\"].values[0]"
   ]
  },
  {
   "cell_type": "code",
   "execution_count": null,
   "metadata": {},
   "outputs": [],
   "source": [
    "import os\n",
    "\n",
    "from dotenv import load_dotenv\n",
    "\n",
    "from discharge_summaries.openai_llm.chat_models import AzureOpenAIChatModel\n",
    "from discharge_summaries.openai_llm.message import Message, Role"
   ]
  },
  {
   "cell_type": "code",
   "execution_count": null,
   "metadata": {},
   "outputs": [],
   "source": [
    "load_dotenv()\n",
    "AZURE_ENGINE = \"gpt-4\"\n",
    "AZURE_API_VERSION = \"2023-07-01-preview\""
   ]
  },
  {
   "cell_type": "code",
   "execution_count": null,
   "metadata": {},
   "outputs": [],
   "source": [
    "llm = AzureOpenAIChatModel(\n",
    "    api_base=os.getenv(\"AZURE_OPENAI_ENDPOINT\"),\n",
    "    api_key=os.getenv(\"AZURE_OPENAI_KEY\"),\n",
    "    api_version=AZURE_API_VERSION,\n",
    "    engine=AZURE_ENGINE,\n",
    "    temperature=0,\n",
    "    timeout=20,\n",
    ")"
   ]
  },
  {
   "cell_type": "code",
   "execution_count": null,
   "metadata": {},
   "outputs": [],
   "source": [
    "SYSTEM_MESSAGE = Message(\n",
    "    role=Role.SYSTEM,\n",
    "    content=f\"\"\"You are a consultant doctor tasked with writing a list of diagnoses from a discharge summary.\n",
    "This list will then be used to assign ICD-9 codes to the patient.\n",
    "General rules for accurate selection of diagnoses apply:\n",
    "• Include the minimum number of diagnoses which accurately reflect the patient's condition\n",
    "• Include every diagnoses or reason for encounter which affects the care, or influences\n",
    "health status during the consultant episode, which is available in the classification and\n",
    "supported by the medical record.\n",
    "• Do not include background information or chronic problems which are no longer active\n",
    "and which do not influence the health care being provided in the relevant consultant\n",
    "episode. It is not always intended that symptoms or history be coded. Just because a\n",
    "condition can be coded does not mean it should be coded each time the patient is\n",
    "admitted. Any uncertainty around issues of relevance or inactive problems should be\n",
    "discussed with the responsible consultant.\n",
    "\n",
    "The user message will have the format:\n",
    "Write a list of diagnoses for the following discharge summary:\n",
    "<discharge summary>\n",
    "\n",
    "Your response must be of the format:\n",
    "<diagnosis 1>: <Short description of diagnosis 1>\n",
    "<diagnosis 2>: <Short description of diagnosis 2>\n",
    "...\n",
    "<diagnosis n>: <Short description of diagnosis n>\n",
    "\"\"\",\n",
    ")"
   ]
  },
  {
   "cell_type": "code",
   "execution_count": null,
   "metadata": {},
   "outputs": [],
   "source": [
    "user_message_content = f\"\"\"Write a list of diagnoses for the following discharge summary:\n",
    "{sample_ds}\"\"\"\n",
    "prompt_messages = [\n",
    "    SYSTEM_MESSAGE,\n",
    "    Message(role=Role.USER, content=user_message_content),\n",
    "]\n",
    "\n",
    "prompt_messages"
   ]
  },
  {
   "cell_type": "code",
   "execution_count": null,
   "metadata": {},
   "outputs": [],
   "source": [
    "response = llm.query(prompt_messages)"
   ]
  },
  {
   "cell_type": "code",
   "execution_count": null,
   "metadata": {},
   "outputs": [],
   "source": [
    "print(response.content)"
   ]
  },
  {
   "cell_type": "code",
   "execution_count": null,
   "metadata": {},
   "outputs": [],
   "source": [
    "gpt_diagnoses = response.content.split(\"\\n\")"
   ]
  },
  {
   "cell_type": "code",
   "execution_count": null,
   "metadata": {},
   "outputs": [],
   "source": [
    "query_embedding = embedder.encode(gpt_diagnoses, convert_to_tensor=True)\n",
    "cos_scores = util.cos_sim(query_embedding, corpus_embeddings)\n",
    "top_results = torch.topk(cos_scores, k=1)"
   ]
  },
  {
   "cell_type": "code",
   "execution_count": null,
   "metadata": {},
   "outputs": [],
   "source": [
    "icd_definitions.iloc[top_results[1].cpu().flatten().numpy()]"
   ]
  },
  {
   "cell_type": "code",
   "execution_count": null,
   "metadata": {},
   "outputs": [],
   "source": [
    "for code in icd_gts[icd_gts[\"HADM_ID\"] == sample_hadm_id][\"ICD9_CODE\"]:\n",
    "    match = icd_definitions[icd_definitions[\"ICD9_CODE\"] == code][\"SHORT_TITLE\"].values\n",
    "    if len(match) > 0:\n",
    "        print(code, match[0])\n",
    "    else:\n",
    "        print(code)"
   ]
  },
  {
   "cell_type": "code",
   "execution_count": null,
   "metadata": {},
   "outputs": [],
   "source": [
    "for code in top_results[1].cpu().flatten().numpy().tolist():\n",
    "    match = icd_definitions[icd_definitions[\"ICD9_CODE\"] == code][\"SHORT_TITLE\"].values\n",
    "    if len(match) > 0:\n",
    "        print(match[0])\n",
    "    else:\n",
    "        print(code)"
   ]
  }
 ],
 "metadata": {
  "kernelspec": {
   "display_name": ".venv",
   "language": "python",
   "name": "python3"
  },
  "language_info": {
   "codemirror_mode": {
    "name": "ipython",
    "version": 3
   },
   "file_extension": ".py",
   "mimetype": "text/x-python",
   "name": "python",
   "nbconvert_exporter": "python",
   "pygments_lexer": "ipython3",
   "version": "3.8.17"
  }
 },
 "nbformat": 4,
 "nbformat_minor": 2
}
