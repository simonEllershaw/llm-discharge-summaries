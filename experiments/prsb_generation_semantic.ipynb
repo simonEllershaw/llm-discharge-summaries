{
 "cells": [
  {
   "cell_type": "code",
   "execution_count": null,
   "metadata": {},
   "outputs": [],
   "source": [
    "import json\n",
    "import os\n",
    "import pickle\n",
    "import re\n",
    "from pathlib import Path\n",
    "from typing import List\n",
    "\n",
    "from dotenv import load_dotenv\n",
    "from matplotlib import pyplot as plt\n",
    "from sentence_transformers import SentenceTransformer\n",
    "\n",
    "from discharge_summaries.openai_llm.chat_models import AzureOpenAIChatModel\n",
    "from discharge_summaries.openai_llm.message import Message, Role\n",
    "from discharge_summaries.openai_llm.token_count import (\n",
    "    num_tokens_from_messages_azure_engine,\n",
    ")\n",
    "from discharge_summaries.schemas.mimic import Note, Record"
   ]
  },
  {
   "cell_type": "code",
   "execution_count": null,
   "metadata": {},
   "outputs": [],
   "source": [
    "load_dotenv()"
   ]
  },
  {
   "cell_type": "code",
   "execution_count": null,
   "metadata": {},
   "outputs": [],
   "source": [
    "DATA_DIR = Path.cwd().parent / \"data\"\n",
    "OUTPUT_DIR = Path.cwd() / \"output\"\n",
    "\n",
    "\n",
    "TRAINING_DATASET_PATH = DATA_DIR / \"train_all_ds.pkl\"\n",
    "RANDOM_SEED = 23\n",
    "AZURE_ENGINE = \"gpt-4-32k\"\n",
    "AZURE_API_VERSION = \"2023-07-01-preview\"\n",
    "# AZURE_ENGINE = \"gpt-35-turbo\"\n",
    "# AZURE_API_VERSION = \"2023-07-01-preview\"\n",
    "\n",
    "GUIDELINES_JSON_SCHEMA_PATH = (\n",
    "    Path.cwd().parent / \"guidelines\" / \"eDischarge-Summary-v2.1-1st-Feb-21_schema.json\"\n",
    ")"
   ]
  },
  {
   "cell_type": "code",
   "execution_count": null,
   "metadata": {},
   "outputs": [],
   "source": [
    "with open(TRAINING_DATASET_PATH, \"rb\") as in_file:\n",
    "    dataset = [Record(**record) for record in pickle.load(in_file)]\n",
    "len(dataset)\n",
    "sample = dataset[0]"
   ]
  },
  {
   "cell_type": "markdown",
   "metadata": {},
   "source": [
    "Remove indents (save tokens)"
   ]
  },
  {
   "cell_type": "code",
   "execution_count": null,
   "metadata": {},
   "outputs": [],
   "source": [
    "guidelines_json_schema_json = json.loads(GUIDELINES_JSON_SCHEMA_PATH.read_text())\n",
    "guidelines_json_schema_str = json.dumps(guidelines_json_schema_json)"
   ]
  },
  {
   "cell_type": "code",
   "execution_count": null,
   "metadata": {},
   "outputs": [],
   "source": [
    "llm = AzureOpenAIChatModel(\n",
    "    api_base=os.getenv(\"AZURE_OPENAI_ENDPOINT\"),\n",
    "    api_key=os.getenv(\"AZURE_OPENAI_KEY\"),\n",
    "    api_version=AZURE_API_VERSION,\n",
    "    engine=AZURE_ENGINE,\n",
    "    temperature=0,\n",
    "    timeout=20,\n",
    ")"
   ]
  },
  {
   "cell_type": "code",
   "execution_count": null,
   "metadata": {},
   "outputs": [],
   "source": [
    "SYSTEM_MESSAGE = Message(\n",
    "    role=Role.SYSTEM,\n",
    "    content=f\"\"\"You are a consultant doctor tasked with writing a patients discharge summary.\n",
    "Only the information in the physician notes provided by the user can be used for this task.\n",
    "Each physician note has a title of the format Physician Note [number]: [timestamp].\n",
    "\n",
    "The discharge summary must be written in accordance with the following json schema.\n",
    "{guidelines_json_schema_str}\n",
    "If the information is not present to fill in a field, answer it with an empty string.\n",
    "\"\"\",\n",
    ")"
   ]
  },
  {
   "cell_type": "code",
   "execution_count": null,
   "metadata": {},
   "outputs": [],
   "source": [
    "def generate_notes_string(notes: List[Note]):\n",
    "    return \"\\n\\n\".join(\n",
    "        f\"Physician Note {idx+1}: {note.datetime}\\n{note.text}\"\n",
    "        for idx, note in enumerate(notes)\n",
    "    )"
   ]
  },
  {
   "cell_type": "markdown",
   "metadata": {},
   "source": [
    "## Semantic"
   ]
  },
  {
   "cell_type": "code",
   "execution_count": null,
   "metadata": {},
   "outputs": [],
   "source": [
    "def text_to_chunks(text: str, prefix: str, max_chunk_length: int = 128) -> List[str]:\n",
    "    chunks = []\n",
    "    for section in text.split(\"\\n\\n\"):\n",
    "        chunk = prefix\n",
    "        for sentence in re.split(\"\\n(?=[^ a-z])|(?<=[?|!|.])\\\\s\", section):\n",
    "            if (\n",
    "                num_tokens_from_messages_azure_engine(\n",
    "                    [Message(content=chunk + sentence, role=Role.USER)],\n",
    "                    AZURE_ENGINE,\n",
    "                    AZURE_API_VERSION,\n",
    "                )\n",
    "                > max_chunk_length\n",
    "            ):\n",
    "                chunks.append(chunk)\n",
    "                chunk = prefix\n",
    "            else:\n",
    "                chunk += f\"\\n{sentence}\"\n",
    "        chunks.append(chunk)\n",
    "\n",
    "    return chunks"
   ]
  },
  {
   "cell_type": "code",
   "execution_count": null,
   "metadata": {},
   "outputs": [],
   "source": [
    "physician_note_chunks = [\n",
    "    chunk\n",
    "    for idx, note in enumerate(sample.physician_notes)\n",
    "    for chunk in text_to_chunks(note.text, f\"Physician Note {idx}, {note.datetime}\\n\")\n",
    "]"
   ]
  },
  {
   "cell_type": "code",
   "execution_count": null,
   "metadata": {},
   "outputs": [],
   "source": [
    "plt.hist(\n",
    "    [\n",
    "        num_tokens_from_messages_azure_engine(\n",
    "            [Message(content=chunk, role=Role.USER)], AZURE_ENGINE, AZURE_API_VERSION\n",
    "        )\n",
    "        for chunk in physician_note_chunks\n",
    "    ]\n",
    ")\n",
    "plt.show()"
   ]
  },
  {
   "cell_type": "code",
   "execution_count": null,
   "metadata": {},
   "outputs": [],
   "source": [
    "embedder = SentenceTransformer(\"all-MiniLM-L6-v2\")"
   ]
  },
  {
   "cell_type": "code",
   "execution_count": null,
   "metadata": {},
   "outputs": [],
   "source": [
    "corpus_embeddings = embedder.encode(\n",
    "    physician_note_chunks, convert_to_tensor=True, show_progress_bar=True\n",
    ")"
   ]
  }
 ],
 "metadata": {
  "kernelspec": {
   "display_name": ".venv",
   "language": "python",
   "name": "python3"
  },
  "language_info": {
   "codemirror_mode": {
    "name": "ipython",
    "version": 3
   },
   "file_extension": ".py",
   "mimetype": "text/x-python",
   "name": "python",
   "nbconvert_exporter": "python",
   "pygments_lexer": "ipython3",
   "version": "3.8.16"
  }
 },
 "nbformat": 4,
 "nbformat_minor": 2
}
