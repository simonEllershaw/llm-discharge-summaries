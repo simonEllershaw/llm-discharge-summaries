{
 "cells": [
  {
   "cell_type": "code",
   "execution_count": null,
   "metadata": {},
   "outputs": [],
   "source": [
    "import pickle\n",
    "from datetime import datetime\n",
    "from pathlib import Path\n",
    "from typing import Dict\n",
    "\n",
    "import evaluate\n",
    "import numpy as np\n",
    "from datasets import Dataset\n",
    "from sklearn.model_selection import train_test_split\n",
    "from transformers import (\n",
    "    AutoModelForTokenClassification,\n",
    "    AutoTokenizer,\n",
    "    DataCollatorForTokenClassification,\n",
    "    Trainer,\n",
    "    TrainingArguments,\n",
    ")"
   ]
  },
  {
   "cell_type": "code",
   "execution_count": null,
   "metadata": {},
   "outputs": [],
   "source": [
    "DATA_DIR = Path.cwd().parent / \"data\"\n",
    "DATASET_PATH = DATA_DIR / \"train_anno_2023_08_30_14_39.pkl\"\n",
    "\n",
    "HF_MODEL_NAME = \"roberta-base\"\n",
    "IGNORE_ENCODING = -100\n",
    "RANDOM_SEED = 23\n",
    "\n",
    "TIMESTAMP = datetime.now().strftime(\"%Y_%m_%d_%H_%M\")\n",
    "MODEL_DIR = Path.cwd().parent / \"models\" / f\"{HF_MODEL_NAME}_{TIMESTAMP}\"\n",
    "PRIORITY_LABEL = \"PRIORITY\""
   ]
  },
  {
   "cell_type": "code",
   "execution_count": null,
   "metadata": {},
   "outputs": [],
   "source": [
    "dataset = pickle.load(DATASET_PATH.open(\"rb\"))\n",
    "len(dataset)"
   ]
  },
  {
   "cell_type": "code",
   "execution_count": null,
   "metadata": {},
   "outputs": [],
   "source": [
    "for doc in dataset:\n",
    "    for chunk in doc:\n",
    "        chunk[\"ner_tags\"] = [\n",
    "            tag[:2] + PRIORITY_LABEL if tag != \"O\" else tag for tag in chunk[\"ner_tags\"]\n",
    "        ]"
   ]
  },
  {
   "cell_type": "code",
   "execution_count": null,
   "metadata": {},
   "outputs": [],
   "source": [
    "train_dataset, val_dataset = train_test_split(\n",
    "    dataset, test_size=0.2, random_state=RANDOM_SEED\n",
    ")\n",
    "len(train_dataset), len(val_dataset)"
   ]
  },
  {
   "cell_type": "code",
   "execution_count": null,
   "metadata": {},
   "outputs": [],
   "source": [
    "train_dataset_dict = {\n",
    "    \"tokens\": [chunk[\"tokens\"] for doc in train_dataset for chunk in doc],\n",
    "    \"ner_tags\": [chunk[\"ner_tags\"] for doc in train_dataset for chunk in doc],\n",
    "}\n",
    "\n",
    "val_dataset_dict = {\n",
    "    \"tokens\": [chunk[\"tokens\"] for doc in val_dataset for example in doc],\n",
    "    \"ner_tags\": [chunk[\"ner_tags\"] for doc in val_dataset for example in doc],\n",
    "}"
   ]
  },
  {
   "cell_type": "code",
   "execution_count": null,
   "metadata": {},
   "outputs": [],
   "source": [
    "train_dataset_hf = Dataset.from_dict(train_dataset_dict)\n",
    "val_dataset_hf = Dataset.from_dict(val_dataset_dict)"
   ]
  },
  {
   "cell_type": "code",
   "execution_count": null,
   "metadata": {},
   "outputs": [],
   "source": [
    "labels = sorted(\n",
    "    {label for doc_labels in train_dataset_dict[\"ner_tags\"] for label in doc_labels}\n",
    ")\n",
    "labels"
   ]
  },
  {
   "cell_type": "code",
   "execution_count": null,
   "metadata": {},
   "outputs": [],
   "source": [
    "id2label = {i: label for i, label in enumerate(labels)}\n",
    "label2id = {label: i for i, label in enumerate(labels)}\n",
    "id2label, label2id"
   ]
  },
  {
   "cell_type": "code",
   "execution_count": null,
   "metadata": {},
   "outputs": [],
   "source": [
    "def tokenize_and_align_labels(\n",
    "    examples: Dataset, tokenizer: AutoTokenizer, label2id: Dict\n",
    ") -> Dataset:\n",
    "    tokenized_inputs = tokenizer(examples[\"tokens\"], is_split_into_words=True)\n",
    "    labels = []\n",
    "    for i, label in enumerate(examples[\"ner_tags\"]):\n",
    "        word_ids = tokenized_inputs.word_ids(\n",
    "            batch_index=i\n",
    "        )  # Map tokens to their respective word.\n",
    "        previous_word_idx = None\n",
    "        label_ids = []\n",
    "        for word_idx in word_ids:  # Set the special tokens to -100.\n",
    "            if word_idx is None:\n",
    "                label_ids.append(IGNORE_ENCODING)\n",
    "            elif (\n",
    "                word_idx != previous_word_idx\n",
    "            ):  # Only label the first token of a given word.\n",
    "                label_ids.append(label2id[label[word_idx]])\n",
    "            else:\n",
    "                label_ids.append(IGNORE_ENCODING)\n",
    "            previous_word_idx = word_idx\n",
    "        labels.append(label_ids)\n",
    "\n",
    "    tokenized_inputs[\"labels\"] = labels\n",
    "    return tokenized_inputs"
   ]
  },
  {
   "cell_type": "code",
   "execution_count": null,
   "metadata": {},
   "outputs": [],
   "source": [
    "tokenizer = AutoTokenizer.from_pretrained(\n",
    "    HF_MODEL_NAME, add_prefix_space=True, use_fast=True\n",
    ")"
   ]
  },
  {
   "cell_type": "code",
   "execution_count": null,
   "metadata": {},
   "outputs": [],
   "source": [
    "tokenized_train_dataset = train_dataset_hf.map(\n",
    "    lambda examples: tokenize_and_align_labels(examples, tokenizer, label2id),\n",
    "    batched=True,\n",
    ")\n",
    "tokenized_val_dataset = val_dataset_hf.map(\n",
    "    lambda examples: tokenize_and_align_labels(examples, tokenizer, label2id),\n",
    "    batched=True,\n",
    ")"
   ]
  },
  {
   "cell_type": "code",
   "execution_count": null,
   "metadata": {},
   "outputs": [],
   "source": [
    "len(tokenized_train_dataset), len(tokenized_val_dataset)"
   ]
  },
  {
   "cell_type": "code",
   "execution_count": null,
   "metadata": {},
   "outputs": [],
   "source": [
    "model = AutoModelForTokenClassification.from_pretrained(\n",
    "    HF_MODEL_NAME, num_labels=len(labels), id2label=id2label, label2id=label2id\n",
    ")\n",
    "data_collator = DataCollatorForTokenClassification(tokenizer=tokenizer)"
   ]
  },
  {
   "cell_type": "code",
   "execution_count": null,
   "metadata": {},
   "outputs": [],
   "source": [
    "tokenized_train_dataset = tokenized_train_dataset.remove_columns([\"tokens\", \"ner_tags\"])\n",
    "tokenized_val_dataset = tokenized_val_dataset.remove_columns([\"tokens\", \"ner_tags\"])\n",
    "len(tokenized_train_dataset), len(tokenized_val_dataset)"
   ]
  },
  {
   "cell_type": "code",
   "execution_count": null,
   "metadata": {},
   "outputs": [],
   "source": [
    "seqeval = evaluate.load(\"seqeval\")\n",
    "\n",
    "\n",
    "def compute_metrics(p):\n",
    "    dataset_logits, dataset_labels = p\n",
    "    dataset_preds = np.argmax(dataset_logits, axis=2)\n",
    "\n",
    "    dataset_filtered_preds = [\n",
    "        [\n",
    "            labels[token_pred]\n",
    "            for (token_pred, token_label) in zip(doc_preds, doc_labels)\n",
    "            if token_label != IGNORE_ENCODING\n",
    "        ]\n",
    "        for doc_preds, doc_labels in zip(dataset_preds, dataset_labels)\n",
    "    ]\n",
    "    dataset_filtered_labels = [\n",
    "        [\n",
    "            labels[token_label]\n",
    "            for (token_pred, token_label) in zip(doc_preds, doc_labels)\n",
    "            if token_label != IGNORE_ENCODING\n",
    "        ]\n",
    "        for doc_preds, doc_labels in zip(dataset_preds, dataset_labels)\n",
    "    ]\n",
    "\n",
    "    results = seqeval.compute(\n",
    "        predictions=dataset_filtered_preds, references=dataset_filtered_labels\n",
    "    )\n",
    "    return {\n",
    "        \"precision\": results[\"overall_precision\"],\n",
    "        \"recall\": results[\"overall_recall\"],\n",
    "        \"f1\": results[\"overall_f1\"],\n",
    "        \"accuracy\": results[\"overall_accuracy\"],\n",
    "    }"
   ]
  },
  {
   "cell_type": "code",
   "execution_count": null,
   "metadata": {},
   "outputs": [],
   "source": [
    "training_args = TrainingArguments(\n",
    "    output_dir=MODEL_DIR,\n",
    "    learning_rate=5e-5,\n",
    "    per_device_train_batch_size=16,\n",
    "    per_device_eval_batch_size=16,\n",
    "    num_train_epochs=10,\n",
    "    weight_decay=0.01,\n",
    "    warmup_ratio=0.1,\n",
    "    evaluation_strategy=\"epoch\",\n",
    "    save_strategy=\"epoch\",\n",
    "    push_to_hub=False,\n",
    ")\n",
    "\n",
    "trainer = Trainer(\n",
    "    model=model,\n",
    "    args=training_args,\n",
    "    train_dataset=tokenized_train_dataset,\n",
    "    eval_dataset=tokenized_val_dataset,\n",
    "    tokenizer=tokenizer,\n",
    "    data_collator=data_collator,\n",
    "    compute_metrics=compute_metrics,\n",
    ")\n",
    "\n",
    "trainer.train()"
   ]
  }
 ],
 "metadata": {
  "kernelspec": {
   "display_name": ".venv",
   "language": "python",
   "name": "python3"
  },
  "language_info": {
   "codemirror_mode": {
    "name": "ipython",
    "version": 3
   },
   "file_extension": ".py",
   "mimetype": "text/x-python",
   "name": "python",
   "nbconvert_exporter": "python",
   "pygments_lexer": "ipython3",
   "version": "3.8.17"
  }
 },
 "nbformat": 4,
 "nbformat_minor": 2
}
