{
 "cells": [
  {
   "cell_type": "code",
   "execution_count": null,
   "metadata": {},
   "outputs": [],
   "source": [
    "import json\n",
    "import re\n",
    "from pathlib import Path\n",
    "from typing import Dict, List\n",
    "\n",
    "import openpyxl\n",
    "import PyPDF2"
   ]
  },
  {
   "cell_type": "code",
   "execution_count": null,
   "metadata": {},
   "outputs": [],
   "source": [
    "GUIDELINES_DIR = Path.cwd().parent / \"guidelines\"\n",
    "GUIDELINES_EXCEL_PATH = GUIDELINES_DIR / \"eDischarge-Summary-v2.1-1st-Feb-21.xlsx\"\n",
    "GUIDELINES_IMPLEMENTATION_PDF_PATH = (\n",
    "    GUIDELINES_DIR\n",
    "    / \"eDischarge-Summary-Maintenance-Release-Implementation-Guidance-Report-v2.1-23.1.19.pdf\"\n",
    ")\n",
    "\n",
    "GUIDELINES_JSON_PATH = GUIDELINES_DIR / \"eDischarge-Summary-v2.1-1st-Feb-21_schema.json\""
   ]
  },
  {
   "cell_type": "code",
   "execution_count": null,
   "metadata": {},
   "outputs": [],
   "source": [
    "sheet = openpyxl.load_workbook(GUIDELINES_EXCEL_PATH)[\"Sheet1\"]\n",
    "rows = list(sheet.iter_rows(values_only=True, min_row=4))"
   ]
  },
  {
   "cell_type": "code",
   "execution_count": null,
   "metadata": {},
   "outputs": [],
   "source": [
    "def row_list_to_dict(row: List[str]) -> Dict[str, str]:\n",
    "    return {\n",
    "        \"name\": row[0].strip() if row[0] else \"\",\n",
    "        \"description\": row[1].strip() if row[1] else \"\",\n",
    "        \"cardinality\": row[2].strip() if row[2] else \"\",\n",
    "        \"data_type\": row[3].strip() if row[3] else \"\",\n",
    "        \"values\": row[4].strip() if row[4] else \"\",\n",
    "        \"extract_from_free_text\": row[5].strip() if row[5] else \"\",\n",
    "    }\n",
    "\n",
    "\n",
    "def element_rows_to_json_schema(element_rows: List[List[str]]) -> Dict:\n",
    "    first_element_row = row_list_to_dict(element_rows[0])\n",
    "    if (\n",
    "        first_element_row[\"values\"] == \"\"\n",
    "        and \"record entry\" in first_element_row[\"description\"]\n",
    "    ):\n",
    "        return {\n",
    "            first_element_row[\"name\"]: {\n",
    "                \"description\": first_element_row[\"description\"],\n",
    "                \"type\": \"array\",\n",
    "                \"items\": element_rows_to_json_schema(element_rows[1:]),\n",
    "            }\n",
    "        }\n",
    "\n",
    "    elements_schema = {}\n",
    "    for element_row_list in element_rows:\n",
    "        element_row = row_list_to_dict(element_row_list)\n",
    "        if any(field == \"\" for field in element_row.values()):\n",
    "            print(element_row)\n",
    "            continue\n",
    "        # elif element_row[\"extract_from_free_text\"] == \"Y\":\n",
    "        else:\n",
    "            elements_schema[element_row[\"name\"]] = {\n",
    "                \"description\": element_row[\"description\"].strip(),\n",
    "                \"type\": \"string\",\n",
    "            }\n",
    "    return elements_schema\n",
    "\n",
    "\n",
    "def create_section_json_schema_from_rows(section_rows: List[List[str]]) -> Dict:\n",
    "    SECTION_ROW = 1\n",
    "    ELEMENT_HEADER_ROW = 2\n",
    "\n",
    "    section_row = row_list_to_dict(section_rows[SECTION_ROW])\n",
    "\n",
    "    return (\n",
    "        {\n",
    "            section_row[\"name\"]: {\n",
    "                \"type\": \"object\",\n",
    "                \"description\": section_row[\"description\"],\n",
    "                \"properties\": element_rows_to_json_schema(\n",
    "                    section_rows[ELEMENT_HEADER_ROW + 1 :]\n",
    "                ),\n",
    "            }\n",
    "        }\n",
    "        # if section_row[\"extract_from_free_text\"] == \"Y\"\n",
    "        # else {}\n",
    "    )\n",
    "\n",
    "\n",
    "def create_schema_from_rows(rows: List[List[str]]) -> Dict:\n",
    "    section_schema = {}\n",
    "    section_rows: List[List[str]] = []\n",
    "    for row in rows:\n",
    "        if all(element is None for element in row):\n",
    "            section = create_section_json_schema_from_rows(section_rows)\n",
    "            if section:\n",
    "                section_schema.update(section)\n",
    "            section_rows = []\n",
    "        else:\n",
    "            section_rows.append(row)\n",
    "    section = create_section_json_schema_from_rows(section_rows)\n",
    "    if section:\n",
    "        section_schema.update(section)\n",
    "    return {\"type\": \"object\", \"properties\": section_schema}"
   ]
  },
  {
   "cell_type": "code",
   "execution_count": null,
   "metadata": {},
   "outputs": [],
   "source": [
    "schema = create_schema_from_rows(rows)\n",
    "# GUIDELINES_JSON_PATH.write_text(json.dumps(schema, indent=4))"
   ]
  },
  {
   "cell_type": "code",
   "execution_count": null,
   "metadata": {},
   "outputs": [],
   "source": [
    "reader = PyPDF2.PdfReader(GUIDELINES_IMPLEMENTATION_PDF_PATH)"
   ]
  },
  {
   "cell_type": "code",
   "execution_count": null,
   "metadata": {},
   "outputs": [],
   "source": [
    "text = [line for page in reader.pages for line in page.extract_text().split(\"\\n\")]\n",
    "text = [\n",
    "    re.sub(\n",
    "        (\n",
    "            \"(PRSB eDischarge Summary  – Implementation Guidance  V2.1)|(January 2019 \"\n",
    "            r\" Page \\d+  )|(January 2019  Page \\d+  )\"\n",
    "        ),\n",
    "        \"\",\n",
    "        line,\n",
    "    ).strip()\n",
    "    for line in text\n",
    "]\n",
    "text = [re.sub(\" {2,}\", \" \", line) for line in text]\n",
    "text = [re.sub(\"reco rd\", \"record\", line) for line in text]\n",
    "text = [line for line in text if line]"
   ]
  },
  {
   "cell_type": "code",
   "execution_count": null,
   "metadata": {},
   "outputs": [],
   "source": [
    "last_heading_idx = len(text)\n",
    "heading_to_text = {}\n",
    "for heading_idx, line in enumerate(reversed(text)):\n",
    "    if re.match(r\"^4\\.\\d+ [A-Za-z ]+$\", line):\n",
    "        # print(text[last_heading_idx])\n",
    "        section_text = \"\\n\".join(text[len(text) - heading_idx : last_heading_idx])\n",
    "        section_text = re.sub(r\"\\d+.\\d+.\\d+ \", \"\", section_text)\n",
    "        section_text = re.sub(\"\\n(?=[a-z])\", \" \", section_text)\n",
    "        heading = re.sub(r\"\\d+.\\d+ \", \"\", line)\n",
    "        heading_to_text[heading] = section_text\n",
    "        last_heading_idx = len(text) - heading_idx - 1\n",
    "        print(text[last_heading_idx])"
   ]
  },
  {
   "cell_type": "code",
   "execution_count": null,
   "metadata": {},
   "outputs": [],
   "source": [
    "for k, v in heading_to_text.items():\n",
    "    print(k)"
   ]
  },
  {
   "cell_type": "code",
   "execution_count": null,
   "metadata": {},
   "outputs": [],
   "source": [
    "set(heading_to_text.keys()) - set(schema[\"properties\"].keys())"
   ]
  },
  {
   "cell_type": "code",
   "execution_count": null,
   "metadata": {},
   "outputs": [],
   "source": [
    "schema[\"properties\"].keys()"
   ]
  },
  {
   "cell_type": "code",
   "execution_count": null,
   "metadata": {},
   "outputs": [],
   "source": [
    "print(json.dumps(schema, indent=4))"
   ]
  },
  {
   "cell_type": "code",
   "execution_count": null,
   "metadata": {},
   "outputs": [],
   "source": [
    "GUIDELINES_JSON_PATH"
   ]
  }
 ],
 "metadata": {
  "kernelspec": {
   "display_name": ".venv",
   "language": "python",
   "name": "python3"
  },
  "language_info": {
   "codemirror_mode": {
    "name": "ipython",
    "version": 3
   },
   "file_extension": ".py",
   "mimetype": "text/x-python",
   "name": "python",
   "nbconvert_exporter": "python",
   "pygments_lexer": "ipython3",
   "version": "3.8.17"
  }
 },
 "nbformat": 4,
 "nbformat_minor": 2
}
