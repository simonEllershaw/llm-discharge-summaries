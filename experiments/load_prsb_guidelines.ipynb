{
 "cells": [
  {
   "cell_type": "code",
   "execution_count": null,
   "metadata": {},
   "outputs": [],
   "source": [
    "import json\n",
    "import re\n",
    "from pathlib import Path\n",
    "from typing import List, Optional\n",
    "\n",
    "import openpyxl\n",
    "\n",
    "from discharge_summaries.schemas.prsb_guidelines import Element, Section"
   ]
  },
  {
   "cell_type": "code",
   "execution_count": null,
   "metadata": {},
   "outputs": [],
   "source": [
    "GUIDELINES_DIR = Path.cwd().parent / \"guidelines\"\n",
    "GUIDELINES_EXCEL_PATH = GUIDELINES_DIR / \"eDischarge-Summary-v2.1-1st-Feb-21.xlsx\"\n",
    "GUIDELINES_JSON_PATH = (\n",
    "    GUIDELINES_DIR / \"eDischarge-Summary-v2.1-1st-Feb-21_extract_text_elements.json\"\n",
    ")"
   ]
  },
  {
   "cell_type": "code",
   "execution_count": null,
   "metadata": {},
   "outputs": [],
   "source": [
    "sheet = openpyxl.load_workbook(GUIDELINES_EXCEL_PATH)[\"Sheet1\"]\n",
    "rows = list(sheet.iter_rows(values_only=True, min_row=4))"
   ]
  },
  {
   "cell_type": "code",
   "execution_count": null,
   "metadata": {},
   "outputs": [],
   "source": [
    "test = re.match(\n",
    "    \"This is a [a-z]+ record entry\", \"This is a Distribution list record entry.\"\n",
    ")\n",
    "test"
   ]
  },
  {
   "cell_type": "code",
   "execution_count": null,
   "metadata": {},
   "outputs": [],
   "source": [
    "def create_section_from_rows(section_rows: List[str]) -> Optional[Section]:\n",
    "    SECTION_ROW = 1\n",
    "    ELEMENT_HEADER_ROW = 2\n",
    "    field_name_to_idx = {\n",
    "        \"name\": 0,\n",
    "        \"description\": 1,\n",
    "        \"cardinality\": 2,\n",
    "        \"data_type\": 3,\n",
    "        \"values\": 4,\n",
    "        \"extract_from_free_text\": 5,\n",
    "    }\n",
    "\n",
    "    section_row = section_rows[SECTION_ROW]\n",
    "    if section_row[field_name_to_idx[\"extract_from_free_text\"]] == \"N\":\n",
    "        return None\n",
    "\n",
    "    first_element_row = section_rows[ELEMENT_HEADER_ROW + 1]\n",
    "    if (\n",
    "        first_element_row[field_name_to_idx[\"values\"]] == \"\"\n",
    "        and \"record entry\" in first_element_row[field_name_to_idx[\"description\"]]\n",
    "    ):\n",
    "        is_record = True\n",
    "        start_idx = ELEMENT_HEADER_ROW + 2\n",
    "    else:\n",
    "        is_record = False\n",
    "        start_idx = ELEMENT_HEADER_ROW + 1\n",
    "\n",
    "    elements = []\n",
    "    for element_row in section_rows[start_idx:]:\n",
    "        if element_row[field_name_to_idx[\"extract_from_free_text\"]] == \"N\":\n",
    "            continue\n",
    "        if all(field is None for field in element_row[1:]):\n",
    "            continue\n",
    "\n",
    "        elements.append(\n",
    "            Element(\n",
    "                name=element_row[field_name_to_idx[\"name\"]].strip(),\n",
    "                description=element_row[field_name_to_idx[\"description\"]].strip(),\n",
    "                cardinality=element_row[field_name_to_idx[\"cardinality\"]].strip(),\n",
    "                values=(\n",
    "                    element_row[field_name_to_idx[\"values\"]].strip()\n",
    "                    if element_row[field_name_to_idx[\"values\"]]\n",
    "                    else \"\"\n",
    "                ),\n",
    "            )\n",
    "        )\n",
    "    return Section(\n",
    "        name=section_row[field_name_to_idx[\"name\"]].strip(),\n",
    "        description=section_row[field_name_to_idx[\"description\"]].strip(),\n",
    "        is_record=is_record,\n",
    "        elements=elements,\n",
    "    )\n",
    "\n",
    "\n",
    "sections = []\n",
    "section_rows: List[str] = []\n",
    "for row in rows:\n",
    "    if all(element is None for element in row):\n",
    "        section = create_section_from_rows(section_rows)\n",
    "        if section:\n",
    "            sections.append(section)\n",
    "        section_rows = []\n",
    "    else:\n",
    "        section_rows.append(row)\n",
    "section = create_section_from_rows(section_rows)"
   ]
  },
  {
   "cell_type": "code",
   "execution_count": null,
   "metadata": {},
   "outputs": [],
   "source": [
    "with open(GUIDELINES_JSON_PATH, \"w\") as f:\n",
    "    json.dump([section.dict() for section in sections], f, indent=4)"
   ]
  }
 ],
 "metadata": {
  "kernelspec": {
   "display_name": ".venv",
   "language": "python",
   "name": "python3"
  },
  "language_info": {
   "codemirror_mode": {
    "name": "ipython",
    "version": 3
   },
   "file_extension": ".py",
   "mimetype": "text/x-python",
   "name": "python",
   "nbconvert_exporter": "python",
   "pygments_lexer": "ipython3",
   "version": "3.8.17"
  }
 },
 "nbformat": 4,
 "nbformat_minor": 2
}
