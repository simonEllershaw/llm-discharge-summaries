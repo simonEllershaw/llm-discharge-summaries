{
 "cells": [
  {
   "cell_type": "code",
   "execution_count": null,
   "metadata": {},
   "outputs": [],
   "source": [
    "import json\n",
    "from pathlib import Path\n",
    "from typing import Dict, List\n",
    "\n",
    "import openpyxl\n",
    "\n",
    "from discharge_summaries.schemas.prsb_guidelines import Element, RecordEntry, Section"
   ]
  },
  {
   "cell_type": "code",
   "execution_count": null,
   "metadata": {},
   "outputs": [],
   "source": [
    "GUIDELINES_DIR = Path.cwd().parent / \"guidelines\"\n",
    "GUIDELINES_EXCEL_PATH = GUIDELINES_DIR / \"eDischarge-Summary-v2.1-1st-Feb-21.xlsx\"\n",
    "GUIDELINES_JSON_PATH = (\n",
    "    GUIDELINES_DIR / \"eDischarge-Summary-v2.1-1st-Feb-21_pydantic.json\"\n",
    ")"
   ]
  },
  {
   "cell_type": "code",
   "execution_count": null,
   "metadata": {},
   "outputs": [],
   "source": [
    "sheet = openpyxl.load_workbook(GUIDELINES_EXCEL_PATH)[\"Sheet1\"]\n",
    "rows = list(sheet.iter_rows(values_only=True, min_row=4))"
   ]
  },
  {
   "cell_type": "code",
   "execution_count": null,
   "metadata": {},
   "outputs": [],
   "source": [
    "def rows_to_dict(row: List[str]) -> Dict[str, str]:\n",
    "    return {\n",
    "        \"name\": row[0].strip() if row[0] else \"\",\n",
    "        \"description\": row[1].strip() if row[1] else \"\",\n",
    "        \"cardinality\": row[2].strip() if row[2] else \"\",\n",
    "        \"data_type\": row[3].strip() if row[3] else \"\",\n",
    "        \"values\": row[4].strip() if row[4] else \"\",\n",
    "        \"extract_from_free_text\": row[5].strip() if row[5] else \"\",\n",
    "    }\n",
    "\n",
    "\n",
    "def rows_to_elements(\n",
    "    rows: List[List[str]],\n",
    ") -> list[Element]:\n",
    "    elements = []\n",
    "    for element_row_list in rows:\n",
    "        element_row = rows_to_dict(element_row_list)\n",
    "        if any(field == \"\" for field in element_row.values()):\n",
    "            print(element_row)\n",
    "            continue\n",
    "        elif element_row[\"extract_from_free_text\"] == \"Y\":\n",
    "            elements.append(\n",
    "                Element(\n",
    "                    name=element_row[\"name\"], description=element_row[\"description\"]\n",
    "                )\n",
    "            )\n",
    "    return elements\n",
    "\n",
    "\n",
    "def rows_to_elements_or_record_entry(\n",
    "    rows: List[List[str]],\n",
    ") -> RecordEntry | list[Element]:\n",
    "    first_element_row = rows_to_dict(rows[0])\n",
    "    if (\n",
    "        first_element_row[\"values\"] == \"\"\n",
    "        and \"record entry\" in first_element_row[\"description\"]\n",
    "    ):\n",
    "        return RecordEntry(\n",
    "            name=first_element_row[\"name\"],\n",
    "            description=first_element_row[\"description\"],\n",
    "            elements=rows_to_elements(rows[1:]),\n",
    "        )\n",
    "    else:\n",
    "        return rows_to_elements(rows)\n",
    "\n",
    "\n",
    "def rows_to_section(section_rows: List[List[str]]) -> Section | None:\n",
    "    SECTION_ROW = 1\n",
    "    ELEMENT_HEADER_ROW = 2\n",
    "\n",
    "    section_row = rows_to_dict(section_rows[SECTION_ROW])\n",
    "    return (\n",
    "        Section(\n",
    "            name=section_row[\"name\"],\n",
    "            description=section_row[\"description\"],\n",
    "            elements=rows_to_elements_or_record_entry(\n",
    "                section_rows[ELEMENT_HEADER_ROW + 1 :]\n",
    "            ),\n",
    "        )\n",
    "        if section_row[\"extract_from_free_text\"] == \"Y\"\n",
    "        else None\n",
    "    )\n",
    "\n",
    "\n",
    "def rows_to_schema(rows: List[List[str]]) -> list[Section]:\n",
    "    section_models = []\n",
    "    section_rows: List[List[str]] = []\n",
    "    for row in rows:\n",
    "        if all(element is None for element in row):\n",
    "            section_models.append(rows_to_section(section_rows))\n",
    "            section_rows = []\n",
    "        else:\n",
    "            section_rows.append(row)\n",
    "    section_models.append(rows_to_section(section_rows))\n",
    "    return [section for section in section_models if section]"
   ]
  },
  {
   "cell_type": "code",
   "execution_count": null,
   "metadata": {},
   "outputs": [],
   "source": [
    "schema = rows_to_schema(rows)\n",
    "schema_dict = [section.model_dump() for section in schema]\n",
    "schema_dict[:3]"
   ]
  },
  {
   "cell_type": "code",
   "execution_count": null,
   "metadata": {},
   "outputs": [],
   "source": [
    "GUIDELINES_JSON_PATH.write_text(json.dumps(schema_dict, indent=4))"
   ]
  }
 ],
 "metadata": {
  "kernelspec": {
   "display_name": ".venv",
   "language": "python",
   "name": "python3"
  },
  "language_info": {
   "codemirror_mode": {
    "name": "ipython",
    "version": 3
   },
   "file_extension": ".py",
   "mimetype": "text/x-python",
   "name": "python",
   "nbconvert_exporter": "python",
   "pygments_lexer": "ipython3",
   "version": "3.11.4"
  }
 },
 "nbformat": 4,
 "nbformat_minor": 2
}
