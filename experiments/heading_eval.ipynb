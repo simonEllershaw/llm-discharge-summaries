{
 "cells": [
  {
   "cell_type": "code",
   "execution_count": null,
   "metadata": {},
   "outputs": [],
   "source": [
    "import pickle\n",
    "from pathlib import Path\n",
    "\n",
    "from medcat.cat import CAT\n",
    "from tqdm.notebook import tqdm\n",
    "\n",
    "from discharge_summaries.schemas.medcat import MedCATSpan\n",
    "from discharge_summaries.schemas.mimic import Record"
   ]
  },
  {
   "cell_type": "code",
   "execution_count": null,
   "metadata": {},
   "outputs": [],
   "source": [
    "DATA_DIR = Path.cwd().parent / \"data\"\n",
    "GT_DATA_PATH = DATA_DIR / \"train.pkl\"\n",
    "\n",
    "MODEL_PATH = (\n",
    "    Path.cwd().parent\n",
    "    / \"models\"\n",
    "    / \"mc_modelpack_snomed_int_16_mar_2022_25be3857ba34bdd5.zip\"\n",
    ")"
   ]
  },
  {
   "cell_type": "code",
   "execution_count": null,
   "metadata": {},
   "outputs": [],
   "source": [
    "with open(GT_DATA_PATH, \"rb\") as in_file:\n",
    "    gt_dataset = [Record(**record) for record in pickle.load(in_file)]\n",
    "len(gt_dataset)"
   ]
  },
  {
   "cell_type": "code",
   "execution_count": null,
   "metadata": {},
   "outputs": [],
   "source": [
    "categories = {note.category for record in gt_dataset for note in record.physician_notes}\n",
    "categories"
   ]
  },
  {
   "cell_type": "code",
   "execution_count": null,
   "metadata": {},
   "outputs": [],
   "source": [
    "cat = CAT.load_model_pack(MODEL_PATH)"
   ]
  },
  {
   "cell_type": "code",
   "execution_count": null,
   "metadata": {},
   "outputs": [],
   "source": [
    "cat.pipe.force_remove(\"Status\")\n",
    "cat.pipe.spacy_nlp.pipeline"
   ]
  },
  {
   "cell_type": "markdown",
   "metadata": {},
   "source": [
    "https://lhncbc.nlm.nih.gov/semanticnetwork/download.html"
   ]
  },
  {
   "cell_type": "code",
   "execution_count": null,
   "metadata": {},
   "outputs": [],
   "source": [
    "# Disorders + [Virus, Bacterium]\n",
    "type_ids_filter = [\n",
    "    \"T020\",\n",
    "    \"T190\",\n",
    "    \"T049\",\n",
    "    \"T019\",\n",
    "    \"T047\",\n",
    "    \"T050\",\n",
    "    \"T033\",\n",
    "    \"T037\",\n",
    "    \"T048\",\n",
    "    \"T191\",\n",
    "    \"T046\",\n",
    "    \"T184\",\n",
    "] + [\"T005\", \"T007\"]\n",
    "\n",
    "cui_filters = {\n",
    "    cui\n",
    "    for type_ids in type_ids_filter\n",
    "    for cui in cat.cdb.addl_info[\"type_id2cuis\"][type_ids]\n",
    "}\n",
    "cat.cdb.config.linking[\"filters\"][\"cuis\"] = cui_filters"
   ]
  },
  {
   "cell_type": "code",
   "execution_count": null,
   "metadata": {},
   "outputs": [],
   "source": [
    "def cui_to_name(cui: str, cat: CAT) -> str:\n",
    "    return cat.cdb.get_name(cui)\n",
    "\n",
    "\n",
    "def cuis_to_names(cuis: list[str], cat: CAT) -> list[str]:\n",
    "    return sorted(cat.cdb.get_name(cui) for cui in cuis)"
   ]
  },
  {
   "cell_type": "code",
   "execution_count": null,
   "metadata": {},
   "outputs": [],
   "source": [
    "def extract_spans(text: str, cat: CAT) -> list[MedCATSpan]:\n",
    "    spans = []\n",
    "    annotated_text = cat(text)\n",
    "    if annotated_text:\n",
    "        for ent in annotated_text.ents:\n",
    "            context = text[\n",
    "                max(0, ent.start_char - 30) : min(ent.end_char + 30, len(text))\n",
    "            ]\n",
    "            spans.append(MedCATSpan.from_spacy_span(ent, cat, context=context))\n",
    "    return spans\n",
    "\n",
    "\n",
    "def extract_cuis(text: str, cat: CAT) -> set[str]:\n",
    "    annotated_text = cat(text)\n",
    "    if not annotated_text:\n",
    "        return set()\n",
    "    return {ent._.cui for ent in annotated_text.ents}"
   ]
  },
  {
   "cell_type": "code",
   "execution_count": null,
   "metadata": {},
   "outputs": [],
   "source": [
    "# num_hits = 0\n",
    "# num_gts = 0\n",
    "# for sample in tqdm(gt_dataset[:10]):\n",
    "#     note_cuis = {\n",
    "#         cui\n",
    "#         for note in tqdm(sample.physician_notes)\n",
    "#         for cui in extract_cuis(note.text, cat)\n",
    "#     }\n",
    "#     for para in sample.discharge_summary.bhc_paragraphs:\n",
    "#         heading_cuis = extract_cuis(para.heading, cat)\n",
    "#         if not heading_cuis:\n",
    "#             continue\n",
    "#         if heading_cuis.intersection(note_cuis):\n",
    "#             num_hits += 1\n",
    "#         num_gts += 1\n",
    "\n",
    "# num_hits / num_gts"
   ]
  },
  {
   "cell_type": "code",
   "execution_count": null,
   "metadata": {},
   "outputs": [],
   "source": [
    "num_hits = 0\n",
    "num_gts = 0\n",
    "num_preds = 0\n",
    "for sample in tqdm(gt_dataset[:100]):\n",
    "    note_cuis = {\n",
    "        cui\n",
    "        for note in sample.physician_notes\n",
    "        if note.category == \"Physician \"\n",
    "        for cui in extract_cuis(note.text, cat)\n",
    "    }\n",
    "    for para in sample.discharge_summary.bhc_paragraphs:\n",
    "        heading_cuis = extract_cuis(para.heading, cat)\n",
    "        if not heading_cuis:\n",
    "            continue\n",
    "        if heading_cuis.intersection(note_cuis):\n",
    "            num_hits += 1\n",
    "        num_gts += 1\n",
    "    num_preds += len(note_cuis)\n",
    "\n",
    "num_hits / num_gts, num_hits / num_preds"
   ]
  },
  {
   "cell_type": "code",
   "execution_count": null,
   "metadata": {},
   "outputs": [],
   "source": [
    "sample = gt_dataset[6]\n",
    "note_spans = [\n",
    "    span\n",
    "    for note in tqdm(sample.physician_notes)\n",
    "    for span in extract_spans(note.text, cat)\n",
    "]\n",
    "discharge_spans = [\n",
    "    extract_spans(para.heading, cat) for para in sample.discharge_summary.bhc_paragraphs\n",
    "]"
   ]
  },
  {
   "cell_type": "code",
   "execution_count": null,
   "metadata": {},
   "outputs": [],
   "source": [
    "note_cui_to_span = {span.cui: span for span in note_spans}\n",
    "discharge_cui_to_span = [\n",
    "    {span.cui: span for span in para_spans} for para_spans in discharge_spans\n",
    "]"
   ]
  },
  {
   "cell_type": "code",
   "execution_count": null,
   "metadata": {},
   "outputs": [],
   "source": [
    "discharge_cui_to_span"
   ]
  },
  {
   "cell_type": "code",
   "execution_count": null,
   "metadata": {},
   "outputs": [],
   "source": [
    "note_cuis = set(note_cui_to_span.keys())\n",
    "misses = []\n",
    "num_hits = 0\n",
    "num_gts = 0\n",
    "for heading_cui_to_span in discharge_cui_to_span:\n",
    "    if not heading_cui_to_span:\n",
    "        continue\n",
    "    elif note_cuis.intersection(heading_cui_to_span.keys()):\n",
    "        num_hits += 1\n",
    "    else:\n",
    "        misses.extend(\n",
    "            [(span.name, span.context) for span in heading_cui_to_span.values()]\n",
    "        )\n",
    "    num_gts += 1\n",
    "num_hits / num_gts"
   ]
  },
  {
   "cell_type": "code",
   "execution_count": null,
   "metadata": {},
   "outputs": [],
   "source": [
    "print(sample.discharge_summary.bhc)"
   ]
  },
  {
   "cell_type": "code",
   "execution_count": null,
   "metadata": {},
   "outputs": [],
   "source": [
    "[\n",
    "    [span.name for span in heading_cui_to_span.values()]\n",
    "    for heading_cui_to_span in discharge_cui_to_span\n",
    "]"
   ]
  },
  {
   "cell_type": "code",
   "execution_count": null,
   "metadata": {},
   "outputs": [],
   "source": [
    "misses"
   ]
  },
  {
   "cell_type": "code",
   "execution_count": null,
   "metadata": {},
   "outputs": [],
   "source": [
    "[(note_cui_to_span[cui].name, note_cui_to_span[cui].context) for cui in note_cuis]"
   ]
  },
  {
   "cell_type": "code",
   "execution_count": null,
   "metadata": {},
   "outputs": [],
   "source": [
    "for note in sample.physician_notes:\n",
    "    print(note.category)\n",
    "    print(note.text)\n",
    "    print(\"*\" * 80)"
   ]
  }
 ],
 "metadata": {
  "kernelspec": {
   "display_name": ".venv",
   "language": "python",
   "name": "python3"
  },
  "language_info": {
   "codemirror_mode": {
    "name": "ipython",
    "version": 3
   },
   "file_extension": ".py",
   "mimetype": "text/x-python",
   "name": "python",
   "nbconvert_exporter": "python",
   "pygments_lexer": "ipython3",
   "version": "3.11.3"
  }
 },
 "nbformat": 4,
 "nbformat_minor": 2
}
