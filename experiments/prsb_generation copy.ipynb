{
 "cells": [
  {
   "cell_type": "code",
   "execution_count": null,
   "metadata": {},
   "outputs": [],
   "source": [
    "import json\n",
    "import os\n",
    "import pickle\n",
    "from pathlib import Path\n",
    "from typing import List\n",
    "\n",
    "from dotenv import load_dotenv\n",
    "\n",
    "from discharge_summaries.openai_llm.chat_models import AzureOpenAIChatModel\n",
    "from discharge_summaries.openai_llm.message import Message, Role\n",
    "from discharge_summaries.openai_llm.token_count import (\n",
    "    num_tokens_from_messages_azure_engine,\n",
    ")\n",
    "from discharge_summaries.schemas.mimic import Note, Record"
   ]
  },
  {
   "cell_type": "code",
   "execution_count": null,
   "metadata": {},
   "outputs": [],
   "source": [
    "load_dotenv()"
   ]
  },
  {
   "cell_type": "code",
   "execution_count": null,
   "metadata": {},
   "outputs": [],
   "source": [
    "DATA_DIR = Path.cwd().parent / \"data\"\n",
    "OUTPUT_DIR = Path.cwd() / \"output\"\n",
    "\n",
    "\n",
    "TRAINING_DATASET_PATH = DATA_DIR / \"train_all_ds.pkl\"\n",
    "RANDOM_SEED = 23\n",
    "AZURE_ENGINE = \"gpt-4-32k\"\n",
    "AZURE_API_VERSION = \"2023-07-01-preview\"\n",
    "# AZURE_ENGINE = \"gpt-35-turbo\"\n",
    "# AZURE_API_VERSION = \"2023-07-01-preview\"\n",
    "\n",
    "GUIDELINES_JSON_SCHEMA_PATH = (\n",
    "    Path.cwd().parent / \"guidelines\" / \"eDischarge-Summary-v2.1-1st-Feb-21_schema.json\"\n",
    ")\n",
    "\n",
    "PRSB_EXAMPLE_FPATH = DATA_DIR / \"prsb_example.txt\"\n",
    "PRSB_EXAMPLE_GT_FPATH = DATA_DIR / \"prsb_example_gt.txt\""
   ]
  },
  {
   "cell_type": "code",
   "execution_count": null,
   "metadata": {},
   "outputs": [],
   "source": [
    "with open(TRAINING_DATASET_PATH, \"rb\") as in_file:\n",
    "    dataset = [Record(**record) for record in pickle.load(in_file)]\n",
    "dataset = dataset[:5]\n",
    "len(dataset)"
   ]
  },
  {
   "cell_type": "code",
   "execution_count": null,
   "metadata": {},
   "outputs": [],
   "source": [
    "sample = dataset[0]\n",
    "physican_notes = sample.physician_notes\n",
    "discharge_summary = [sample.discharge_summary]"
   ]
  },
  {
   "cell_type": "markdown",
   "metadata": {},
   "source": [
    "Remove indents (save tokens)"
   ]
  },
  {
   "cell_type": "code",
   "execution_count": null,
   "metadata": {},
   "outputs": [],
   "source": [
    "guidelines_json_schema_json = json.loads(GUIDELINES_JSON_SCHEMA_PATH.read_text())\n",
    "guidelines_json_schema_str = json.dumps(guidelines_json_schema_json)"
   ]
  },
  {
   "cell_type": "code",
   "execution_count": null,
   "metadata": {},
   "outputs": [],
   "source": [
    "llm = AzureOpenAIChatModel(\n",
    "    api_base=os.getenv(\"AZURE_OPENAI_ENDPOINT\"),\n",
    "    api_key=os.getenv(\"AZURE_OPENAI_KEY\"),\n",
    "    api_version=AZURE_API_VERSION,\n",
    "    engine=AZURE_ENGINE,\n",
    "    temperature=0,\n",
    "    timeout=20,\n",
    ")"
   ]
  },
  {
   "cell_type": "code",
   "execution_count": null,
   "metadata": {},
   "outputs": [],
   "source": [
    "SYSTEM_MESSAGE = Message(\n",
    "    role=Role.SYSTEM,\n",
    "    content=f\"\"\"You are a consultant doctor tasked with writing a patients discharge summary.\n",
    "Only the information in the physician notes provided by the user can be used for this task.\n",
    "Each physician note has a title of the format Physician Note [number]: [timestamp].\n",
    "\n",
    "The discharge summary must be written in accordance with the following json schema.\n",
    "{guidelines_json_schema_str}\n",
    "If the information is not present to fill in a field, answer it with an empty string.\n",
    "\"\"\",\n",
    ")"
   ]
  },
  {
   "cell_type": "code",
   "execution_count": null,
   "metadata": {},
   "outputs": [],
   "source": [
    "num_tokens_from_messages_azure_engine([SYSTEM_MESSAGE], AZURE_ENGINE, AZURE_API_VERSION)"
   ]
  },
  {
   "cell_type": "code",
   "execution_count": null,
   "metadata": {},
   "outputs": [],
   "source": [
    "def generate_notes_string(notes: List[Note]):\n",
    "    return \"\\n\\n\".join(\n",
    "        f\"Physician Note {idx+1}: {note.datetime}\\n{note.text}\"\n",
    "        for idx, note in enumerate(notes)\n",
    "    )\n",
    "\n",
    "\n",
    "def generate_discharge_summary(\n",
    "    notes: List[Note], max_prompt_tokens=31000\n",
    ") -> List[Message]:\n",
    "    notes_string = generate_notes_string(notes)\n",
    "    user_message_content = (\n",
    "        \"Generate the discharge summary json given the following physician\"\n",
    "        f\" notes\\n\\n{notes_string}\"\n",
    "    )\n",
    "    prompt_messages = [\n",
    "        SYSTEM_MESSAGE,\n",
    "        Message(role=Role.USER, content=user_message_content),\n",
    "    ]\n",
    "\n",
    "    num_prompt_tokens = num_tokens_from_messages_azure_engine(\n",
    "        prompt_messages, AZURE_ENGINE, AZURE_API_VERSION\n",
    "    )\n",
    "    if num_prompt_tokens > max_prompt_tokens:\n",
    "        raise ValueError(\n",
    "            f\"Prompt has {num_prompt_tokens} tokens, which is greater than the max of\"\n",
    "            f\" {max_prompt_tokens}.\"\n",
    "        )\n",
    "\n",
    "    return prompt_messages + [llm.query(prompt_messages)]\n",
    "\n",
    "\n",
    "def save_output(output: List[Message], output_fpath: Path):\n",
    "    completion = json.loads(output[-1].content)\n",
    "    file_output = {\n",
    "        \"Completion\": completion,\n",
    "        \"Prompts\": [message.dict() for message in output[:-1]],\n",
    "    }\n",
    "    output_fpath.write_text(json.dumps(file_output, indent=4))"
   ]
  },
  {
   "cell_type": "code",
   "execution_count": null,
   "metadata": {},
   "outputs": [],
   "source": [
    "output = generate_discharge_summary(physican_notes)\n",
    "save_output(output, OUTPUT_DIR / \"0_mimic_example.json\")"
   ]
  },
  {
   "cell_type": "code",
   "execution_count": null,
   "metadata": {},
   "outputs": [],
   "source": [
    "output = generate_discharge_summary(discharge_summary)\n",
    "save_output(output, OUTPUT_DIR / \"0_mimic_example_gt.json\")"
   ]
  }
 ],
 "metadata": {
  "kernelspec": {
   "display_name": ".venv",
   "language": "python",
   "name": "python3"
  },
  "language_info": {
   "codemirror_mode": {
    "name": "ipython",
    "version": 3
   },
   "file_extension": ".py",
   "mimetype": "text/x-python",
   "name": "python",
   "nbconvert_exporter": "python",
   "pygments_lexer": "ipython3",
   "version": "3.8.17"
  }
 },
 "nbformat": 4,
 "nbformat_minor": 2
}
