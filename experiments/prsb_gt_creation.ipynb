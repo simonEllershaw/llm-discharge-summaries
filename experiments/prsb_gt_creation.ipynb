{
 "cells": [
  {
   "cell_type": "code",
   "execution_count": null,
   "metadata": {},
   "outputs": [],
   "source": [
    "import json\n",
    "import pickle\n",
    "import re\n",
    "from collections import Counter\n",
    "from pathlib import Path\n",
    "\n",
    "from tqdm.notebook import tqdm\n",
    "\n",
    "from discharge_summaries.schemas.mimic import Record"
   ]
  },
  {
   "cell_type": "code",
   "execution_count": null,
   "metadata": {},
   "outputs": [],
   "source": [
    "DATA_DIR = Path.cwd().parent / \"data\"\n",
    "OUTPUT_DIR = Path.cwd() / \"output\"\n",
    "\n",
    "\n",
    "TRAINING_DATASET_PATH = DATA_DIR / \"train_all_ds.pkl\"\n",
    "RANDOM_SEED = 23\n",
    "AZURE_ENGINE = \"gpt-4-32k\"\n",
    "AZURE_API_VERSION = \"2023-07-01-preview\"\n",
    "# AZURE_ENGINE = \"gpt-35-turbo\"\n",
    "# AZURE_API_VERSION = \"2023-07-01-preview\"\n",
    "\n",
    "GUIDELINES_PYDANTIC_PATH = (\n",
    "    Path.cwd().parent\n",
    "    / \"guidelines\"\n",
    "    / \"eDischarge-Summary-v2.1-1st-Feb-21_pydantic.json\"\n",
    ")"
   ]
  },
  {
   "cell_type": "code",
   "execution_count": null,
   "metadata": {},
   "outputs": [],
   "source": [
    "with open(TRAINING_DATASET_PATH, \"rb\") as in_file:\n",
    "    dataset = [Record(**record) for record in pickle.load(in_file)]\n",
    "len(dataset)"
   ]
  },
  {
   "cell_type": "code",
   "execution_count": null,
   "metadata": {},
   "outputs": [],
   "source": [
    "titles = Counter(\n",
    "    title\n",
    "    for record in tqdm(dataset)\n",
    "    for title in re.findall(\n",
    "        \"(?<=\\n\\n)[a-zA-Z ]*?(?=:.*?\\n)\", record.discharge_summary.text\n",
    "    )\n",
    ")"
   ]
  },
  {
   "cell_type": "code",
   "execution_count": null,
   "metadata": {},
   "outputs": [],
   "source": [
    "common_titles = [\n",
    "    title for title, count in titles.most_common() if count > len(dataset) * 0.95\n",
    "]\n",
    "common_titles"
   ]
  },
  {
   "cell_type": "code",
   "execution_count": null,
   "metadata": {},
   "outputs": [],
   "source": [
    "guideline_section_name_to_mimic_headings: dict[str, list[str]] = {\n",
    "    \"Social context\": [\"Family History\", \"Social History\"],\n",
    "    \"Individual requirements\": [],\n",
    "    \"Participation in research\": [],\n",
    "    \"Admission details\": [],\n",
    "    \"Diagnoses\": [\"Discharge Diagnosis\"],\n",
    "    \"Procedures\": [\"Major Surgical or Invasive Procedure\"],\n",
    "    \"Clinical summary\": [\"Brief Hospital Course\"],\n",
    "    \"Investigation results\": [\"Pertinent Results\"],\n",
    "    \"Assessment scale\": [],\n",
    "    \"Legal information\": [],\n",
    "    \"Safety alerts\": [],\n",
    "    \"Allergies and adverse reactions\": [\"Allergies\"],\n",
    "    \"Patient and carer concerns, expectations and wishes\": [],\n",
    "    \"Information and advice given\": [],\n",
    "    \"Plan and requested actions\": [\"Discharge Instructions\", \"Followup Instructions\"],\n",
    "}"
   ]
  },
  {
   "cell_type": "code",
   "execution_count": null,
   "metadata": {},
   "outputs": [],
   "source": [
    "def mimic_discharge_summary_to_prsb_format(\n",
    "    discharge_summary_text: str,\n",
    "    mimic_title_headings: list[str],\n",
    "    prsb_section_name_to_mimic_heading: dict[str, list[str]],\n",
    "):\n",
    "    title_to_body = {}\n",
    "    for section in re.split(\n",
    "        f\"\\n\\n(?=(?:{'|'.join(common_titles)}):.*?\\n)\", discharge_summary_text\n",
    "    ):\n",
    "        title_and_body = section.split(\":\", maxsplit=1)\n",
    "        title_to_body[title_and_body[0]] = title_and_body[1].strip()\n",
    "\n",
    "    assert {\n",
    "        heading\n",
    "        for headings in guideline_section_name_to_mimic_headings.values()\n",
    "        for heading in headings\n",
    "    } - set(title_to_body.keys()) == set()\n",
    "\n",
    "    return {\n",
    "        section_name: \"\\n\\n\".join(title_to_body[heading] for heading in mimic_headings)\n",
    "        for section_name, mimic_headings in guideline_section_name_to_mimic_headings.items()\n",
    "    }"
   ]
  },
  {
   "cell_type": "code",
   "execution_count": null,
   "metadata": {},
   "outputs": [],
   "source": [
    "for idx, record in enumerate(dataset[:2]):\n",
    "    prsb_format_summary = mimic_discharge_summary_to_prsb_format(\n",
    "        record.discharge_summary.text,\n",
    "        common_titles,\n",
    "        guideline_section_name_to_mimic_headings,\n",
    "    )\n",
    "    (OUTPUT_DIR / f\"{idx}_json_schema_gt.txt\").write_text(\n",
    "        json.dumps(prsb_format_summary, indent=4)\n",
    "    )"
   ]
  }
 ],
 "metadata": {
  "kernelspec": {
   "display_name": ".venv",
   "language": "python",
   "name": "python3"
  },
  "language_info": {
   "codemirror_mode": {
    "name": "ipython",
    "version": 3
   },
   "file_extension": ".py",
   "mimetype": "text/x-python",
   "name": "python",
   "nbconvert_exporter": "python",
   "pygments_lexer": "ipython3",
   "version": "3.8.17"
  }
 },
 "nbformat": 4,
 "nbformat_minor": 2
}
