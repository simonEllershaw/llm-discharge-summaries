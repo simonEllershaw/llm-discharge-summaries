{
  "cells": [
    {
      "cell_type": "code",
      "execution_count": null,
      "metadata": {},
      "outputs": [],
      "source": [
        "import asyncio\n",
        "import json\n",
        "import os\n",
        "import pickle\n",
        "import re\n",
        "from collections import defaultdict\n",
        "from datetime import datetime\n",
        "from pathlib import Path\n",
        "\n",
        "from dotenv import load_dotenv\n",
        "\n",
        "# from langchain.chains import LLMChain\n",
        "# from langchain.chat_models import AzureChatOpenAI\n",
        "from medcat.cat import CAT\n",
        "from spacy.pipeline import Sentencizer\n",
        "from tqdm.notebook import tqdm\n",
        "\n",
        "from discharge_summaries.openai_llm.chat_models import AzureOpenAIChatModel, ChatModel\n",
        "from discharge_summaries.openai_llm.prompts import generate_diagnosis_summary_prompt\n",
        "\n",
        "# from discharge_summaries.prompts.diagnosis_summary import diagnosis_summary_prompt\n",
        "from discharge_summaries.schemas.medcat import MedCATSpan\n",
        "from discharge_summaries.schemas.mimic import Note, Record\n",
        "from discharge_summaries.schemas.output import Paragraph\n",
        "\n",
        "from discharge_summaries.openai_llm.message import Message, Role"
      ]
    },
    {
      "cell_type": "code",
      "execution_count": null,
      "metadata": {},
      "outputs": [],
      "source": [
        "DATA_DIR = Path.cwd().parent / \"data\"\n",
        "OUTPUT_DIR = Path.cwd() / \"output_medcat\"\n",
        "DATA_PATH = DATA_DIR / \"train.pkl\"\n",
        "\n",
        "MODEL_PATH = Path.cwd().parent / \"models\" / \"umls_sm_pt2ch_533bab5115c6c2d6.zip\""
      ]
    },
    {
      "cell_type": "code",
      "execution_count": null,
      "metadata": {},
      "outputs": [],
      "source": [
        "with open(DATA_PATH, \"rb\") as in_file:\n",
        "    dataset = [Record(**record) for record in pickle.load(in_file)]\n",
        "# dataset = dataset\n",
        "len(dataset)"
      ]
    },
    {
      "cell_type": "code",
      "execution_count": null,
      "metadata": {},
      "outputs": [],
      "source": [
        "sample = dataset[1]\n",
        "inputs = [note.text for note in sample.physician_notes]\n",
        "gts = [para.heading for para in sample.discharge_summary.bhc_paragraphs]"
      ]
    },
    {
      "cell_type": "code",
      "execution_count": null,
      "metadata": {},
      "outputs": [],
      "source": [
        "len(inputs)"
      ]
    },
    {
      "cell_type": "code",
      "execution_count": null,
      "metadata": {},
      "outputs": [],
      "source": [
        "gts"
      ]
    },
    {
      "cell_type": "code",
      "execution_count": null,
      "metadata": {},
      "outputs": [],
      "source": [
        "cat = CAT.load_model_pack(MODEL_PATH)\n",
        "cat.pipe.force_remove(\"Status\")\n",
        "type_ids_filter = [\n",
        "    \"T020\",\n",
        "    \"T190\",\n",
        "    \"T049\",\n",
        "    \"T019\",\n",
        "    \"T047\",\n",
        "    \"T050\",\n",
        "    \"T033\",\n",
        "    \"T037\",\n",
        "    \"T048\",\n",
        "    \"T191\",\n",
        "    \"T046\",\n",
        "    \"T184\",\n",
        "] + [\"T005\", \"T007\"]\n",
        "cui_filters = {\n",
        "    cui\n",
        "    for type_ids in type_ids_filter\n",
        "    for cui in cat.cdb.addl_info[\"type_id2cuis\"][type_ids]\n",
        "}\n",
        "cat.cdb.config.linking[\"filters\"][\"cuis\"] = cui_filters\n",
        "cat.pipe._nlp.add_pipe(\n",
        "    \"sentencizer\", config={\"punct_chars\": Sentencizer.default_punct_chars.append(\"\\n\")}\n",
        ")\n",
        "cat.pipe._nlp.enable_pipe(\"sentencizer\")"
      ]
    },
    {
      "cell_type": "code",
      "execution_count": null,
      "metadata": {},
      "outputs": [],
      "source": [
        "def annotate_medcat_entities(\n",
        "    text: str, cat: CAT, num_context_sentences=1\n",
        ") -> list[MedCATSpan]:\n",
        "    doc = cat(text)\n",
        "    if not doc:\n",
        "        return []\n",
        "    sentences = list(doc.sents)\n",
        "    total_context_sentences = 2 * num_context_sentences + 1\n",
        "    ents = []\n",
        "    for sent_idx, sent in enumerate(doc.sents):\n",
        "        if total_context_sentences > len(sentences):\n",
        "            context = sentences\n",
        "        elif sent_idx - num_context_sentences < 0:\n",
        "            context = sentences[:total_context_sentences]\n",
        "        elif sent_idx + num_context_sentences + 1 > len(sentences):\n",
        "            context = sentences[-total_context_sentences:]\n",
        "        else:\n",
        "            context = sentences[\n",
        "                sent_idx - num_context_sentences : sent_idx + num_context_sentences + 1\n",
        "            ]\n",
        "        context_str = \" \".join([str(sent) for sent in context])\n",
        "        for ent in sent.ents:\n",
        "            ents.append(MedCATSpan.from_spacy_span(ent, cat, context=context_str))\n",
        "    return ents\n",
        "\n",
        "\n",
        "def group_entities_by_cui(entities: list[MedCATSpan]) -> dict[str, list[MedCATSpan]]:\n",
        "    cui_to_entities: dict[str, list[MedCATSpan]] = defaultdict(list)\n",
        "    for entity in entities:\n",
        "        cui_to_entities[entity.cui].append(entity)\n",
        "    return cui_to_entities\n",
        "\n",
        "\n",
        "def string_to_word_set(string: str) -> set[str]:\n",
        "    return set(re.findall(r\"\\w+\", string.lower()))\n",
        "\n",
        "\n",
        "def de_duplicate_entities_based_on_content_overlap(\n",
        "    entities: list[MedCATSpan], threshold=0.75\n",
        ") -> list[MedCATSpan]:\n",
        "    unique_entities_and_set: list[tuple[MedCATSpan, set[str]]] = []\n",
        "\n",
        "    for entity in entities:\n",
        "        is_duplicate = False\n",
        "        entity_set = string_to_word_set(entity.context)\n",
        "        for _, unique_entity_set in unique_entities_and_set:\n",
        "            overlap = len(entity_set.intersection(unique_entity_set)) / len(\n",
        "                unique_entity_set\n",
        "            )\n",
        "            if overlap > threshold:\n",
        "                is_duplicate = True\n",
        "                break\n",
        "\n",
        "        if not is_duplicate:\n",
        "            unique_entities_and_set.append((entity, entity_set))\n",
        "\n",
        "    return [entity for entity, _ in unique_entities_and_set]\n",
        "\n",
        "\n",
        "def extract_cui_to_entities(\n",
        "    physician_notes: list[Note], cat: CAT\n",
        ") -> dict[str, list[MedCATSpan]]:\n",
        "    entities = [\n",
        "        ent\n",
        "        for note in physician_notes\n",
        "        # if note.category == \"Physician \"\n",
        "        for ent in annotate_medcat_entities(note, cat)\n",
        "    ]\n",
        "\n",
        "    cui_to_entities = group_entities_by_cui(entities)\n",
        "\n",
        "    cui_to_entities = {\n",
        "        cui: de_duplicate_entities_based_on_content_overlap(entities)\n",
        "        for cui, entities in cui_to_entities.items()\n",
        "    }\n",
        "\n",
        "    return cui_to_entities"
      ]
    },
    {
      "cell_type": "code",
      "execution_count": null,
      "metadata": {},
      "outputs": [],
      "source": [
        "medcat_cui_to_entities = extract_cui_to_entities(inputs, cat)"
      ]
    },
    {
      "cell_type": "code",
      "execution_count": null,
      "metadata": {},
      "outputs": [],
      "source": [
        "medcat_cui_to_entities"
      ]
    },
    {
      "cell_type": "code",
      "execution_count": null,
      "metadata": {},
      "outputs": [],
      "source": [
        "llm = AzureOpenAIChatModel(\n",
        "    api_base=os.getenv(\"AZURE_OPENAI_ENDPOINT\"),\n",
        "    api_key=os.getenv(\"AZURE_OPENAI_KEY\"),\n",
        "    api_version=\"2023-05-15\",\n",
        "    engine=\"gpt-35-turbo\",\n",
        "    temperature=0,\n",
        "    timeout=20,\n",
        ")"
      ]
    },
    {
      "cell_type": "code",
      "execution_count": null,
      "metadata": {},
      "outputs": [],
      "source": [
        "def generate_validation_prompt(\n",
        "    term: str,\n",
        ") -> list[Message]:\n",
        "    system_message = Message(\n",
        "        role=Role.SYSTEM,\n",
        "        content=f\"\"\"You are an expert medical assistant.\n",
        "Your task is to decide if a user provided term is a medical disorder.\n",
        "---\n",
        "User messages follow the format.\n",
        "Is the following term is a medical disorder?\n",
        "Term: $[term]\n",
        "---\n",
        "Assistant messages follow the format.\n",
        "$[Yes/No]\n",
        "\"\"\",\n",
        "    )\n",
        "    user_message = Message(\n",
        "        role=Role.USER,\n",
        "        content=f\"\"\"Is the following term is a medical disorder?\n",
        "Term: {term}\"\"\",\n",
        "    )\n",
        "\n",
        "    return [system_message, user_message]"
      ]
    },
    {
      "cell_type": "code",
      "execution_count": null,
      "metadata": {},
      "outputs": [],
      "source": [
        "cui_to_llm_output = {}\n",
        "\n",
        "for cui, ents in tqdm(medcat_cui_to_entities.items()):\n",
        "    name = cat.cdb.get_name(cui)\n",
        "    cui_to_llm_output[cui] = llm.query(generate_validation_prompt(name))"
      ]
    },
    {
      "cell_type": "code",
      "execution_count": null,
      "metadata": {},
      "outputs": [],
      "source": [
        "outputs"
      ]
    },
    {
      "cell_type": "code",
      "execution_count": null,
      "metadata": {},
      "outputs": [],
      "source": [
        "def generate_validation_prompt(\n",
        "    disorder_entities: list[list[MedCATSpan]],\n",
        ") -> list[Message]:\n",
        "    system_message = Message(\n",
        "        role=Role.SYSTEM,\n",
        "        content=f\"\"\"You are an expert medical assistant aiding a user to write a patient's discharge summary.\n",
        "Your task is to decide which medical disorders to include in the summary.\n",
        "This is done by analyzing extracts from the patient's medical records which explicitly mention each disorder.\n",
        "The included disorders should be those most critical to the patient's health.\n",
        "---\n",
        "User messages follow the format.\n",
        "Which of the following terms should be included in the discharge summary?\n",
        "Disorder: $[disorder]\n",
        "EHR Extracts: $[new line separated extracts from the patient's medical records mentioning the disorder]\n",
        "---\n",
        "Assistant messages follow the format.\n",
        "$[List of disorders to include in the discharge summary]\n",
        "\"\"\",\n",
        "    )\n",
        "    \n",
        "    user_content = \"\n",
        "\n",
        "\".join(f\"Disorder: {}\n",
        "EHR Extracts: {}\" for disorder, ents in disorder_entities)\n",
        "\n",
        "    user_message = Message(\n",
        "        role=Role.USER,\n",
        "        content=f\"\"\"Which of the following terms should be included in the discharge summary?\n",
        "Term: {term}\"\"\"\n",
        "    )\n",
        "\n",
        "    return [system_message, user_message]"
      ]
    },
    {
      "cell_type": "code",
      "execution_count": null,
      "metadata": {},
      "outputs": [],
      "source": [
        "filterd_cui_to_entities = {cui, ent}"
      ]
    },
    {
      "cell_type": "code",
      "execution_count": null,
      "metadata": {},
      "outputs": [],
      "source": [
        "outputs"
      ]
    },
    {
      "cell_type": "code",
      "execution_count": null,
      "metadata": {},
      "outputs": [],
      "source": []
    },
    {
      "cell_type": "code",
      "execution_count": null,
      "metadata": {},
      "outputs": [],
      "source": [
        "def generate_extract_prompt(physician_note: str) -> list[Message]:\n",
        "    system_message = Message(\n",
        "        role=Role.SYSTEM,\n",
        "        content=f\"\"\"You are an expert medical assistant aiding a user to write a patient's discharge summary.\n",
        "Your task is to write a list of confirmed medical disorders experienced by the patient during their stay to include in the discharge summary.\n",
        "This list should use UMLS preferred terms.\n",
        "You may only use information provided by the user.\n",
        "---\n",
        "User messages follow the format.\n",
        "Physician Note: $[physician note]\n",
        "---\n",
        "Assistant messages follow the format.\n",
        "$[List of UMLS preferred term disorders]\n",
        "\"\"\",\n",
        "    )\n",
        "    user_message = Message(\n",
        "        role=Role.USER,\n",
        "        content=f\"\"\"Physician Note: {physician_note}\"\"\",\n",
        "    )\n",
        "\n",
        "    return [system_message, user_message]"
      ]
    },
    {
      "cell_type": "code",
      "execution_count": null,
      "metadata": {},
      "outputs": [],
      "source": [
        "outputs = [\n",
        "    # https://stackoverflow.com/questions/55409641/asyncio-run-cannot-be-called-from-a-running-event-loop-when-using-jupyter-no\n",
        "    await llm.aquery(generate_extract_prompt(note))\n",
        "    for note in tqdm(inputs)\n",
        "]"
      ]
    },
    {
      "cell_type": "code",
      "execution_count": null,
      "metadata": {},
      "outputs": [],
      "source": [
        "outputs"
      ]
    },
    {
      "cell_type": "code",
      "execution_count": null,
      "metadata": {},
      "outputs": [],
      "source": [
        "joined_output_context = \"\\n\".join([output.content for output in outputs])\n",
        "output_cuis = {str(span._.cui) for span in cat(joined_output_context).ents}\n",
        "output_cuis"
      ]
    },
    {
      "cell_type": "code",
      "execution_count": null,
      "metadata": {},
      "outputs": [],
      "source": [
        "input_cuis = {str(span._.cui) for note in tqdm(inputs) for span in cat(note).ents}\n",
        "input_cuis"
      ]
    },
    {
      "cell_type": "code",
      "execution_count": null,
      "metadata": {},
      "outputs": [],
      "source": [
        "def cuis_to_names(cuis: list[str], cat: CAT) -> list[str]:\n",
        "    return sorted(cat.cdb.get_name(cui) for cui in cuis)"
      ]
    },
    {
      "cell_type": "code",
      "execution_count": null,
      "metadata": {},
      "outputs": [],
      "source": [
        "len(input_cuis), len(output_cuis)"
      ]
    },
    {
      "cell_type": "code",
      "execution_count": null,
      "metadata": {},
      "outputs": [],
      "source": [
        "cuis_to_names(output_cuis - input_cuis, cat)"
      ]
    },
    {
      "cell_type": "code",
      "execution_count": null,
      "metadata": {},
      "outputs": [],
      "source": [
        "cuis_to_names(set(gt_medcat_cuis) - input_cuis, cat)"
      ]
    },
    {
      "cell_type": "code",
      "execution_count": null,
      "metadata": {},
      "outputs": [],
      "source": [
        "cuis_to_names(set(gt_medcat_cuis) - output_cuis, cat)"
      ]
    },
    {
      "cell_type": "code",
      "execution_count": null,
      "metadata": {},
      "outputs": [],
      "source": [
        "sample."
      ]
    },
    {
      "cell_type": "code",
      "execution_count": null,
      "metadata": {},
      "outputs": [],
      "source": [
        "cuis_to_names(output_cuis, cat)"
      ]
    },
    {
      "cell_type": "code",
      "execution_count": null,
      "metadata": {},
      "outputs": [],
      "source": [
        "output_cui_names = cuis_to_names(output_cuis, cat)\n",
        "output_cui_names"
      ]
    },
    {
      "cell_type": "code",
      "execution_count": null,
      "metadata": {},
      "outputs": [],
      "source": [
        "def generate_reduce_cuis_prompt(physician_note: str) -> list[Message]:\n",
        "    system_message = Message(\n",
        "        role=Role.SYSTEM,\n",
        "        content=f\"\"\"You are an expert medical assistant aiding a user to write a patient's discharge summary.\n",
        "Your task is to rewrite a given list of confirmed medical disorders experienced by the patient during their stay to include in the discharge summary.\n",
        "To do this, you must reduce the list to only include the most important disorders.\n",
        "The final list must only contain terms provided by the user.\n",
        "---\n",
        "User messages follow the format.\n",
        "Disorder list: $[physician note]\n",
        "---\n",
        "Assistant messages follow the format.\n",
        "$[List of UMLS preferred term disorders]\n",
        "\"\"\",\n",
        "    )\n",
        "    user_message = Message(\n",
        "        role=Role.USER,\n",
        "        content=f\"\"\"Physician Note: {physician_note}\"\"\",\n",
        "    )\n",
        "\n",
        "    return [system_message, user_message]"
      ]
    },
    {
      "cell_type": "code",
      "execution_count": null,
      "metadata": {},
      "outputs": [],
      "source": [
        "inputs[0]"
      ]
    },
    {
      "cell_type": "code",
      "execution_count": null,
      "metadata": {},
      "outputs": [],
      "source": [
        "generate_extract_prompt(inputs[0])"
      ]
    },
    {
      "cell_type": "code",
      "execution_count": null,
      "metadata": {},
      "outputs": [],
      "source": [
        "len(inputs)"
      ]
    },
    {
      "cell_type": "code",
      "execution_count": null,
      "metadata": {},
      "outputs": [],
      "source": [
        "inputs[0].category"
      ]
    },
    {
      "cell_type": "code",
      "execution_count": null,
      "metadata": {},
      "outputs": [],
      "source": [
        "print(output.content)"
      ]
    },
    {
      "cell_type": "code",
      "execution_count": null,
      "metadata": {},
      "outputs": [],
      "source": [
        "gts"
      ]
    },
    {
      "cell_type": "code",
      "execution_count": null,
      "metadata": {},
      "outputs": [],
      "source": [
        "print(inputs[0])"
      ]
    },
    {
      "cell_type": "code",
      "execution_count": null,
      "metadata": {},
      "outputs": [],
      "source": [
        "print(sample.discharge_summary.bhc)"
      ]
    }
  ],
  "metadata": {
    "kernelspec": {
      "display_name": ".venv",
      "language": "python",
      "name": "python3"
    },
    "language_info": {
      "codemirror_mode": {
        "name": "ipython",
        "version": 3
      },
      "file_extension": ".py",
      "mimetype": "text/x-python",
      "name": "python",
      "nbconvert_exporter": "python",
      "pygments_lexer": "ipython3",
      "version": "3.10.12"
    }
  },
  "nbformat": 4,
  "nbformat_minor": 2
}
