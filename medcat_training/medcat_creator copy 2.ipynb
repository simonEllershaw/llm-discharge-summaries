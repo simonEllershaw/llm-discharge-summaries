{
 "cells": [
  {
   "cell_type": "markdown",
   "metadata": {},
   "source": [
    "https://htmlpreview.github.io/?https://github.com/CogStack/MedCATtutorials/blob/main/notebooks/specialised/Preprocessing_SNOMED_CT.html"
   ]
  },
  {
   "cell_type": "code",
   "execution_count": null,
   "metadata": {},
   "outputs": [],
   "source": [
    "import pickle\n",
    "import re\n",
    "from pathlib import Path\n",
    "\n",
    "from medcat.cat import CAT\n",
    "from tqdm.notebook import tqdm\n",
    "\n",
    "from discharge_summaries.schemas.mimic import Record"
   ]
  },
  {
   "cell_type": "code",
   "execution_count": null,
   "metadata": {},
   "outputs": [],
   "source": [
    "DATA_DIR = Path.cwd().parent / \"data\"\n",
    "GT_DATA_PATH = DATA_DIR / \"train.pkl\"\n",
    "\n",
    "MODEL_PATH = Path.cwd().parent / \"models\" / \"umls_sm_pt2ch_533bab5115c6c2d6\""
   ]
  },
  {
   "cell_type": "code",
   "execution_count": null,
   "metadata": {},
   "outputs": [],
   "source": [
    "with open(GT_DATA_PATH, \"rb\") as in_file:\n",
    "    gt_dataset = [Record(**record) for record in pickle.load(in_file)]\n",
    "len(gt_dataset)"
   ]
  },
  {
   "cell_type": "code",
   "execution_count": null,
   "metadata": {},
   "outputs": [],
   "source": [
    "cat = CAT.load_model_pack(MODEL_PATH)\n",
    "# type_ids_filter = [\n",
    "#     \"T020\",\n",
    "#     \"T190\",\n",
    "#     \"T049\",\n",
    "#     \"T019\",\n",
    "#     \"T047\",\n",
    "#     \"T050\",\n",
    "#     \"T033\",\n",
    "#     \"T037\",\n",
    "#     \"T048\",\n",
    "#     \"T191\",\n",
    "#     \"T046\",\n",
    "#     \"T184\",\n",
    "# ] + [\"T005\", \"T007\"]\n",
    "# cui_filters = {\n",
    "#     cui\n",
    "#     for type_ids in type_ids_filter\n",
    "#     for cui in cat.cdb.addl_info[\"type_id2cuis\"][type_ids]\n",
    "# }\n",
    "# cat.cdb.config.linking[\"filters\"][\"cuis\"] = cui_filters"
   ]
  },
  {
   "cell_type": "code",
   "execution_count": null,
   "metadata": {},
   "outputs": [],
   "source": [
    "num_hits = 0\n",
    "num_examples = 0\n",
    "misses = set()\n",
    "for sample in tqdm(gt_dataset):\n",
    "    for para in sample.discharge_summary.bhc_paragraphs:\n",
    "        if not para.heading:\n",
    "            continue\n",
    "        clean_heading = para.heading\n",
    "        heading_match = re.search(r\"[a-zA-Z]\", para.heading)\n",
    "        clean_heading = (\n",
    "            para.heading[heading_match.start() :] if heading_match else para.heading\n",
    "        )\n",
    "        # clean_heading = clean_heading.replace('/', ' ')\n",
    "        doc = cat(clean_heading)\n",
    "        # if not(any(word in clean_heading.lower() for word in {\"fen\", \"communication\", \"access\", \"code\"})):\n",
    "        num_examples += 1\n",
    "        if doc.ents:\n",
    "            num_hits += 1\n",
    "        else:\n",
    "            misses.add(clean_heading.lower().strip())\n",
    "\n",
    "num_hits / num_examples"
   ]
  },
  {
   "cell_type": "code",
   "execution_count": null,
   "metadata": {},
   "outputs": [],
   "source": [
    "misses"
   ]
  }
 ],
 "metadata": {
  "kernelspec": {
   "display_name": ".venv",
   "language": "python",
   "name": "python3"
  },
  "language_info": {
   "codemirror_mode": {
    "name": "ipython",
    "version": 3
   },
   "file_extension": ".py",
   "mimetype": "text/x-python",
   "name": "python",
   "nbconvert_exporter": "python",
   "pygments_lexer": "ipython3",
   "version": "3.8.16"
  }
 },
 "nbformat": 4,
 "nbformat_minor": 2
}
