{
 "cells": [
  {
   "cell_type": "markdown",
   "metadata": {},
   "source": [
    "https://htmlpreview.github.io/?https://github.com/CogStack/MedCATtutorials/blob/main/notebooks/specialised/Preprocessing_SNOMED_CT.html"
   ]
  },
  {
   "cell_type": "code",
   "execution_count": null,
   "metadata": {},
   "outputs": [],
   "source": [
    "# import medcat\n",
    "# import os\n",
    "# import logging\n",
    "# import medcat.linking.vector_context_model as vcm\n",
    "\n",
    "# LOGFILE = './medcat.log'\n",
    "# vcm.logger.level = logging.DEBUG\n",
    "\n",
    "\n",
    "# def reset_all_logger_handlers(log_file='temp_medcat.log'):\n",
    "#   # reset logger handlers in case a block is run multiple times\n",
    "#     medcat.logger.handlers = medcat.logger.handlers[:1] # include the default NullHandler\n",
    "#     vcm.logger.handlers = []\n",
    "#     # remove temp log file if it exists\n",
    "#     if os.path.exists(log_file):\n",
    "#         os.remove(log_file)\n",
    "\n",
    "# reset_all_logger_handlers(LOGFILE)\n",
    "# vcm.logger.addHandler(logging.FileHandler(LOGFILE))"
   ]
  },
  {
   "cell_type": "code",
   "execution_count": null,
   "metadata": {},
   "outputs": [],
   "source": [
    "import pickle\n",
    "from collections import Counter\n",
    "from pathlib import Path\n",
    "from typing import Dict, List, Set, Tuple\n",
    "\n",
    "import rich\n",
    "from medcat.cat import CAT\n",
    "from medcat.cdb import CDB\n",
    "from spacy.tokens import Span\n",
    "from tqdm.notebook import tqdm\n",
    "\n",
    "from discharge_summaries.schemas.mimic import Record"
   ]
  },
  {
   "cell_type": "code",
   "execution_count": null,
   "metadata": {},
   "outputs": [],
   "source": [
    "DATA_DIR = Path.cwd().parent / \"data\"\n",
    "GT_DATA_PATH = DATA_DIR / \"train.pkl\"\n",
    "\n",
    "MODEL_PATH = (\n",
    "    Path.cwd().parent\n",
    "    / \"models\"\n",
    "    / \"mc_modelpack_snomed_int_16_mar_2022_25be3857ba34bdd5.zip\"\n",
    ")"
   ]
  },
  {
   "cell_type": "markdown",
   "metadata": {},
   "source": [
    "## Load Data"
   ]
  },
  {
   "cell_type": "code",
   "execution_count": null,
   "metadata": {},
   "outputs": [],
   "source": [
    "with open(GT_DATA_PATH, \"rb\") as in_file:\n",
    "    gt_dataset = [Record(**record) for record in pickle.load(in_file)]\n",
    "len(gt_dataset)"
   ]
  },
  {
   "cell_type": "markdown",
   "metadata": {},
   "source": [
    "## Load Model"
   ]
  },
  {
   "cell_type": "code",
   "execution_count": null,
   "metadata": {},
   "outputs": [],
   "source": [
    "cat = CAT.load_model_pack(MODEL_PATH)"
   ]
  },
  {
   "cell_type": "code",
   "execution_count": null,
   "metadata": {},
   "outputs": [],
   "source": [
    "rich.print(cat.config.dict())"
   ]
  },
  {
   "cell_type": "code",
   "execution_count": null,
   "metadata": {},
   "outputs": [],
   "source": [
    "cat.config.ner.min_name_len = 2\n",
    "cat.config.ner.upper_case_limit_len = 0\n",
    "cat.config.general.spell_check_len_limit = 0"
   ]
  },
  {
   "cell_type": "code",
   "execution_count": null,
   "metadata": {},
   "outputs": [],
   "source": [
    "cat.pipe.spacy_nlp.disable_pipes([\"Status\"])"
   ]
  },
  {
   "cell_type": "markdown",
   "metadata": {},
   "source": [
    "## Helper functions"
   ]
  },
  {
   "cell_type": "code",
   "execution_count": null,
   "metadata": {},
   "outputs": [],
   "source": [
    "def annotate_dataset(dataset: List[Record], cat: CAT) -> List[List[Span]]:\n",
    "    return [\n",
    "        [\n",
    "            cat(para.heading).ents if para.heading else ()\n",
    "            for para in doc.discharge_summary.bhc_paragraphs\n",
    "        ]\n",
    "        for doc in tqdm(dataset)\n",
    "    ]\n",
    "\n",
    "\n",
    "def calc_hit_rate(dataset: List[Record], dataset_ents: List[List[Span]]):\n",
    "    num_annotated_headings = sum(\n",
    "        1 for doc_ents in dataset_ents for para_ents in doc_ents if para_ents\n",
    "    )\n",
    "    num_headings = sum(\n",
    "        1\n",
    "        for doc in dataset\n",
    "        for para in doc.discharge_summary.bhc_paragraphs\n",
    "        if para.heading\n",
    "    )\n",
    "    return num_annotated_headings / num_headings\n",
    "\n",
    "\n",
    "def get_top_n_missed_headings(\n",
    "    dataset: List[Record], dataset_ents: List[List[Span]], n=10\n",
    "):\n",
    "    missed_headings = [\n",
    "        para.heading.lower()\n",
    "        for doc, doc_ents in zip(dataset, dataset_ents)\n",
    "        for para, ents in zip(doc.discharge_summary.bhc_paragraphs, doc_ents)\n",
    "        if para.heading and not ents\n",
    "    ]\n",
    "    return Counter(missed_headings).most_common(n)"
   ]
  },
  {
   "cell_type": "markdown",
   "metadata": {},
   "source": [
    "## Off the shelf performance"
   ]
  },
  {
   "cell_type": "code",
   "execution_count": null,
   "metadata": {},
   "outputs": [],
   "source": [
    "dataset_ents = annotate_dataset(gt_dataset, cat)"
   ]
  },
  {
   "cell_type": "code",
   "execution_count": null,
   "metadata": {},
   "outputs": [],
   "source": [
    "calc_hit_rate(gt_dataset, dataset_ents)"
   ]
  },
  {
   "cell_type": "code",
   "execution_count": null,
   "metadata": {},
   "outputs": [],
   "source": [
    "get_top_n_missed_headings(gt_dataset, dataset_ents)"
   ]
  },
  {
   "cell_type": "markdown",
   "metadata": {},
   "source": [
    "## Add commonly missed concepts to model"
   ]
  },
  {
   "cell_type": "code",
   "execution_count": null,
   "metadata": {},
   "outputs": [],
   "source": [
    "def collect_missed_heading_and_bhcs(\n",
    "    dataset: List[Record], dataset_ents: List[List[Span]]\n",
    ") -> List[Tuple[str, str]]:\n",
    "    return [\n",
    "        (para.heading, doc.discharge_summary.bhc)\n",
    "        for doc, doc_ents in zip(dataset, dataset_ents)\n",
    "        for para, para_ents in zip(doc.discharge_summary.bhc_paragraphs, doc_ents)\n",
    "        if para.heading and not para_ents\n",
    "    ]\n",
    "\n",
    "\n",
    "def add_missing_heading_concepts_to_medcat_model(\n",
    "    missed_heading_and_bhcs: List[Tuple[str, str]],\n",
    "    missing_name_to_mapped_cui: Dict[str, str],\n",
    "    cat: CAT,\n",
    "):\n",
    "    # Check assumption that all added headings are 1 token long\n",
    "    for missed_heading in missing_name_to_mapped_cui.keys():\n",
    "        assert len(cat.pipe.spacy_nlp.make_doc(missed_heading)) == 1\n",
    "    for missed_heading, bhc in tqdm(missed_heading_and_bhcs):\n",
    "        mapped_cui = missing_name_to_mapped_cui.get(missed_heading.lower(), \"\")\n",
    "        if not mapped_cui:\n",
    "            continue\n",
    "\n",
    "        doc = cat.pipe.spacy_nlp.make_doc(bhc)\n",
    "        for token in doc:\n",
    "            if token.text.lower() == missed_heading.lower():\n",
    "                cat.add_and_train_concept(\n",
    "                    mapped_cui,\n",
    "                    token.text,\n",
    "                    ontologies={\"Added\"},\n",
    "                    type_ids=cat.cdb.cui2type_ids[mapped_cui],\n",
    "                    spacy_doc=doc,\n",
    "                    spacy_entity=[token],\n",
    "                )"
   ]
  },
  {
   "cell_type": "code",
   "execution_count": null,
   "metadata": {},
   "outputs": [],
   "source": [
    "missing_name_to_mapped_cui = {\n",
    "    \"code\": \"365870005\",\n",
    "    \"fen\": \"300893006\",\n",
    "    \"rhythm\": \"251149006\",\n",
    "    \"ppx\": \"169443000\",\n",
    "    \"dm\": \"73211009\",\n",
    "    \"dispo\": \"726542003\",\n",
    "    \"transaminitis\": \"160931000119108\",\n",
    "    \"comm\": \"263536004\",\n",
    "}\n",
    "\n",
    "for missed_heading, mapped_cui in missing_name_to_mapped_cui.items():\n",
    "    print(missed_heading, cat.cdb.cui2preferred_name[mapped_cui])"
   ]
  },
  {
   "cell_type": "code",
   "execution_count": null,
   "metadata": {},
   "outputs": [],
   "source": [
    "missed_heading_and_bhcs = collect_missed_heading_and_bhcs(gt_dataset, dataset_ents)\n",
    "add_missing_heading_concepts_to_medcat_model(\n",
    "    missed_heading_and_bhcs, missing_name_to_mapped_cui, cat\n",
    ")"
   ]
  },
  {
   "cell_type": "markdown",
   "metadata": {},
   "source": [
    "Sanity check training worked"
   ]
  },
  {
   "cell_type": "code",
   "execution_count": null,
   "metadata": {},
   "outputs": [],
   "source": [
    "for missed_heading in missing_name_to_mapped_cui.keys():\n",
    "    assert len(cat(missed_heading.lower()).ents) == 1\n",
    "    assert len(cat(missed_heading.upper()).ents) == 1"
   ]
  },
  {
   "cell_type": "markdown",
   "metadata": {},
   "source": [
    "### Evaluate improvement"
   ]
  },
  {
   "cell_type": "code",
   "execution_count": null,
   "metadata": {},
   "outputs": [],
   "source": [
    "dataset_ents = annotate_dataset(gt_dataset, cat)"
   ]
  },
  {
   "cell_type": "code",
   "execution_count": null,
   "metadata": {},
   "outputs": [],
   "source": [
    "calc_hit_rate(gt_dataset, dataset_ents)"
   ]
  },
  {
   "cell_type": "code",
   "execution_count": null,
   "metadata": {},
   "outputs": [],
   "source": [
    "get_top_n_missed_headings(gt_dataset, dataset_ents)"
   ]
  },
  {
   "cell_type": "markdown",
   "metadata": {},
   "source": [
    "### Now with filtering..."
   ]
  },
  {
   "cell_type": "code",
   "execution_count": null,
   "metadata": {},
   "outputs": [],
   "source": [
    "def cui_to_type_id_name(cui: str, cdb: CDB) -> Set[str]:\n",
    "    return {cdb.addl_info[\"type_id2name\"][tui_id] for tui_id in cdb.cui2type_ids[cui]}"
   ]
  },
  {
   "cell_type": "code",
   "execution_count": null,
   "metadata": {},
   "outputs": [],
   "source": [
    "Counter(\n",
    "    tuple(\n",
    "        sorted(\n",
    "            tui_name\n",
    "            for ent in para_ents\n",
    "            for tui_name in cui_to_type_id_name(ent._.cui, cat.cdb)\n",
    "        )\n",
    "    )\n",
    "    for doc_ents in dataset_ents\n",
    "    for para_ents in doc_ents\n",
    ").most_common(20)"
   ]
  },
  {
   "cell_type": "code",
   "execution_count": null,
   "metadata": {},
   "outputs": [],
   "source": [
    "filter_type_names = {\n",
    "    \"disorder\",\n",
    "    \"finding\",\n",
    "    \"morphologic abnormality\",\n",
    "    \"procedure\",\n",
    "    \"situation\",\n",
    "    \"observable entity\",\n",
    "    \"attribute\",\n",
    "    \"substance\",\n",
    "    \"organism\",\n",
    "    \"disposition\",\n",
    "}\n",
    "\n",
    "for doc_ents in dataset_ents[:100]:\n",
    "    for para_ents in doc_ents:\n",
    "        tuis = {\n",
    "            tui for ent in para_ents for tui in cui_to_type_id_name(ent._.cui, cat.cdb)\n",
    "        }\n",
    "        if para_ents and not filter_type_names.intersection(tuis):\n",
    "            print(\n",
    "                para_ents[0].doc,\n",
    "                [(ent, cui_to_type_id_name(ent._.cui, cat.cdb)) for ent in para_ents],\n",
    "            )"
   ]
  },
  {
   "cell_type": "code",
   "execution_count": null,
   "metadata": {},
   "outputs": [],
   "source": [
    "filtered_dataset_ents = [\n",
    "    [\n",
    "        [\n",
    "            ent\n",
    "            for ent in para_ents\n",
    "            if cui_to_type_id_name(ent._.cui, cat.cdb).intersection(filter_type_names)\n",
    "        ]\n",
    "        for para_ents in doc_ents\n",
    "    ]\n",
    "    for doc_ents in dataset_ents\n",
    "]"
   ]
  },
  {
   "cell_type": "code",
   "execution_count": null,
   "metadata": {},
   "outputs": [],
   "source": [
    "calc_hit_rate(gt_dataset, filtered_dataset_ents)"
   ]
  },
  {
   "cell_type": "code",
   "execution_count": null,
   "metadata": {},
   "outputs": [],
   "source": [
    "get_top_n_missed_headings(gt_dataset, filtered_dataset_ents)"
   ]
  },
  {
   "cell_type": "markdown",
   "metadata": {},
   "source": [
    "Doesn't work so commented out for now"
   ]
  },
  {
   "cell_type": "code",
   "execution_count": null,
   "metadata": {},
   "outputs": [],
   "source": [
    "# missing_name_to_mapped_cui = {\n",
    "#     \"coronaries\" : \"53741008\",\n",
    "#     \"pump\" : \"739122008\",\n",
    "#     \"contact\" : \"263536004\",\n",
    "# }\n",
    "\n",
    "# for missed_heading, mapped_cui in missing_name_to_mapped_cui.items():\n",
    "#     print(missed_heading, cat.cdb.cui2preferred_name[mapped_cui])"
   ]
  },
  {
   "cell_type": "code",
   "execution_count": null,
   "metadata": {},
   "outputs": [],
   "source": [
    "# missed_heading_and_bhcs = collect_missed_heading_and_bhcs(gt_dataset, filtered_dataset_ents)\n",
    "# add_missing_heading_concepts_to_medcat_model(\n",
    "# missed_heading_and_bhcs, missing_name_to_mapped_cui, cat\n",
    "# )"
   ]
  },
  {
   "cell_type": "code",
   "execution_count": null,
   "metadata": {},
   "outputs": [],
   "source": [
    "type_name_to_id = {\n",
    "    name: type_id for type_id, name in cat.cdb.addl_info[\"type_id2name\"].items()\n",
    "}\n",
    "\n",
    "type_ids_filter = [type_name_to_id[type_name] for type_name in filter_type_names]\n",
    "cui_filters = {\n",
    "    cui\n",
    "    for type_ids in type_ids_filter\n",
    "    for cui in cat.cdb.addl_info[\"type_id2cuis\"][type_ids]\n",
    "}\n",
    "cat.cdb.config.linking[\"filters\"][\"cuis\"] = cui_filters"
   ]
  },
  {
   "cell_type": "code",
   "execution_count": null,
   "metadata": {},
   "outputs": [],
   "source": [
    "dataset_ents = annotate_dataset(gt_dataset, cat)"
   ]
  },
  {
   "cell_type": "code",
   "execution_count": null,
   "metadata": {},
   "outputs": [],
   "source": [
    "calc_hit_rate(gt_dataset, dataset_ents)"
   ]
  },
  {
   "cell_type": "code",
   "execution_count": null,
   "metadata": {},
   "outputs": [],
   "source": [
    "get_top_n_missed_headings(gt_dataset, dataset_ents)"
   ]
  },
  {
   "cell_type": "markdown",
   "metadata": {},
   "source": [
    "## Save Model"
   ]
  },
  {
   "cell_type": "code",
   "execution_count": null,
   "metadata": {},
   "outputs": [],
   "source": [
    "cat.create_model_pack(MODEL_PATH.parent, MODEL_PATH.stem + \"mimic_tuned\")"
   ]
  }
 ],
 "metadata": {
  "kernelspec": {
   "display_name": ".venv",
   "language": "python",
   "name": "python3"
  },
  "language_info": {
   "codemirror_mode": {
    "name": "ipython",
    "version": 3
   },
   "file_extension": ".py",
   "mimetype": "text/x-python",
   "name": "python",
   "nbconvert_exporter": "python",
   "pygments_lexer": "ipython3",
   "version": "3.8.16"
  }
 },
 "nbformat": 4,
 "nbformat_minor": 2
}
