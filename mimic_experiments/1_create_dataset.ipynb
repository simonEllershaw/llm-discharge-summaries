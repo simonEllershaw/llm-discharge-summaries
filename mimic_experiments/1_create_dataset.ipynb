{
 "cells": [
  {
   "cell_type": "markdown",
   "metadata": {},
   "source": [
    "# Create Physician Note Dataset"
   ]
  },
  {
   "cell_type": "code",
   "execution_count": null,
   "metadata": {},
   "outputs": [],
   "source": [
    "import re\n",
    "from pathlib import Path\n",
    "\n",
    "import pandas as pd"
   ]
  },
  {
   "cell_type": "code",
   "execution_count": null,
   "metadata": {},
   "outputs": [],
   "source": [
    "MIMIC_III_DIR = Path.cwd() / \"inputs\" / \"physionet.org\" / \"files\" / \"mimiciii\" / \"1.4\""
   ]
  },
  {
   "attachments": {},
   "cell_type": "markdown",
   "metadata": {},
   "source": [
    "## Read in MIMIC III notes"
   ]
  },
  {
   "cell_type": "code",
   "execution_count": null,
   "metadata": {},
   "outputs": [],
   "source": [
    "full_df = pd.read_csv(MIMIC_III_DIR / \"NOTEEVENTS.csv\")"
   ]
  },
  {
   "attachments": {},
   "cell_type": "markdown",
   "metadata": {},
   "source": [
    "## Pre processing\n",
    "\n",
    "Remove error and duplicate rows"
   ]
  },
  {
   "cell_type": "code",
   "execution_count": null,
   "metadata": {},
   "outputs": [],
   "source": [
    "full_df = full_df[full_df[\"ISERROR\"] != 1]\n",
    "full_df.drop(\"ISERROR\", axis=1, inplace=True)\n",
    "full_df = full_df.drop_duplicates()\n",
    "full_df.head()"
   ]
  },
  {
   "cell_type": "code",
   "execution_count": null,
   "metadata": {},
   "outputs": [],
   "source": [
    "len(full_df), len(full_df[\"HADM_ID\"].unique())"
   ]
  },
  {
   "cell_type": "code",
   "execution_count": null,
   "metadata": {},
   "outputs": [],
   "source": [
    "full_df[\"CATEGORY\"].unique()"
   ]
  },
  {
   "cell_type": "markdown",
   "metadata": {},
   "source": [
    "Only keep hadm_ids with at least 1 physician note and 1 discharge summary"
   ]
  },
  {
   "cell_type": "code",
   "execution_count": null,
   "metadata": {},
   "outputs": [],
   "source": [
    "keep_hadm_ids = set()\n",
    "for hadm_id, group_df in full_df.groupby(\"HADM_ID\"):\n",
    "    if {\"Physician \", \"Discharge summary\"}.issubset(set(group_df[\"CATEGORY\"].unique())):\n",
    "        keep_hadm_ids.add(hadm_id)\n",
    "\n",
    "subset_df = full_df[full_df[\"HADM_ID\"].isin(keep_hadm_ids)]"
   ]
  },
  {
   "cell_type": "code",
   "execution_count": null,
   "metadata": {},
   "outputs": [],
   "source": [
    "physician_notes_df = subset_df[subset_df[\"CATEGORY\"] == \"Physician \"].copy()\n",
    "len(physician_notes_df), len(physician_notes_df[\"HADM_ID\"].unique())"
   ]
  },
  {
   "cell_type": "code",
   "execution_count": null,
   "metadata": {},
   "outputs": [],
   "source": [
    "def clean_text(text: str) -> str:\n",
    "    # Tidy up new lines\n",
    "    cleaned_text = re.sub(r\"\\n[^A-Za-z0-9]+\\n\", r\"\\n\\n\", text)\n",
    "    cleaned_text = re.sub(r\"\\n +\", r\"\\n\", cleaned_text)\n",
    "    cleaned_text = re.sub(r\"\\n{3,}\", \"\\n\\n\", cleaned_text)\n",
    "    # Remove de-id tags\n",
    "    cleaned_text = re.sub(r\"(?:\\[\\*\\*)|(?:\\*\\*\\])\", \"\", cleaned_text)\n",
    "    cleaned_text = re.sub(r\" {2,}\", \" \", cleaned_text)\n",
    "    return cleaned_text\n",
    "\n",
    "\n",
    "def clean_mimic_notes_df(mimic_notes_df: pd.DataFrame) -> pd.DataFrame:\n",
    "    # Set charttime to chartdate if charttime is null\n",
    "    mimic_notes_df[\"CHARTTIME\"] = mimic_notes_df[\"CHARTTIME\"].fillna(\n",
    "        full_df[\"CHARTDATE\"] + \" 23:59:59\"\n",
    "    )\n",
    "    mimic_notes_df = mimic_notes_df.sort_values(by=[\"HADM_ID\", \"CHARTTIME\"])\n",
    "    mimic_notes_df = mimic_notes_df.reset_index(drop=True)\n",
    "    mimic_notes_df[\"TEXT\"] = mimic_notes_df[\"TEXT\"].apply(clean_text)\n",
    "    return mimic_notes_df"
   ]
  },
  {
   "cell_type": "code",
   "execution_count": null,
   "metadata": {},
   "outputs": [],
   "source": [
    "physician_note_df = clean_mimic_notes_df(physician_notes_df)\n",
    "len(physician_note_df), len(physician_note_df[\"HADM_ID\"].unique())"
   ]
  },
  {
   "cell_type": "code",
   "execution_count": null,
   "metadata": {},
   "outputs": [],
   "source": [
    "physician_note_df.head()"
   ]
  },
  {
   "cell_type": "markdown",
   "metadata": {},
   "source": [
    "## Save cleaned notes"
   ]
  },
  {
   "cell_type": "code",
   "execution_count": null,
   "metadata": {},
   "outputs": [],
   "source": [
    "physician_note_df.to_csv(MIMIC_III_DIR / \"physician_notes_mimic.csv\")"
   ]
  }
 ],
 "metadata": {
  "kernelspec": {
   "display_name": ".venv",
   "language": "python",
   "name": "python3"
  },
  "language_info": {
   "codemirror_mode": {
    "name": "ipython",
    "version": 3
   },
   "file_extension": ".py",
   "mimetype": "text/x-python",
   "name": "python",
   "nbconvert_exporter": "python",
   "pygments_lexer": "ipython3",
   "version": "3.11.4"
  }
 },
 "nbformat": 4,
 "nbformat_minor": 2
}
