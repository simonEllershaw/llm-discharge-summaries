{
 "cells": [
  {
   "cell_type": "code",
   "execution_count": null,
   "metadata": {},
   "outputs": [],
   "source": [
    "import re\n",
    "from collections import Counter\n",
    "from pathlib import Path\n",
    "from typing import List, Set\n",
    "\n",
    "import pandas as pd\n",
    "from pydantic import BaseModel\n",
    "from spacy.lang.en import English\n",
    "from spacy.tokens.span import Span\n",
    "\n",
    "from discharge_summaries.preprocessing.preprocess_snomed import Snomed"
   ]
  },
  {
   "cell_type": "code",
   "execution_count": null,
   "metadata": {},
   "outputs": [],
   "source": [
    "MIMIC_III_DIR = (\n",
    "    Path.cwd().parent / \"data\" / \"physionet.org\" / \"files\" / \"mimiciii\" / \"1.4\"\n",
    ")\n",
    "SNOMED_DIR = Path.cwd().parent / \"data\" / \"snomed\""
   ]
  },
  {
   "cell_type": "code",
   "execution_count": null,
   "metadata": {},
   "outputs": [],
   "source": [
    "discharge_summary_df = pd.read_csv(MIMIC_III_DIR / \"discharge_summaries_mimic.csv\")"
   ]
  },
  {
   "cell_type": "code",
   "execution_count": null,
   "metadata": {},
   "outputs": [],
   "source": [
    "for text in discharge_summary_df.iloc[:5][\"BHC\"]:\n",
    "    print(text)\n",
    "    print(\"*\" * 80)"
   ]
  },
  {
   "cell_type": "code",
   "execution_count": null,
   "metadata": {},
   "outputs": [],
   "source": [
    "snomed = Snomed.load(SNOMED_DIR)"
   ]
  },
  {
   "cell_type": "code",
   "execution_count": null,
   "metadata": {},
   "outputs": [],
   "source": [
    "spacy_tokenizer = English().tokenizer"
   ]
  },
  {
   "cell_type": "code",
   "execution_count": null,
   "metadata": {},
   "outputs": [],
   "source": [
    "whole_snomed_matcher = snomed.get_phrase_matcher(\n",
    "    {\n",
    "        \"Clinical finding\",\n",
    "        \"Organism\",\n",
    "        \"Body structure, altered from its original anatomical structure\",\n",
    "    },\n",
    "    spacy_tokenizer,\n",
    ")"
   ]
  },
  {
   "cell_type": "code",
   "execution_count": null,
   "metadata": {},
   "outputs": [],
   "source": [
    "def is_subspan(sub_span: Span, span: Span) -> bool:\n",
    "    return span.start <= sub_span.start and span.end >= sub_span.end\n",
    "\n",
    "\n",
    "def filter_out_subspans(spans: List[Span]) -> List[Span]:\n",
    "    sorted_spans = sorted(\n",
    "        enumerate(spans), key=lambda idx_and_span: len(idx_and_span[1]), reverse=True\n",
    "    )\n",
    "    indices_to_keep: Set[int] = set()\n",
    "    for i, span in sorted_spans:\n",
    "        # Check if the span overlaps with any previously added spans\n",
    "        if all(not is_subspan(span, spans[j]) for j in indices_to_keep):\n",
    "            indices_to_keep.add(i)\n",
    "    return [spans[i] for i in indices_to_keep]\n",
    "\n",
    "\n",
    "def extract_snomed_cuis(heading: str, tokenizer, snomed_phrase_matcher) -> List[int]:\n",
    "    snomed_matches = snomed_phrase_matcher(tokenizer(heading), as_spans=True)\n",
    "    filtered_snomed_matches = filter_out_subspans(snomed_matches)\n",
    "    snomed_cuis = [int(span.label_) for span in filtered_snomed_matches]\n",
    "    return snomed_cuis"
   ]
  },
  {
   "cell_type": "code",
   "execution_count": null,
   "metadata": {},
   "outputs": [],
   "source": [
    "class ProblemParagraph(BaseModel):\n",
    "    heading: str\n",
    "    text: str\n",
    "    snomed_heading_cuis: List[int]\n",
    "\n",
    "\n",
    "class BHC(BaseModel):\n",
    "    hadm_id: str\n",
    "    full_text: str\n",
    "    reason_for_admission_para: str\n",
    "    problem_paragraphs: List[ProblemParagraph]\n",
    "\n",
    "\n",
    "valid_bhcs = []\n",
    "incorrect_format_bhcs = []\n",
    "for _, discharge_summary in discharge_summary_df.iterrows():\n",
    "    paragraphs = str(discharge_summary[\"BHC\"]).split(\"\\n\\n\")\n",
    "    problem_paragraphs = []\n",
    "    for para in paragraphs[1:]:\n",
    "        match = re.match(\n",
    "            r\"^([^A-Za-z]*)([A-Za-z ][^\\n]*?)([-\\.:][ \\n])(.*)\", para, re.DOTALL\n",
    "        )\n",
    "        if match:\n",
    "            heading = match.group(2).strip()\n",
    "            heading_snomed_cuis = extract_snomed_cuis(\n",
    "                heading, spacy_tokenizer, whole_snomed_matcher\n",
    "            )\n",
    "            problem_paragraphs.append(\n",
    "                ProblemParagraph(\n",
    "                    heading=heading,\n",
    "                    text=match.group(4).strip(),\n",
    "                    snomed_heading_cuis=heading_snomed_cuis,\n",
    "                )\n",
    "            )\n",
    "        else:\n",
    "            problem_paragraphs.append(\n",
    "                ProblemParagraph(heading=\"\", text=para.strip(), snomed_heading_cuis=[])\n",
    "            )\n",
    "    bhc = BHC(\n",
    "        hadm_id=str(discharge_summary[\"HADM_ID\"]),\n",
    "        full_text=str(discharge_summary[\"BHC\"]),\n",
    "        reason_for_admission_para=paragraphs[0],\n",
    "        problem_paragraphs=problem_paragraphs,\n",
    "    )\n",
    "\n",
    "    num_problem_paragraphs_w_heading = sum(\n",
    "        1 for problem_paragraph in bhc.problem_paragraphs if problem_paragraph.heading\n",
    "    )\n",
    "    if (\n",
    "        num_problem_paragraphs_w_heading > 0\n",
    "        and num_problem_paragraphs_w_heading >= len(bhc.problem_paragraphs) / 2\n",
    "    ):\n",
    "        valid_bhcs.append(bhc)\n",
    "    else:\n",
    "        incorrect_format_bhcs.append(bhc)\n",
    "len(valid_bhcs), len(incorrect_format_bhcs)"
   ]
  },
  {
   "cell_type": "code",
   "execution_count": null,
   "metadata": {},
   "outputs": [],
   "source": [
    "for bhc in incorrect_format_bhcs[:10]:\n",
    "    print(bhc.full_text)\n",
    "    print(\"*\" * 80)"
   ]
  },
  {
   "cell_type": "code",
   "execution_count": null,
   "metadata": {},
   "outputs": [],
   "source": [
    "for bhc in valid_bhcs[:10]:\n",
    "    print(bhc.full_text)\n",
    "    print(\"*\" * 80)"
   ]
  },
  {
   "cell_type": "code",
   "execution_count": null,
   "metadata": {},
   "outputs": [],
   "source": [
    "missed_heading = []\n",
    "para_count = 0\n",
    "for bhc in valid_bhcs:\n",
    "    for para in bhc.problem_paragraphs:\n",
    "        if not para.snomed_heading_cuis:\n",
    "            missed_heading.append(para.heading)\n",
    "    para_count += len(bhc.problem_paragraphs)\n",
    "len(missed_heading), para_count"
   ]
  },
  {
   "cell_type": "code",
   "execution_count": null,
   "metadata": {},
   "outputs": [],
   "source": [
    "Counter(missed_heading).most_common(20)"
   ]
  }
 ],
 "metadata": {
  "kernelspec": {
   "display_name": ".venv",
   "language": "python",
   "name": "python3"
  },
  "language_info": {
   "codemirror_mode": {
    "name": "ipython",
    "version": 3
   },
   "file_extension": ".py",
   "mimetype": "text/x-python",
   "name": "python",
   "nbconvert_exporter": "python",
   "pygments_lexer": "ipython3",
   "version": "3.8.17"
  }
 },
 "nbformat": 4,
 "nbformat_minor": 2
}
