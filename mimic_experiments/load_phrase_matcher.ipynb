{
 "cells": [
  {
   "cell_type": "code",
   "execution_count": null,
   "metadata": {},
   "outputs": [],
   "source": [
    "import pickle\n",
    "from pathlib import Path\n",
    "\n",
    "import spacy\n",
    "\n",
    "from discharge_summaries.snomed.lookup import SnomedLookup\n",
    "from discharge_summaries.snomed.phrase_matcher import SnomedPhraseMatcher"
   ]
  },
  {
   "cell_type": "code",
   "execution_count": null,
   "metadata": {},
   "outputs": [],
   "source": [
    "SNOMED_DIR = Path.cwd().parent / \"data\" / \"snomed\"\n",
    "OUTPUT_PATH = SNOMED_DIR / \"snomed_phrase_matcher.pkl\""
   ]
  },
  {
   "cell_type": "code",
   "execution_count": null,
   "metadata": {},
   "outputs": [],
   "source": [
    "snomed_lookup = SnomedLookup.load(SNOMED_DIR)\n",
    "nlp = spacy.load(\"en_core_sci_lg\", disable=[\"parser\", \"ner\"])"
   ]
  },
  {
   "cell_type": "code",
   "execution_count": null,
   "metadata": {},
   "outputs": [],
   "source": [
    "parent_cuis = {404684003, 410607006, 118956008}\n",
    "print([snomed_lookup.cui_to_preferred_term[cui] for cui in parent_cuis])"
   ]
  },
  {
   "cell_type": "code",
   "execution_count": null,
   "metadata": {},
   "outputs": [],
   "source": [
    "snomed_matcher = SnomedPhraseMatcher(\n",
    "    parent_cuis, snomed_lookup, nlp, keep_child_cuis=True\n",
    ")"
   ]
  },
  {
   "cell_type": "code",
   "execution_count": null,
   "metadata": {},
   "outputs": [],
   "source": [
    "snomed_matcher(\"The patient has a history of heart attacks.\")"
   ]
  },
  {
   "cell_type": "code",
   "execution_count": null,
   "metadata": {},
   "outputs": [],
   "source": [
    "OUTPUT_PATH.write_bytes(pickle.dumps(snomed_matcher))"
   ]
  },
  {
   "cell_type": "code",
   "execution_count": null,
   "metadata": {},
   "outputs": [],
   "source": [
    "reload_snomed_matcher = pickle.loads(OUTPUT_PATH.read_bytes())"
   ]
  }
 ],
 "metadata": {
  "kernelspec": {
   "display_name": ".venv",
   "language": "python",
   "name": "python3"
  },
  "language_info": {
   "codemirror_mode": {
    "name": "ipython",
    "version": 3
   },
   "file_extension": ".py",
   "mimetype": "text/x-python",
   "name": "python",
   "nbconvert_exporter": "python",
   "pygments_lexer": "ipython3",
   "version": "3.8.17"
  }
 },
 "nbformat": 4,
 "nbformat_minor": 2
}
