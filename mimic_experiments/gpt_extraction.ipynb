{
 "cells": [
  {
   "cell_type": "code",
   "execution_count": null,
   "metadata": {},
   "outputs": [],
   "source": [
    "%load_ext autoreload\n",
    "%autoreload 2"
   ]
  },
  {
   "cell_type": "code",
   "execution_count": null,
   "metadata": {},
   "outputs": [],
   "source": [
    "import json\n",
    "import os\n",
    "import pickle\n",
    "import textwrap\n",
    "from pathlib import Path\n",
    "\n",
    "import pandas as pd\n",
    "from dotenv import load_dotenv\n",
    "\n",
    "from discharge_summaries.openai_llm.chat_models import AzureOpenAIChatModel\n",
    "from discharge_summaries.schemas.mimic import BHC, PhysicianNote\n",
    "from discharge_summaries.snomed.lookup import SnomedLookup\n",
    "from discharge_summaries.snomed.retriever import SnomedRetriever\n",
    "from discharge_summaries.writers.bhc import BHCWriter"
   ]
  },
  {
   "cell_type": "code",
   "execution_count": null,
   "metadata": {},
   "outputs": [],
   "source": [
    "load_dotenv()"
   ]
  },
  {
   "cell_type": "code",
   "execution_count": null,
   "metadata": {},
   "outputs": [],
   "source": [
    "MIMIC_III_DIR = (\n",
    "    Path.cwd().parent / \"data\" / \"physionet.org\" / \"files\" / \"mimiciii\" / \"1.4\"\n",
    ")\n",
    "BHC_FPATH = MIMIC_III_DIR / \"BHCS.json\"\n",
    "PHYSICIAN_NOTE_FPATH = MIMIC_III_DIR / \"physician_notes_mimic.csv\"\n",
    "\n",
    "SNOMED_DIR = Path.cwd().parent / \"data\" / \"snomed\"\n",
    "TUNED_PHRASE_MATCHER_FPATH = SNOMED_DIR / \"tuned_snomed_phrase_matcher.pkl\"\n",
    "PROMPT_MESSAGE_FPATH = Path.cwd() / \"prompt_message.txt\"\n",
    "AZURE_ENGINE = \"gpt-4\"\n",
    "AZURE_API_VERSION = \"2023-07-01-preview\"\n",
    "EXAMPLE_DIR = Path.cwd() / \"example_gpt4\""
   ]
  },
  {
   "cell_type": "code",
   "execution_count": null,
   "metadata": {},
   "outputs": [],
   "source": [
    "bhcs = [BHC(**bhc_dict) for bhc_dict in json.loads(BHC_FPATH.read_text())]"
   ]
  },
  {
   "cell_type": "code",
   "execution_count": null,
   "metadata": {},
   "outputs": [],
   "source": [
    "import random\n",
    "\n",
    "train_set = random.Random(23).sample(bhcs, 100)"
   ]
  },
  {
   "cell_type": "code",
   "execution_count": null,
   "metadata": {},
   "outputs": [],
   "source": [
    "physician_notes = pd.read_csv(PHYSICIAN_NOTE_FPATH)"
   ]
  },
  {
   "cell_type": "code",
   "execution_count": null,
   "metadata": {},
   "outputs": [],
   "source": [
    "sample_bhc = train_set[4]\n",
    "sample_physician_notes = [\n",
    "    PhysicianNote(text=row[\"TEXT\"], timestamp=row[\"CHARTTIME\"], hadm_id=row[\"HADM_ID\"])\n",
    "    for _, row in physician_notes[\n",
    "        physician_notes[\"HADM_ID\"] == sample_bhc.hadm_id\n",
    "    ].iterrows()\n",
    "]"
   ]
  },
  {
   "cell_type": "code",
   "execution_count": null,
   "metadata": {},
   "outputs": [],
   "source": [
    "print(sample_bhc)"
   ]
  },
  {
   "cell_type": "code",
   "execution_count": null,
   "metadata": {},
   "outputs": [],
   "source": [
    "print(sample_bhc.full_text)"
   ]
  },
  {
   "cell_type": "code",
   "execution_count": null,
   "metadata": {},
   "outputs": [],
   "source": [
    "print(sample_physician_notes[0])"
   ]
  },
  {
   "cell_type": "markdown",
   "metadata": {},
   "source": [
    "### Load Models"
   ]
  },
  {
   "cell_type": "code",
   "execution_count": null,
   "metadata": {},
   "outputs": [],
   "source": [
    "snomed_phrase_matcher = pickle.load(TUNED_PHRASE_MATCHER_FPATH.open(\"rb\"))"
   ]
  },
  {
   "cell_type": "code",
   "execution_count": null,
   "metadata": {},
   "outputs": [],
   "source": [
    "snomed_lookup = SnomedLookup.load(SNOMED_DIR)"
   ]
  },
  {
   "cell_type": "code",
   "execution_count": null,
   "metadata": {},
   "outputs": [],
   "source": [
    "llm = AzureOpenAIChatModel(\n",
    "    api_base=os.getenv(\"AZURE_OPENAI_ENDPOINT\"),\n",
    "    api_key=os.getenv(\"AZURE_OPENAI_KEY\"),\n",
    "    api_version=AZURE_API_VERSION,\n",
    "    engine=AZURE_ENGINE,\n",
    "    temperature=0,\n",
    "    timeout=20,\n",
    ")"
   ]
  },
  {
   "cell_type": "code",
   "execution_count": null,
   "metadata": {},
   "outputs": [],
   "source": [
    "snomed_retriever = SnomedRetriever(\n",
    "    snomed_phrase_matcher, snomed_lookup, token_window_size=150\n",
    ")"
   ]
  },
  {
   "cell_type": "code",
   "execution_count": null,
   "metadata": {},
   "outputs": [],
   "source": [
    "# snomed_phrase_matcher._nlp.enable_pipe(\"parser\")"
   ]
  },
  {
   "cell_type": "code",
   "execution_count": null,
   "metadata": {},
   "outputs": [],
   "source": [
    "bhc_writer = BHCWriter(llm, snomed_retriever, train_set[:3], logging_dir=EXAMPLE_DIR)"
   ]
  },
  {
   "cell_type": "code",
   "execution_count": null,
   "metadata": {},
   "outputs": [],
   "source": [
    "bhc = bhc_writer(sample_physician_notes)"
   ]
  },
  {
   "cell_type": "code",
   "execution_count": null,
   "metadata": {},
   "outputs": [],
   "source": [
    "The patient is an 86-year-old male with a significant history of coronary artery disease (CAD), \n",
    "status post coronary artery bypass grafting (CABG), and percutaneous coronary intervention (PCI) \n",
    "to the left circumflex artery (LCx) in 2154. He presented with a one-hour history of mid-sternal, \n",
    "band-like chest pain, rated 4-24 in severity, which was not relieved by nitroglycerin. His medication \n",
    "regimen includes Amiodarone, Furosemide, Metoprolol Succinate, Nitroglycerin (as needed), \n",
    "Spironolactone, Warfarin, Aspirin, and a short course of Prednisone. The patient's \n",
    "CAD is characterized by severe native three-vessel disease, with a totally occluded right \n",
    "coronary artery (RCA), a 30% lesion in the left main artery, a 70% proximal lesion and total occlusion \n",
    "in the mid portion of the left anterior descending artery (LAD), and diffuse disease in the LCx with a \n",
    "90% mid LCx lesion involving the 2nd obtuse marginal. The patient's chest pain is likely related to his \n",
    "extensive CAD. His physical examination was unremarkable, with no signs of stasis dermatitis, ulcers, \n",
    "scars, or xanthomas, and his pulses were palpable bilaterally. His labs showed a slightly elevated \n",
    "creatinine level of 1.5, and an INR of 4.4. The patient's chest pain and CAD should continue to be\n",
    "managed with his current medication regimen, and any changes in his chest pain should prompt further\n",
    " evaluation."
   ]
  },
  {
   "cell_type": "code",
   "execution_count": null,
   "metadata": {},
   "outputs": [],
   "source": [
    "print(sample_bhc.full_text)"
   ]
  },
  {
   "cell_type": "code",
   "execution_count": null,
   "metadata": {},
   "outputs": [],
   "source": [
    "print(textwrap.fill(bhc.problem_sections[0].text, 80))"
   ]
  },
  {
   "cell_type": "code",
   "execution_count": null,
   "metadata": {},
   "outputs": [],
   "source": [
    "# Sepsis: Upon admission, patient was febrile with leukocytosis,\n",
    "left shift, lactate 2.8. UA positive as a likely source. CXR\n",
    "obtained and negative for infiltrate. Additionally, his abdomen\n",
    "was soft, non-tender, and guaiac negative. He was treated with\n",
    "IV resuscitation 4L and lactate normalized. Started on\n",
    "Ceftriaxone 1g q24H with plan to add Vancomycin if clinical\n",
    "deterioration. He did not require pressors or central line\n",
    "placement. As BPs improved to > 100mmHg systolic, patient was\n",
    "transefered to medical floor for further management. He was\n",
    "noted to have a urine culture positive to Proteus and sensitive\n",
    "to cephalosporins. He was initially started on Cefpodoxime but\n",
    "was then changed to cefuroxime as the mirco-organism was\n",
    "sensitive to this. Per discussion with family, his mental\n",
    "status returned to baseline by HD#3. He was discharged on 200mg\n",
    "Hospital1 of cefpodoxime for an additional 7 days, which may be\n",
    "switched to 250mg Hospital1 of Cefuroxime for an additional 7 days if\n",
    "permitted by pharmacy supplies. His Blood cultures will require\n",
    "follow up at Hospital1 18, as they were pending at time of discharge.\n",
    "He will also require follow up of CBC and LFTs due to start of\n",
    "the cephalosporin."
   ]
  },
  {
   "cell_type": "code",
   "execution_count": null,
   "metadata": {},
   "outputs": [],
   "source": [
    "print(sample_bhc.full_text)"
   ]
  },
  {
   "cell_type": "code",
   "execution_count": null,
   "metadata": {},
   "outputs": [],
   "source": [
    "# GIB bleed - most likely due to duodenal ulcer given CT scan.\n",
    "# GI and surgery were consulted, and given the patient and son's\n",
    "# desire for conservative management, it was agreed upon that no\n",
    "# intervention would be performed unless pt developed life\n",
    "# threatening bleed. Pt received total of 5U PRBCs last on 8-14.\n",
    "# Her Month/Day (4) was stable at 33-35 on discharge on 8-16. She was\n",
    "# tolerating a regular pureed diet with supervision given concern\n",
    "# for aspiration while recovering from UTI. She was discharged\n",
    "# home on omeprazole twice daily. her aspirin and plavix were\n",
    "# discontinued. she should discuss restarting her aspirin with\n",
    "# her primary care physician in the future."
   ]
  },
  {
   "cell_type": "code",
   "execution_count": null,
   "metadata": {},
   "outputs": [],
   "source": [
    "\"\"\"Respiratory failure - First ABG with acidemia and hypercarbia.\n",
    "Differential includes respiratory infection or mucous plugging\n",
    "vs. upper airway compromise from malignancy vs. narcotic\n",
    "overdose given home med use. Report of ?pus with intubation\n",
    "concerning for pneumonia which was more apparent on repeat CXR\n",
    "after fluid resuscitation. Suspect aspiration given altered\n",
    "mental status and location of infiltrate. Sputum culture\n",
    "pending, but with multiple organisms on gram stain. Patient\n",
    "initially on vancomycin, zosyn, and levofloxacin to cover for\n",
    "healthcare associated pneumonia and narrowed to vancomycin and\n",
    "zosyn (plus metronidazole for C.diff). Urine legionella antigen\n",
    "was negative. Ventilating very well on 9-27 with 50% FiO2\n",
    "(tidal volumes in 800s) but extubation held given transfer to\n",
    "WXVA and still with significant secretions requiring suctioning.\"\"\""
   ]
  },
  {
   "cell_type": "code",
   "execution_count": null,
   "metadata": {},
   "outputs": [],
   "source": [
    "for note in sample_physician_notes:\n",
    "    print(note.text)"
   ]
  },
  {
   "cell_type": "code",
   "execution_count": null,
   "metadata": {},
   "outputs": [],
   "source": [
    "print(sample_physician_notes[2].text)"
   ]
  },
  {
   "cell_type": "code",
   "execution_count": null,
   "metadata": {},
   "outputs": [],
   "source": [
    "print(\n",
    "    bhc_writer._extract_spans_to_text(\n",
    "        extract_spans, [note.timestamp for note in sample_physician_notes]\n",
    "    )\n",
    ")"
   ]
  },
  {
   "cell_type": "code",
   "execution_count": null,
   "metadata": {},
   "outputs": [],
   "source": [
    "finding_to_extract_text = {\n",
    "    finding: self._extract_spans_to_text(extract_spans, timestamps)\n",
    "    for finding, extract_spans in finding_to_extract_spans.items()\n",
    "    if extract_spans\n",
    "}"
   ]
  },
  {
   "cell_type": "code",
   "execution_count": null,
   "metadata": {},
   "outputs": [],
   "source": [
    "finding_to_extract_spans"
   ]
  },
  {
   "cell_type": "code",
   "execution_count": null,
   "metadata": {},
   "outputs": [],
   "source": [
    "print(textwrap.fill(bhc.full_text, 80))"
   ]
  },
  {
   "cell_type": "code",
   "execution_count": null,
   "metadata": {},
   "outputs": [],
   "source": [
    "print(sample_bhc.full_text)"
   ]
  },
  {
   "cell_type": "code",
   "execution_count": null,
   "metadata": {},
   "outputs": [],
   "source": [
    "(EXAMPLE_DIR / \"gpt_bhc.json\").write_text(json.dumps(bhc.dict(), indent=4))"
   ]
  },
  {
   "cell_type": "code",
   "execution_count": null,
   "metadata": {},
   "outputs": [],
   "source": [
    "(EXAMPLE_DIR / \"gt.txt\").write_text(sample_bhc.full_text)"
   ]
  },
  {
   "cell_type": "code",
   "execution_count": null,
   "metadata": {},
   "outputs": [],
   "source": [
    "paragraphs = [bhc.assessment_and_plan] + [\n",
    "    f\"{problem_section.heading}: {problem_section.text}\"\n",
    "    for problem_section in bhc.problem_sections\n",
    "]\n",
    "paragraphs = [textwrap.fill(para, 80) for para in paragraphs]\n",
    "(EXAMPLE_DIR / \"pred.txt\").write_text(\"\\n\\n\".join(paragraphs))"
   ]
  },
  {
   "cell_type": "code",
   "execution_count": null,
   "metadata": {},
   "outputs": [],
   "source": [
    "print(bhc.full_text)"
   ]
  }
 ],
 "metadata": {
  "kernelspec": {
   "display_name": ".venv",
   "language": "python",
   "name": "python3"
  },
  "language_info": {
   "codemirror_mode": {
    "name": "ipython",
    "version": 3
   },
   "file_extension": ".py",
   "mimetype": "text/x-python",
   "name": "python",
   "nbconvert_exporter": "python",
   "pygments_lexer": "ipython3",
   "version": "3.8.17"
  }
 },
 "nbformat": 4,
 "nbformat_minor": 2
}
