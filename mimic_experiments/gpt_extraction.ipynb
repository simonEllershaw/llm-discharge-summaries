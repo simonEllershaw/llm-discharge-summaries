{
 "cells": [
  {
   "cell_type": "code",
   "execution_count": null,
   "metadata": {},
   "outputs": [],
   "source": [
    "import json\n",
    "import os\n",
    "import pickle\n",
    "import re\n",
    "from pathlib import Path\n",
    "\n",
    "import pandas as pd\n",
    "import spacy\n",
    "from dotenv import load_dotenv\n",
    "from spacy.language import Language\n",
    "from spacy.tokens import Doc\n",
    "\n",
    "from discharge_summaries.openai_llm.chat_models import AzureOpenAIChatModel\n",
    "from discharge_summaries.openai_llm.message import Message, Role\n",
    "from discharge_summaries.schemas.mimic import BHC\n",
    "from discharge_summaries.snomed.lookup import SnomedLookup\n",
    "from discharge_summaries.snomed.retriever import SnomedRetriever"
   ]
  },
  {
   "cell_type": "code",
   "execution_count": null,
   "metadata": {},
   "outputs": [],
   "source": [
    "load_dotenv()"
   ]
  },
  {
   "cell_type": "code",
   "execution_count": null,
   "metadata": {},
   "outputs": [],
   "source": [
    "MIMIC_III_DIR = (\n",
    "    Path.cwd().parent / \"data\" / \"physionet.org\" / \"files\" / \"mimiciii\" / \"1.4\"\n",
    ")\n",
    "BHC_FPATH = MIMIC_III_DIR / \"BHCS.json\"\n",
    "PHYSICIAN_NOTE_FPATH = MIMIC_III_DIR / \"physician_notes_mimic.csv\"\n",
    "\n",
    "SNOMED_DIR = Path.cwd().parent / \"data\" / \"snomed\"\n",
    "TUNED_PHRASE_MATCHER_FPATH = SNOMED_DIR / \"tuned_snomed_phrase_matcher.pkl\"\n",
    "PROMPT_MESSAGE_FPATH = Path.cwd() / \"prompt_message.txt\"\n",
    "AZURE_ENGINE = \"gpt-35-turbo\"\n",
    "AZURE_API_VERSION = \"2023-07-01-preview\"\n",
    "EXAMPLE_DIR = Path.cwd() / \"example\""
   ]
  },
  {
   "cell_type": "code",
   "execution_count": null,
   "metadata": {},
   "outputs": [],
   "source": [
    "snomed_phrase_matcher = pickle.load(TUNED_PHRASE_MATCHER_FPATH.open(\"rb\"))"
   ]
  },
  {
   "cell_type": "code",
   "execution_count": null,
   "metadata": {},
   "outputs": [],
   "source": [
    "snomed_lookup = SnomedLookup.load(SNOMED_DIR)"
   ]
  },
  {
   "cell_type": "code",
   "execution_count": null,
   "metadata": {},
   "outputs": [],
   "source": [
    "llm = AzureOpenAIChatModel(\n",
    "    api_base=os.getenv(\"AZURE_OPENAI_ENDPOINT\"),\n",
    "    api_key=os.getenv(\"AZURE_OPENAI_KEY\"),\n",
    "    api_version=AZURE_API_VERSION,\n",
    "    engine=AZURE_ENGINE,\n",
    "    temperature=0,\n",
    "    timeout=20,\n",
    ")"
   ]
  },
  {
   "cell_type": "code",
   "execution_count": null,
   "metadata": {},
   "outputs": [],
   "source": [
    "@Language.component(\"mimic_section_splitter\")\n",
    "def regex_sentence_splitter(doc: Doc) -> Doc:\n",
    "    matches = re.finditer(r\"(?<=\\n).*?[^\\n](?=:)|(?<=\\n{2}).\", doc.text)\n",
    "    sentence_starts = {match.start() for match in matches}\n",
    "    for token in doc:\n",
    "        token.is_sent_start = True if token.idx in sentence_starts else False\n",
    "\n",
    "    return doc\n",
    "\n",
    "\n",
    "nlp_with_section_splitter = spacy.load(\"en_core_sci_lg\", disable=[\"parser\", \"ner\"])\n",
    "nlp_with_section_splitter.add_pipe(\"lower_case_lemmas\", last=True)\n",
    "nlp_with_section_splitter.add_pipe(\"mimic_section_splitter\")"
   ]
  },
  {
   "cell_type": "code",
   "execution_count": null,
   "metadata": {},
   "outputs": [],
   "source": [
    "snomed_retriever = SnomedRetriever(\n",
    "    snomed_phrase_matcher, snomed_lookup, nlp_with_section_splitter\n",
    ")"
   ]
  },
  {
   "cell_type": "code",
   "execution_count": null,
   "metadata": {},
   "outputs": [],
   "source": [
    "bhcs = [BHC(**bhc_dict) for bhc_dict in json.loads(BHC_FPATH.read_text())]\n",
    "physician_notes = pd.read_csv(PHYSICIAN_NOTE_FPATH)"
   ]
  },
  {
   "cell_type": "code",
   "execution_count": null,
   "metadata": {},
   "outputs": [],
   "source": [
    "for idx, bhc in enumerate(bhcs[:100]):\n",
    "    print(idx)\n",
    "    print(bhc.assessment_and_plan)\n",
    "    print(\"*\" * 80)"
   ]
  },
  {
   "cell_type": "code",
   "execution_count": null,
   "metadata": {},
   "outputs": [],
   "source": [
    "sample_bhc = bhcs[10]\n",
    "sample_physician_notes = physician_notes[\n",
    "    physician_notes[\"HADM_ID\"] == sample_bhc.hadm_id\n",
    "].sort_values(\"CHARTTIME\")"
   ]
  },
  {
   "cell_type": "code",
   "execution_count": null,
   "metadata": {},
   "outputs": [],
   "source": [
    "(EXAMPLE_DIR / \"bhc.txt\").write_text(sample_bhc.full_text)\n",
    "with (EXAMPLE_DIR / \"bhc.txt\").open(\"a\") as f:\n",
    "    f.write(f\"\\n{'*'*80}\\n{json.dumps(sample_bhc.dict(), indent=4)}\")"
   ]
  },
  {
   "cell_type": "markdown",
   "metadata": {},
   "source": [
    "## First Paragraph"
   ]
  },
  {
   "cell_type": "markdown",
   "metadata": {},
   "source": [
    "Bit long I think... Check average"
   ]
  },
  {
   "cell_type": "code",
   "execution_count": null,
   "metadata": {},
   "outputs": [],
   "source": [
    "examples = \"\\n\\n\".join(bhc.assessment_and_plan for bhc in bhcs[:3])\n",
    "first_para_system_message = Message(\n",
    "    role=Role.SYSTEM,\n",
    "    content=f\"\"\"You are a consultant doctor completing a medical discharge summary.\n",
    "Your task is to write the first paragraph of the summary.\n",
    "The paragraph should be 30 words long.\n",
    "The paragraph must include the patient's:\n",
    "- Age\n",
    "- Gender\n",
    "- Past medical history\n",
    "- Reason for hospital admission\n",
    "This information can be found in the admission note provided by the user.\n",
    "\n",
    "The following are examples of first paragraphs:\n",
    "{examples}\"\"\",\n",
    ")"
   ]
  },
  {
   "cell_type": "code",
   "execution_count": null,
   "metadata": {},
   "outputs": [],
   "source": [
    "first_para_user_message = Message(\n",
    "    role=Role.USER,\n",
    "    content=f\"\"\"Admission Note \n",
    "\n",
    "{sample_physician_notes.iloc[0][\"TEXT\"]}\n",
    "Please write the first paragraph of the discharge summary using the admission note and the requirements given in the system message.\n",
    "\"\"\",  # noqa\n",
    ")"
   ]
  },
  {
   "cell_type": "code",
   "execution_count": null,
   "metadata": {},
   "outputs": [],
   "source": [
    "first_para_response = llm.query([first_para_system_message, first_para_user_message])"
   ]
  },
  {
   "cell_type": "code",
   "execution_count": null,
   "metadata": {},
   "outputs": [],
   "source": [
    "message_delimiter = \"\\n\" + (\"*\" * 80) + \"\\n\"\n",
    "message_strings = message_delimiter.join(\n",
    "    f\"{message.role}\\n{message.content}\"\n",
    "    for message in [\n",
    "        first_para_system_message,\n",
    "        first_para_user_message,\n",
    "        first_para_response,\n",
    "    ]\n",
    ")\n",
    "message_strings += f\"\\n{message_delimiter}\\nMIMIC BHC\\n{sample_bhc.assessment_and_plan}\"\n",
    "(EXAMPLE_DIR / \"first_para.txt\").write_text(message_strings)"
   ]
  },
  {
   "cell_type": "markdown",
   "metadata": {},
   "source": [
    "## Findings"
   ]
  },
  {
   "cell_type": "code",
   "execution_count": null,
   "metadata": {},
   "outputs": [],
   "source": [
    "examples = \"\\n\\n\".join(\n",
    "    \"\\n\".join(\n",
    "        para.heading\n",
    "        for para in bhc.problem_sections\n",
    "        if snomed_phrase_matcher(para.heading)\n",
    "    )\n",
    "    for bhc in bhcs[:3]\n",
    ")\n",
    "findings_system_message = Message(\n",
    "    role=Role.SYSTEM,\n",
    "    content=f\"\"\"You are a consultant doctor completing a medical discharge summary.\n",
    "Your task is to list the main clinical findings made during the patient's stay.\n",
    "Each finding should be on a new line.\n",
    "Use Snomed CT preferred terms.\n",
    "This information can be found in the physician note provided by the user.\n",
    "\n",
    "The following are examples of previous patient's clinical findings:\n",
    "{examples}\"\"\",\n",
    ")"
   ]
  },
  {
   "cell_type": "code",
   "execution_count": null,
   "metadata": {},
   "outputs": [],
   "source": [
    "findings_user_message = Message(\n",
    "    role=Role.USER,\n",
    "    content=f\"\"\"Physician Note\n",
    "\n",
    "{sample_physician_notes.iloc[-1][\"TEXT\"]}\n",
    "Please write the list findings using the physician note and the requirements given in the system message.\n",
    "\"\"\",\n",
    ")"
   ]
  },
  {
   "cell_type": "code",
   "execution_count": null,
   "metadata": {},
   "outputs": [],
   "source": [
    "findings_response = llm.query([findings_system_message, findings_user_message])\n",
    "gpt_findings = set(findings_response.content.split(\"\\n\"))"
   ]
  },
  {
   "cell_type": "code",
   "execution_count": null,
   "metadata": {},
   "outputs": [],
   "source": [
    "message_delimiter = \"\\n\" + (\"*\" * 80) + \"\\n\"\n",
    "output_strings = [\n",
    "    f\"{message.role}\\n{message.content}\"\n",
    "    for message in [findings_system_message, findings_user_message]\n",
    "]\n",
    "gpt_heading_strings = \"\\n\".join(sorted(gpt_findings))\n",
    "output_strings.append(f\"{Role.ASSISTANT}\\n{gpt_heading_strings}\")\n",
    "heading_strings = \"\\n\".join(\n",
    "    sorted(para.heading for para in sample_bhc.problem_sections)\n",
    ")\n",
    "output_strings.append(f\"Mimic Headings\\n{heading_strings}\")\n",
    "(EXAMPLE_DIR / \"findings.txt\").write_text(message_delimiter.join(output_strings))"
   ]
  },
  {
   "cell_type": "markdown",
   "metadata": {},
   "source": [
    "## Retrieval"
   ]
  },
  {
   "cell_type": "code",
   "execution_count": null,
   "metadata": {},
   "outputs": [],
   "source": [
    "gpt_findings"
   ]
  },
  {
   "cell_type": "code",
   "execution_count": null,
   "metadata": {},
   "outputs": [],
   "source": [
    "retrieved_findings = snomed_retriever(sample_physician_notes[\"TEXT\"], gpt_findings)"
   ]
  },
  {
   "cell_type": "code",
   "execution_count": null,
   "metadata": {},
   "outputs": [],
   "source": [
    "timestamps = sample_physician_notes[\"CHARTTIME\"].tolist()\n",
    "finding_to_extract = {\n",
    "    finding: \"\\n\\n\".join(\n",
    "        f\"Physician Note {note_idx}, {timestamps[note_idx]}\\n{sent.text.strip()}\"\n",
    "        for note_idx, sent in note_idx_and_sents\n",
    "    )\n",
    "    for finding, note_idx_and_sents in retrieved_findings.items()\n",
    "}"
   ]
  },
  {
   "cell_type": "code",
   "execution_count": null,
   "metadata": {},
   "outputs": [],
   "source": [
    "finding_to_extract_strs = [\n",
    "    f\"{finding}\\n{extract}\" for finding, extract in finding_to_extract.items()\n",
    "]\n",
    "(EXAMPLE_DIR / \"retrieval.txt\").write_text(\n",
    "    message_delimiter.join(finding_to_extract_strs)\n",
    ")"
   ]
  }
 ],
 "metadata": {
  "kernelspec": {
   "display_name": ".venv",
   "language": "python",
   "name": "python3"
  },
  "language_info": {
   "codemirror_mode": {
    "name": "ipython",
    "version": 3
   },
   "file_extension": ".py",
   "mimetype": "text/x-python",
   "name": "python",
   "nbconvert_exporter": "python",
   "pygments_lexer": "ipython3",
   "version": "3.8.17"
  }
 },
 "nbformat": 4,
 "nbformat_minor": 2
}
