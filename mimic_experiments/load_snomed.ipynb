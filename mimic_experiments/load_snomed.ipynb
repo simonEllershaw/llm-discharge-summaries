{
 "cells": [
  {
   "cell_type": "code",
   "execution_count": null,
   "metadata": {},
   "outputs": [],
   "source": [
    "from pathlib import Path\n",
    "\n",
    "from discharge_summaries.snomed.lookup import SnomedLookup"
   ]
  },
  {
   "cell_type": "code",
   "execution_count": null,
   "metadata": {},
   "outputs": [],
   "source": [
    "SNOMED_DIR = Path.cwd().parent / \"data\" / \"snomed\"\n",
    "\n",
    "INT_DATE = \"20230731\"\n",
    "UK_EXT_DIR = \"20230927\"\n",
    "UK_DRUG_DATE = \"20230927\""
   ]
  },
  {
   "cell_type": "code",
   "execution_count": null,
   "metadata": {},
   "outputs": [],
   "source": [
    "int_terminology_dir = (\n",
    "    SNOMED_DIR\n",
    "    / f\"SnomedCT_InternationalRF2_PRODUCTION_{INT_DATE}T120000Z\"\n",
    "    / \"Snapshot\"\n",
    "    / \"Terminology\"\n",
    ")\n",
    "uk_ext_terminology_dir = (\n",
    "    SNOMED_DIR\n",
    "    / f\"SnomedCT_UKClinicalRF2_PRODUCTION_{UK_EXT_DIR}T000001Z\"\n",
    "    / \"Snapshot\"\n",
    "    / \"Terminology\"\n",
    ")\n",
    "uk_drug_ext_terminology_dir = (\n",
    "    SNOMED_DIR\n",
    "    / f\"SnomedCT_UKDrugRF2_PRODUCTION_{UK_DRUG_DATE}T000001Z\"\n",
    "    / \"Snapshot\"\n",
    "    / \"Terminology\"\n",
    ")"
   ]
  },
  {
   "cell_type": "code",
   "execution_count": null,
   "metadata": {},
   "outputs": [],
   "source": [
    "int_concepts_fpath = int_terminology_dir / f\"sct2_Concept_Snapshot_INT_{INT_DATE}.txt\"\n",
    "uk_ext_concepts_fpath = (\n",
    "    uk_ext_terminology_dir / f\"sct2_Concept_UKCLSnapshot_GB1000000_{UK_EXT_DIR}.txt\"\n",
    ")\n",
    "uk_drug_ext_concepts_fpath = (\n",
    "    uk_drug_ext_terminology_dir\n",
    "    / f\"sct2_Concept_UKDGSnapshot_GB1000001_{UK_DRUG_DATE}.txt\"\n",
    ")"
   ]
  },
  {
   "cell_type": "code",
   "execution_count": null,
   "metadata": {},
   "outputs": [],
   "source": [
    "int_description_fpath = (\n",
    "    int_terminology_dir / f\"sct2_Description_Snapshot-en_INT_{INT_DATE}.txt\"\n",
    ")\n",
    "uk_ext_description_fpath = (\n",
    "    uk_ext_terminology_dir\n",
    "    / f\"sct2_Description_UKCLSnapshot-en_GB1000000_{UK_EXT_DIR}.txt\"\n",
    ")\n",
    "uk_drug_ext_description_fpath = (\n",
    "    uk_drug_ext_terminology_dir\n",
    "    / f\"sct2_Description_UKDGSnapshot-en_GB1000001_{UK_DRUG_DATE}.txt\"\n",
    ")"
   ]
  },
  {
   "cell_type": "code",
   "execution_count": null,
   "metadata": {},
   "outputs": [],
   "source": [
    "int_relations_fpath = (\n",
    "    int_terminology_dir / f\"sct2_Relationship_Snapshot_INT_{INT_DATE}.txt\"\n",
    ")\n",
    "uk_ext_relations_fpath = (\n",
    "    uk_ext_terminology_dir\n",
    "    / f\"sct2_Relationship_UKCLSnapshot_GB1000000_{UK_EXT_DIR}.txt\"\n",
    ")\n",
    "uk_drug_ext_relations_fpath = (\n",
    "    uk_drug_ext_terminology_dir\n",
    "    / f\"sct2_Relationship_UKDGSnapshot_GB1000001_{UK_DRUG_DATE}.txt\"\n",
    ")"
   ]
  },
  {
   "cell_type": "code",
   "execution_count": null,
   "metadata": {},
   "outputs": [],
   "source": [
    "snomed = SnomedLookup.load_from_raw_snomed_files(\n",
    "    int_concepts_fpath,\n",
    "    uk_ext_concepts_fpath,\n",
    "    uk_drug_ext_concepts_fpath,\n",
    "    int_description_fpath,\n",
    "    uk_ext_description_fpath,\n",
    "    uk_drug_ext_description_fpath,\n",
    "    int_relations_fpath,\n",
    "    uk_ext_relations_fpath,\n",
    "    uk_drug_ext_relations_fpath,\n",
    ")"
   ]
  },
  {
   "cell_type": "code",
   "execution_count": null,
   "metadata": {},
   "outputs": [],
   "source": [
    "snomed.save(SNOMED_DIR)"
   ]
  },
  {
   "cell_type": "code",
   "execution_count": null,
   "metadata": {},
   "outputs": [],
   "source": [
    "reload = SnomedLookup.load(SNOMED_DIR)"
   ]
  },
  {
   "cell_type": "code",
   "execution_count": null,
   "metadata": {},
   "outputs": [],
   "source": [
    "reload.cui_to_synonyms[235595009]"
   ]
  },
  {
   "cell_type": "code",
   "execution_count": null,
   "metadata": {},
   "outputs": [],
   "source": [
    "reload.cui_to_preferred_term[44054006]"
   ]
  },
  {
   "cell_type": "code",
   "execution_count": null,
   "metadata": {},
   "outputs": [],
   "source": [
    "for cui in reload.get_child_cuis(44054006):\n",
    "    print(reload.cui_to_preferred_term[cui])"
   ]
  }
 ],
 "metadata": {
  "kernelspec": {
   "display_name": ".venv",
   "language": "python",
   "name": "python3"
  },
  "language_info": {
   "codemirror_mode": {
    "name": "ipython",
    "version": 3
   },
   "file_extension": ".py",
   "mimetype": "text/x-python",
   "name": "python",
   "nbconvert_exporter": "python",
   "pygments_lexer": "ipython3",
   "version": "3.8.17"
  }
 },
 "nbformat": 4,
 "nbformat_minor": 2
}
