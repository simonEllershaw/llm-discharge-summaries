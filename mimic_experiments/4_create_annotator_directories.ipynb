{
 "cells": [
  {
   "cell_type": "markdown",
   "metadata": {},
   "source": [
    "# Create annotator directories\n",
    "\n",
    "Splits up examples into directories, 1 for each evaluator. Ensuring 1 sample overlap between neighbors so IAA can be calculated"
   ]
  },
  {
   "cell_type": "code",
   "execution_count": null,
   "metadata": {},
   "outputs": [],
   "source": [
    "import math\n",
    "import shutil\n",
    "from pathlib import Path\n",
    "from random import Random"
   ]
  },
  {
   "cell_type": "code",
   "execution_count": null,
   "metadata": {},
   "outputs": [],
   "source": [
    "OUTPUT_DIR = Path.cwd() / \"outputs\"\n",
    "DATA_DIR = OUTPUT_DIR / \"human_readable_responses\"\n",
    "ANNOTATOR_DIR = OUTPUT_DIR / \"annotators\"\n",
    "\n",
    "NUM_ANNOTATORS = 15\n",
    "NUM_UNIQUE_SAMPLES = 4\n",
    "NUM_SHARED_SAMPLES = 1\n",
    "RANDOM_SEED = 23"
   ]
  },
  {
   "cell_type": "code",
   "execution_count": null,
   "metadata": {},
   "outputs": [],
   "source": [
    "ANNOTATOR_DIR.mkdir(exist_ok=True)"
   ]
  },
  {
   "cell_type": "code",
   "execution_count": null,
   "metadata": {},
   "outputs": [],
   "source": [
    "hadm_id_dirs = list(DATA_DIR.iterdir())\n",
    "Random(RANDOM_SEED).shuffle(hadm_id_dirs)\n",
    "len(hadm_id_dirs)"
   ]
  },
  {
   "cell_type": "code",
   "execution_count": null,
   "metadata": {},
   "outputs": [],
   "source": [
    "num_shared_dirs = math.ceil(NUM_SHARED_SAMPLES * NUM_ANNOTATORS / 2)\n",
    "shared_dirs = [dir for dir in hadm_id_dirs[:num_shared_dirs] for _ in range(2)]\n",
    "unique_dirs = [\n",
    "    hadm_id_dirs[idx : idx + NUM_UNIQUE_SAMPLES]\n",
    "    for idx in range(num_shared_dirs, len(hadm_id_dirs), NUM_UNIQUE_SAMPLES)\n",
    "]"
   ]
  },
  {
   "cell_type": "code",
   "execution_count": null,
   "metadata": {},
   "outputs": [],
   "source": [
    "for annotator_idx, (annotator_shared_dir, annotator_unique_dirs) in enumerate(\n",
    "    zip(shared_dirs, unique_dirs)\n",
    "):\n",
    "    annotator_dir = ANNOTATOR_DIR / f\"annotator_{annotator_idx+1}\"\n",
    "    annotator_dir.mkdir(exist_ok=True)\n",
    "\n",
    "    for dir in [annotator_shared_dir] + annotator_unique_dirs:\n",
    "        shutil.copytree(dir, annotator_dir / dir.stem, dirs_exist_ok=True)"
   ]
  }
 ],
 "metadata": {
  "kernelspec": {
   "display_name": ".venv",
   "language": "python",
   "name": "python3"
  },
  "language_info": {
   "codemirror_mode": {
    "name": "ipython",
    "version": 3
   },
   "file_extension": ".py",
   "mimetype": "text/x-python",
   "name": "python",
   "nbconvert_exporter": "python",
   "pygments_lexer": "ipython3",
   "version": "3.11.4"
  }
 },
 "nbformat": 4,
 "nbformat_minor": 2
}
