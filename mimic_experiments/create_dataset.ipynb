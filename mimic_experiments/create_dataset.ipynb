{
 "cells": [
  {
   "cell_type": "code",
   "execution_count": null,
   "metadata": {},
   "outputs": [],
   "source": [
    "import re\n",
    "from pathlib import Path\n",
    "\n",
    "import pandas as pd"
   ]
  },
  {
   "cell_type": "code",
   "execution_count": null,
   "metadata": {},
   "outputs": [],
   "source": [
    "MIMIC_III_DIR = (\n",
    "    Path.cwd().parent / \"data\" / \"physionet.org\" / \"files\" / \"mimiciii\" / \"1.4\"\n",
    ")"
   ]
  },
  {
   "attachments": {},
   "cell_type": "markdown",
   "metadata": {},
   "source": [
    "## Read in MIMIC III notes"
   ]
  },
  {
   "cell_type": "code",
   "execution_count": null,
   "metadata": {},
   "outputs": [],
   "source": [
    "full_df = pd.read_csv(MIMIC_III_DIR / \"NOTEEVENTS.csv\")"
   ]
  },
  {
   "attachments": {},
   "cell_type": "markdown",
   "metadata": {},
   "source": [
    "### Pre processing\n",
    "\n",
    "Remove error and duplicate rows"
   ]
  },
  {
   "cell_type": "code",
   "execution_count": null,
   "metadata": {},
   "outputs": [],
   "source": [
    "full_df = full_df[full_df[\"ISERROR\"] != 1]\n",
    "full_df.drop(\"ISERROR\", axis=1, inplace=True)\n",
    "full_df = full_df.drop_duplicates()\n",
    "full_df.head()"
   ]
  },
  {
   "cell_type": "code",
   "execution_count": null,
   "metadata": {},
   "outputs": [],
   "source": [
    "len(full_df), len(full_df[\"HADM_ID\"].unique())"
   ]
  },
  {
   "cell_type": "code",
   "execution_count": null,
   "metadata": {},
   "outputs": [],
   "source": [
    "full_df[\"CATEGORY\"].unique()"
   ]
  },
  {
   "cell_type": "code",
   "execution_count": null,
   "metadata": {},
   "outputs": [],
   "source": [
    "def clean_text(text: str) -> str:\n",
    "    # Tidy up new lines\n",
    "    cleaned_text = re.sub(r\"^[^A-Za-z0-9]*\\n\", r\"\\n\", text, flags=re.MULTILINE)\n",
    "    cleaned_text = re.sub(r\"\\n{3,}\", \"\\n\\n\", cleaned_text)\n",
    "    # Remove de-id tags\n",
    "    cleaned_text = re.sub(r\"(?:\\[\\*\\*)|(?:\\*\\*\\])\", \"\", cleaned_text)\n",
    "    cleaned_text = re.sub(r\" {2,}\", \" \", cleaned_text)\n",
    "    return cleaned_text\n",
    "\n",
    "\n",
    "def clean_mimic_notes_df(mimic_notes_df: pd.DataFrame) -> pd.DataFrame:\n",
    "    mimic_notes_df[\"CHARTTIME\"] = mimic_notes_df[\"CHARTTIME\"].fillna(\n",
    "        full_df[\"CHARTDATE\"] + \" 23:59:59\"\n",
    "    )\n",
    "    mimic_notes_df = mimic_notes_df.sort_values(by=[\"HADM_ID\", \"CHARTTIME\"])\n",
    "    mimic_notes_df = mimic_notes_df.reset_index(drop=True)\n",
    "    mimic_notes_df[\"TEXT\"] = mimic_notes_df[\"TEXT\"].apply(clean_text)\n",
    "    return mimic_notes_df"
   ]
  },
  {
   "cell_type": "code",
   "execution_count": null,
   "metadata": {},
   "outputs": [],
   "source": [
    "physician_note_hadm_ids = full_df[full_df[\"CATEGORY\"] == \"Physician \"][\n",
    "    \"HADM_ID\"\n",
    "].unique()\n",
    "subset_df = full_df[full_df[\"HADM_ID\"].isin(physician_note_hadm_ids)]\n",
    "len(physician_note_hadm_ids), len(subset_df[\"HADM_ID\"].unique())"
   ]
  },
  {
   "cell_type": "code",
   "execution_count": null,
   "metadata": {},
   "outputs": [],
   "source": [
    "physician_note_df = subset_df[subset_df[\"CATEGORY\"] == \"Physician \"].copy()\n",
    "physician_note_df = clean_mimic_notes_df(physician_note_df)\n",
    "len(physician_note_df), len(physician_note_df[\"HADM_ID\"].unique())"
   ]
  },
  {
   "cell_type": "code",
   "execution_count": null,
   "metadata": {},
   "outputs": [],
   "source": [
    "physician_note_df.head()"
   ]
  },
  {
   "cell_type": "code",
   "execution_count": null,
   "metadata": {},
   "outputs": [],
   "source": [
    "physician_note_df.to_csv(MIMIC_III_DIR / \"physician_notes_mimic.csv\")"
   ]
  },
  {
   "cell_type": "code",
   "execution_count": null,
   "metadata": {},
   "outputs": [],
   "source": [
    "discharge_summary_df = subset_df[\n",
    "    (subset_df[\"CATEGORY\"] == \"Discharge summary\")\n",
    "    & (subset_df[\"DESCRIPTION\"] == \"Report\")\n",
    "].copy()\n",
    "\n",
    "single_discharge_note_hadm_ids = set()\n",
    "for hadm_id, group in discharge_summary_df.groupby(\"HADM_ID\"):\n",
    "    if len(group) == 1:\n",
    "        single_discharge_note_hadm_ids.add(hadm_id)\n",
    "discharge_summary_df = discharge_summary_df[\n",
    "    discharge_summary_df[\"HADM_ID\"].isin(single_discharge_note_hadm_ids)\n",
    "]\n",
    "discharge_summary_df = clean_mimic_notes_df(discharge_summary_df)\n",
    "\n",
    "len(discharge_summary_df), len(discharge_summary_df[\"HADM_ID\"].unique())"
   ]
  },
  {
   "cell_type": "code",
   "execution_count": null,
   "metadata": {},
   "outputs": [],
   "source": [
    "def extract_bhc(discharge_summary_text: str) -> str:\n",
    "    start_pattern = r\"\\nBrief Hospital Course:\\n\"\n",
    "    end_pattern = r\"\\nMedications on Admission:\\n\"\n",
    "    # Match any characters between the start and end pattern\n",
    "    match = re.search(\n",
    "        f\"{start_pattern}(.*?){end_pattern}\", discharge_summary_text, re.DOTALL\n",
    "    )\n",
    "    if not match:\n",
    "        return \"\"\n",
    "    return match.group(1).strip()\n",
    "\n",
    "\n",
    "discharge_summary_df[\"BHC\"] = discharge_summary_df[\"TEXT\"].apply(extract_bhc)\n",
    "discharge_summary_df = discharge_summary_df[discharge_summary_df[\"BHC\"] != \"\"]\n",
    "len(discharge_summary_df), len(discharge_summary_df[\"HADM_ID\"].unique())"
   ]
  },
  {
   "cell_type": "code",
   "execution_count": null,
   "metadata": {},
   "outputs": [],
   "source": [
    "discharge_summary_df.to_csv(MIMIC_III_DIR / \"discharge_summaries_mimic.csv\")"
   ]
  }
 ],
 "metadata": {
  "kernelspec": {
   "display_name": ".venv",
   "language": "python",
   "name": "python3"
  },
  "language_info": {
   "codemirror_mode": {
    "name": "ipython",
    "version": 3
   },
   "file_extension": ".py",
   "mimetype": "text/x-python",
   "name": "python",
   "nbconvert_exporter": "python",
   "pygments_lexer": "ipython3",
   "version": "3.8.17"
  }
 },
 "nbformat": 4,
 "nbformat_minor": 2
}
