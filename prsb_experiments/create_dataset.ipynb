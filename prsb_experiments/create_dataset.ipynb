{
 "cells": [
  {
   "cell_type": "code",
   "execution_count": null,
   "metadata": {},
   "outputs": [],
   "source": [
    "from pathlib import Path\n",
    "\n",
    "import pandas as pd\n",
    "from tqdm.notebook import tqdm"
   ]
  },
  {
   "cell_type": "code",
   "execution_count": null,
   "metadata": {},
   "outputs": [],
   "source": [
    "MIMIC_III_DIR = (\n",
    "    Path.cwd().parent / \"data\" / \"physionet.org\" / \"files\" / \"mimiciii\" / \"1.4\"\n",
    ")"
   ]
  },
  {
   "attachments": {},
   "cell_type": "markdown",
   "metadata": {},
   "source": [
    "## Read in MIMIC III notes"
   ]
  },
  {
   "cell_type": "code",
   "execution_count": null,
   "metadata": {},
   "outputs": [],
   "source": [
    "full_df = pd.read_csv(MIMIC_III_DIR / \"NOTEEVENTS.csv\")"
   ]
  },
  {
   "attachments": {},
   "cell_type": "markdown",
   "metadata": {},
   "source": [
    "### Pre processing\n",
    "\n",
    "Remove error and duplicate rows"
   ]
  },
  {
   "cell_type": "code",
   "execution_count": null,
   "metadata": {},
   "outputs": [],
   "source": [
    "full_df = full_df[full_df[\"ISERROR\"] != 1]\n",
    "full_df.drop(\"ISERROR\", axis=1, inplace=True)\n",
    "full_df = full_df.drop_duplicates()\n",
    "full_df.head()"
   ]
  },
  {
   "cell_type": "code",
   "execution_count": null,
   "metadata": {},
   "outputs": [],
   "source": [
    "len(full_df), len(full_df[\"HADM_ID\"].unique())"
   ]
  },
  {
   "cell_type": "code",
   "execution_count": null,
   "metadata": {},
   "outputs": [],
   "source": [
    "full_df[\"CATEGORY\"].unique()"
   ]
  },
  {
   "cell_type": "code",
   "execution_count": null,
   "metadata": {},
   "outputs": [],
   "source": [
    "def clean_mimic_notes_df(mimic_notes_df: pd.DataFrame) -> pd.DataFrame:\n",
    "    mimic_notes_df[\"CHARTTIME\"] = mimic_notes_df[\"CHARTTIME\"].fillna(\n",
    "        full_df[\"CHARTDATE\"] + \" 23:59:59\"\n",
    "    )\n",
    "    mimic_notes_df = mimic_notes_df.sort_values(by=[\"HADM_ID\", \"CHARTTIME\"])\n",
    "    mimic_notes_df = mimic_notes_df.reset_index(drop=True)\n",
    "    return mimic_notes_df"
   ]
  },
  {
   "cell_type": "markdown",
   "metadata": {},
   "source": [
    "Could be written better"
   ]
  },
  {
   "cell_type": "code",
   "execution_count": null,
   "metadata": {},
   "outputs": [],
   "source": [
    "keep_hadm_id = set()\n",
    "for hadm_id, group in tqdm(full_df.groupby(\"HADM_ID\")):\n",
    "    if ((group[\"CATEGORY\"] == \"Physician \").any()) and (\n",
    "        (\n",
    "            (group[\"CATEGORY\"] == \"Discharge summary\")\n",
    "            & (group[\"DESCRIPTION\"] == \"Report\")\n",
    "        )\n",
    "    ).any():\n",
    "        keep_hadm_id.add(hadm_id)\n",
    "\n",
    "discharge_and_physician_notes_df = full_df[full_df[\"HADM_ID\"].isin(keep_hadm_id)].copy()\n",
    "discharge_and_physician_notes_df = clean_mimic_notes_df(\n",
    "    discharge_and_physician_notes_df\n",
    ")"
   ]
  },
  {
   "cell_type": "code",
   "execution_count": null,
   "metadata": {},
   "outputs": [],
   "source": [
    "physician_note_df = discharge_and_physician_notes_df[\n",
    "    discharge_and_physician_notes_df[\"CATEGORY\"] == \"Physician \"\n",
    "].copy()\n",
    "len(physician_note_df), len(physician_note_df[\"HADM_ID\"].unique())"
   ]
  },
  {
   "cell_type": "code",
   "execution_count": null,
   "metadata": {},
   "outputs": [],
   "source": [
    "physician_note_df.head()"
   ]
  },
  {
   "cell_type": "code",
   "execution_count": null,
   "metadata": {},
   "outputs": [],
   "source": [
    "physician_note_df.to_csv(MIMIC_III_DIR / \"physician_notes.csv\")"
   ]
  },
  {
   "cell_type": "code",
   "execution_count": null,
   "metadata": {},
   "outputs": [],
   "source": [
    "discharge_summary_df = discharge_and_physician_notes_df[\n",
    "    (discharge_and_physician_notes_df[\"CATEGORY\"] == \"Discharge summary\")\n",
    "].copy()\n",
    "len(discharge_summary_df), len(discharge_summary_df[\"HADM_ID\"].unique())"
   ]
  },
  {
   "cell_type": "code",
   "execution_count": null,
   "metadata": {},
   "outputs": [],
   "source": [
    "discharge_summary_df.head()"
   ]
  },
  {
   "cell_type": "code",
   "execution_count": null,
   "metadata": {},
   "outputs": [],
   "source": [
    "discharge_summary_df.to_csv(MIMIC_III_DIR / \"discharge_summaries.csv\")"
   ]
  }
 ],
 "metadata": {
  "kernelspec": {
   "display_name": ".venv",
   "language": "python",
   "name": "python3"
  },
  "language_info": {
   "codemirror_mode": {
    "name": "ipython",
    "version": 3
   },
   "file_extension": ".py",
   "mimetype": "text/x-python",
   "name": "python",
   "nbconvert_exporter": "python",
   "pygments_lexer": "ipython3",
   "version": "3.8.17"
  }
 },
 "nbformat": 4,
 "nbformat_minor": 2
}
