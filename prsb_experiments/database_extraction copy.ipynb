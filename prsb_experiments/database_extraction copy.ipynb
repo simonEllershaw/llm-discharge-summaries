{
 "cells": [
  {
   "cell_type": "code",
   "execution_count": null,
   "metadata": {},
   "outputs": [],
   "source": [
    "import random\n",
    "from pathlib import Path\n",
    "\n",
    "import pandas as pd\n",
    "import tiktoken\n",
    "from dotenv import load_dotenv\n",
    "from spacy.lang.en import English\n",
    "\n",
    "from discharge_summaries.preprocessing.preprocess_snomed import Snomed\n",
    "from discharge_summaries.structured_data_extractors.mimic import (\n",
    "    MIMICStructuredDataExtractor,\n",
    ")"
   ]
  },
  {
   "cell_type": "code",
   "execution_count": null,
   "metadata": {},
   "outputs": [],
   "source": [
    "load_dotenv()"
   ]
  },
  {
   "cell_type": "code",
   "execution_count": null,
   "metadata": {},
   "outputs": [],
   "source": [
    "MIMIC_III_DIR = (\n",
    "    Path.cwd().parent / \"data\" / \"physionet.org\" / \"files\" / \"mimiciii\" / \"1.4\"\n",
    ")\n",
    "AZURE_ENGINE = \"gpt-3-turbo-16k\"\n",
    "AZURE_API_VERSION = \"2023-07-01-preview\"\n",
    "TOKENIZER = tiktoken.get_encoding(\"cl100k_base\")\n",
    "SNOMED_DIR = Path.cwd().parent / \"data\" / \"snomed\""
   ]
  },
  {
   "cell_type": "code",
   "execution_count": null,
   "metadata": {},
   "outputs": [],
   "source": [
    "physician_notes_df = pd.read_csv(MIMIC_III_DIR / \"physician_notes.csv\")\n",
    "discharge_summary_df = pd.read_csv(MIMIC_III_DIR / \"discharge_summaries.csv\")"
   ]
  },
  {
   "cell_type": "code",
   "execution_count": null,
   "metadata": {},
   "outputs": [],
   "source": [
    "structured_data_extractor = MIMICStructuredDataExtractor(MIMIC_III_DIR)"
   ]
  },
  {
   "cell_type": "code",
   "execution_count": null,
   "metadata": {},
   "outputs": [],
   "source": [
    "hadm_ids = discharge_summary_df[\"HADM_ID\"].unique()\n",
    "random.Random(23).shuffle(hadm_ids)\n",
    "hadm_id = hadm_ids[5]\n",
    "hadm_id"
   ]
  },
  {
   "cell_type": "code",
   "execution_count": null,
   "metadata": {},
   "outputs": [],
   "source": [
    "physician_notes_hadm_id_df = physician_notes_df[\n",
    "    physician_notes_df[\"HADM_ID\"] == hadm_id\n",
    "]\n",
    "len(physician_notes_hadm_id_df)"
   ]
  },
  {
   "cell_type": "code",
   "execution_count": null,
   "metadata": {},
   "outputs": [],
   "source": [
    "structured_data_summary = structured_data_extractor.complete_prsb_discharge_summary(\n",
    "    hadm_id\n",
    ")\n",
    "# structured_data_summary_dict = structured_data_summary.dict()\n",
    "# medications_structured_data = structured_data_summary_dict.pop(\n",
    "#     \"medications_and_medical_devices\"\n",
    "# )\n",
    "# procedures_structured_data = structured_data_summary_dict.pop(\"procedures\")\n",
    "print()"
   ]
  },
  {
   "cell_type": "code",
   "execution_count": null,
   "metadata": {},
   "outputs": [],
   "source": [
    "tokenizer = English().tokenizer"
   ]
  },
  {
   "cell_type": "code",
   "execution_count": null,
   "metadata": {},
   "outputs": [],
   "source": [
    "hadm_id_drugs = structured_data_extractor.prescriptions_df[\n",
    "    structured_data_extractor.prescriptions_df[\"HADM_ID\"] == hadm_id\n",
    "]"
   ]
  },
  {
   "cell_type": "code",
   "execution_count": null,
   "metadata": {},
   "outputs": [],
   "source": [
    "hadm_id_drugs[hadm_id_drugs[\"DRUG\"] == \"HYDROmorphone (Dilaudid)\"].sort_values(\n",
    "    \"STARTDATE\"\n",
    ")"
   ]
  },
  {
   "cell_type": "code",
   "execution_count": null,
   "metadata": {},
   "outputs": [],
   "source": [
    "structured_data_summary.medications_and_medical_devices.medication_change_summary_cluster"
   ]
  },
  {
   "cell_type": "code",
   "execution_count": null,
   "metadata": {},
   "outputs": [],
   "source": []
  },
  {
   "cell_type": "code",
   "execution_count": null,
   "metadata": {},
   "outputs": [],
   "source": [
    "hadm_id_drugs_list = set(hadm_id_drugs[\"DRUG\"].tolist())\n",
    "sorted(hadm_id_drugs_list)"
   ]
  },
  {
   "cell_type": "code",
   "execution_count": null,
   "metadata": {},
   "outputs": [],
   "source": [
    "structured_data_summary.medications_and_medical_devices.medication_change_summary_cluster"
   ]
  },
  {
   "cell_type": "code",
   "execution_count": null,
   "metadata": {},
   "outputs": [],
   "source": [
    "# drug_to_cui = {drug: int(span.label_) for drug in hadm_id_drugs_list for span in whole_snomed_matcher(tokenizer(drug), as_spans=True)}\n",
    "# drug_to_cui"
   ]
  },
  {
   "cell_type": "code",
   "execution_count": null,
   "metadata": {},
   "outputs": [],
   "source": [
    "for note in physician_notes_hadm_id_df[\"TEXT\"]:\n",
    "    print(note)"
   ]
  },
  {
   "cell_type": "code",
   "execution_count": null,
   "metadata": {},
   "outputs": [],
   "source": [
    "snomed = Snomed.load(SNOMED_DIR)"
   ]
  },
  {
   "cell_type": "code",
   "execution_count": null,
   "metadata": {},
   "outputs": [],
   "source": [
    "whole_snomed_matcher = snomed.get_phrase_matcher({\"SNOMED CT Concept\"}, tokenizer)"
   ]
  },
  {
   "cell_type": "code",
   "execution_count": null,
   "metadata": {},
   "outputs": [],
   "source": [
    "doc = tokenizer(\"Paracetamol\")\n",
    "whole_snomed_matcher(doc)"
   ]
  },
  {
   "cell_type": "code",
   "execution_count": null,
   "metadata": {},
   "outputs": [],
   "source": [
    "# for drug in hadm_id_drugs_list:\n",
    "#     drug_phrase_matcher = snomed.get_phrase_matcher({drug}, tokenizer)\n",
    "#     for note in physician_notes_hadm_id_df[\"TEXT\"]:\n",
    "#         if drug_phrase_matcher(tokenizer(note), as_spans=True):\n",
    "#             print(drug)"
   ]
  },
  {
   "cell_type": "code",
   "execution_count": null,
   "metadata": {},
   "outputs": [],
   "source": [
    "# for drug in hadm_id_drugs_list:\n",
    "#     for note in physician_notes_hadm_id_df[\"TEXT\"]:\n",
    "#         if drug.lower() in note.lower():\n",
    "#             print(drug)"
   ]
  }
 ],
 "metadata": {
  "kernelspec": {
   "display_name": ".venv",
   "language": "python",
   "name": "python3"
  },
  "language_info": {
   "codemirror_mode": {
    "name": "ipython",
    "version": 3
   },
   "file_extension": ".py",
   "mimetype": "text/x-python",
   "name": "python",
   "nbconvert_exporter": "python",
   "pygments_lexer": "ipython3",
   "version": "3.8.17"
  }
 },
 "nbformat": 4,
 "nbformat_minor": 2
}
