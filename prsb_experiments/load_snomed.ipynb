{
 "cells": [
  {
   "cell_type": "code",
   "execution_count": null,
   "metadata": {},
   "outputs": [],
   "source": [
    "from pathlib import Path\n",
    "\n",
    "from spacy.lang.en import English\n",
    "from tqdm.notebook import tqdm\n",
    "\n",
    "from discharge_summaries.preprocessing.preprocess_snomed import Snomed"
   ]
  },
  {
   "cell_type": "code",
   "execution_count": null,
   "metadata": {},
   "outputs": [],
   "source": [
    "SNOMED_DIR = Path.cwd().parent / \"data\" / \"snomed\"\n",
    "\n",
    "INT_DATE = \"20230131\"\n",
    "UK_EXT_DIR = \"20230802\"\n",
    "UK_DRUG_DATE = \"20230927\""
   ]
  },
  {
   "cell_type": "code",
   "execution_count": null,
   "metadata": {},
   "outputs": [],
   "source": [
    "int_terminology_dir = (\n",
    "    SNOMED_DIR\n",
    "    / f\"SnomedCT_InternationalRF2_PRODUCTION_{INT_DATE}T120000Z\"\n",
    "    / \"Snapshot\"\n",
    "    / \"Terminology\"\n",
    ")\n",
    "uk_ext_terminology_dir = (\n",
    "    SNOMED_DIR\n",
    "    / f\"SnomedCT_UKClinicalRF2_PRODUCTION_{UK_EXT_DIR}T000001Z\"\n",
    "    / \"Snapshot\"\n",
    "    / \"Terminology\"\n",
    ")\n",
    "uk_drug_ext_terminology_dir = (\n",
    "    SNOMED_DIR\n",
    "    / f\"SnomedCT_UKDrugRF2_PRODUCTION_{UK_DRUG_DATE}T000001Z\"\n",
    "    / \"Snapshot\"\n",
    "    / \"Terminology\"\n",
    ")"
   ]
  },
  {
   "cell_type": "code",
   "execution_count": null,
   "metadata": {},
   "outputs": [],
   "source": [
    "int_concepts_fpath = int_terminology_dir / f\"sct2_Concept_Snapshot_INT_{INT_DATE}.txt\"\n",
    "uk_ext_concepts_fpath = (\n",
    "    uk_ext_terminology_dir / f\"sct2_Concept_UKCLSnapshot_GB1000000_{UK_EXT_DIR}.txt\"\n",
    ")\n",
    "uk_drug_ext_concepts_fpath = (\n",
    "    uk_drug_ext_terminology_dir\n",
    "    / f\"sct2_Concept_UKDGSnapshot_GB1000001_{UK_DRUG_DATE}.txt\"\n",
    ")"
   ]
  },
  {
   "cell_type": "code",
   "execution_count": null,
   "metadata": {},
   "outputs": [],
   "source": [
    "int_description_fpath = (\n",
    "    int_terminology_dir / f\"sct2_Description_Snapshot-en_INT_{INT_DATE}.txt\"\n",
    ")\n",
    "uk_ext_description_fpath = (\n",
    "    uk_ext_terminology_dir\n",
    "    / f\"sct2_Description_UKCLSnapshot-en_GB1000000_{UK_EXT_DIR}.txt\"\n",
    ")\n",
    "uk_drug_ext_description_fpath = (\n",
    "    uk_drug_ext_terminology_dir\n",
    "    / f\"sct2_Description_UKDGSnapshot-en_GB1000001_{UK_DRUG_DATE}.txt\"\n",
    ")"
   ]
  },
  {
   "cell_type": "code",
   "execution_count": null,
   "metadata": {},
   "outputs": [],
   "source": [
    "int_relations_fpath = (\n",
    "    int_terminology_dir / f\"sct2_Relationship_Snapshot_INT_{INT_DATE}.txt\"\n",
    ")\n",
    "uk_ext_relations_fpath = (\n",
    "    uk_ext_terminology_dir\n",
    "    / f\"sct2_Relationship_UKCLSnapshot_GB1000000_{UK_EXT_DIR}.txt\"\n",
    ")\n",
    "uk_drug_ext_relations_fpath = (\n",
    "    uk_drug_ext_terminology_dir\n",
    "    / f\"sct2_Relationship_UKDGSnapshot_GB1000001_{UK_DRUG_DATE}.txt\"\n",
    ")"
   ]
  },
  {
   "cell_type": "code",
   "execution_count": null,
   "metadata": {},
   "outputs": [],
   "source": [
    "snomed = Snomed.load_from_raw_snomed_files(\n",
    "    int_concepts_fpath,\n",
    "    uk_ext_concepts_fpath,\n",
    "    uk_drug_ext_concepts_fpath,\n",
    "    int_description_fpath,\n",
    "    uk_ext_description_fpath,\n",
    "    uk_drug_ext_description_fpath,\n",
    "    int_relations_fpath,\n",
    "    uk_ext_relations_fpath,\n",
    "    uk_drug_ext_relations_fpath,\n",
    ")"
   ]
  },
  {
   "cell_type": "code",
   "execution_count": null,
   "metadata": {},
   "outputs": [],
   "source": [
    "snomed.save(SNOMED_DIR)"
   ]
  },
  {
   "cell_type": "code",
   "execution_count": null,
   "metadata": {},
   "outputs": [],
   "source": [
    "reload = Snomed.load(SNOMED_DIR)"
   ]
  },
  {
   "cell_type": "code",
   "execution_count": null,
   "metadata": {},
   "outputs": [],
   "source": [
    "reload.cui_to_preferred_term[127362006]"
   ]
  },
  {
   "cell_type": "code",
   "execution_count": null,
   "metadata": {},
   "outputs": [],
   "source": [
    "reload.cui_to_synonyms[127362006]"
   ]
  },
  {
   "cell_type": "code",
   "execution_count": null,
   "metadata": {},
   "outputs": [],
   "source": [
    "reload.get_cuis(\"flu\")"
   ]
  },
  {
   "cell_type": "code",
   "execution_count": null,
   "metadata": {},
   "outputs": [],
   "source": [
    "reload.get_child_cuis(34887511000001102)"
   ]
  },
  {
   "cell_type": "code",
   "execution_count": null,
   "metadata": {},
   "outputs": [],
   "source": [
    "cuis = reload.get_cuis(\"heart attack\")\n",
    "cuis"
   ]
  },
  {
   "cell_type": "code",
   "execution_count": null,
   "metadata": {},
   "outputs": [],
   "source": [
    "tokenizer = English().tokenizer\n",
    "heart_attack_matcher = reload.get_phrase_matcher({\"heart attack\"}, tokenizer)"
   ]
  },
  {
   "cell_type": "code",
   "execution_count": null,
   "metadata": {},
   "outputs": [],
   "source": [
    "heart_attack_matcher(\n",
    "    tokenizer(\"The patient had old myocardial infarction\"), as_spans=True\n",
    ")"
   ]
  },
  {
   "cell_type": "code",
   "execution_count": null,
   "metadata": {},
   "outputs": [],
   "source": [
    "snomed.get_cuis(\"morphine\")"
   ]
  },
  {
   "cell_type": "code",
   "execution_count": null,
   "metadata": {},
   "outputs": [],
   "source": [
    "snomed.cui_to_preferred_term[773372004]"
   ]
  },
  {
   "cell_type": "code",
   "execution_count": null,
   "metadata": {},
   "outputs": [],
   "source": [
    "snomed.get_cuis(\"morphine\")"
   ]
  },
  {
   "cell_type": "code",
   "execution_count": null,
   "metadata": {},
   "outputs": [],
   "source": [
    "drug_relations_df = Snomed._parse_snomed_file(uk_drug_ext_description_fpath)"
   ]
  },
  {
   "cell_type": "code",
   "execution_count": null,
   "metadata": {},
   "outputs": [],
   "source": [
    "drug_relations_df = Snomed._parse_snomed_file(uk_drug_ext_relations_fpath)\n",
    "drug_relations_df = drug_relations_df[drug_relations_df.active == \"1\"].copy()\n",
    "drug_relations_df = drug_relations_df[\n",
    "    drug_relations_df.typeId == Snomed.IS_A_RELATIONSHIP_ID\n",
    "].copy()\n",
    "drug_relations_df = drug_relations_df.drop_duplicates()\n",
    "drug_relations_df.rename(\n",
    "    columns={\"sourceId\": \"child_cui\", \"destinationId\": \"parent_cui\"},\n",
    "    inplace=True,\n",
    ")"
   ]
  },
  {
   "cell_type": "code",
   "execution_count": null,
   "metadata": {},
   "outputs": [],
   "source": [
    "drug_relations_df_grouped = (\n",
    "    drug_relations_df.groupby(\"child_cui\")[\"parent_cui\"]\n",
    "    .apply(set)\n",
    "    .reset_index()\n",
    "    .set_index(\"child_cui\")\n",
    ")"
   ]
  },
  {
   "cell_type": "code",
   "execution_count": null,
   "metadata": {},
   "outputs": [],
   "source": [
    "def recurse(child_cui, drug_relations_df_grouped):\n",
    "    if child_cui not in drug_relations_df_grouped.index:\n",
    "        return {child_cui}\n",
    "    else:\n",
    "        return {\n",
    "            cui\n",
    "            for parent_cui in drug_relations_df_grouped.loc[child_cui][\"parent_cui\"]\n",
    "            for cui in recurse(parent_cui, drug_relations_df_grouped)\n",
    "        }\n",
    "\n",
    "\n",
    "recurse(\"317320001\", drug_relations_df_grouped)"
   ]
  },
  {
   "cell_type": "code",
   "execution_count": null,
   "metadata": {},
   "outputs": [],
   "source": [
    "answer = {\n",
    "    cui\n",
    "    for child_cui in tqdm(drug_relations_df_grouped.index)\n",
    "    for cui in recurse(child_cui, drug_relations_df_grouped)\n",
    "}\n",
    "answer"
   ]
  }
 ],
 "metadata": {
  "kernelspec": {
   "display_name": ".venv",
   "language": "python",
   "name": "python3"
  },
  "language_info": {
   "codemirror_mode": {
    "name": "ipython",
    "version": 3
   },
   "file_extension": ".py",
   "mimetype": "text/x-python",
   "name": "python",
   "nbconvert_exporter": "python",
   "pygments_lexer": "ipython3",
   "version": "3.8.17"
  }
 },
 "nbformat": 4,
 "nbformat_minor": 2
}
