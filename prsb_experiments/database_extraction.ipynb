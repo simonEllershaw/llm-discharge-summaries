{
 "cells": [
  {
   "cell_type": "code",
   "execution_count": null,
   "metadata": {},
   "outputs": [],
   "source": [
    "import re\n",
    "from pathlib import Path\n",
    "\n",
    "import numpy as np\n",
    "import pandas as pd"
   ]
  },
  {
   "cell_type": "code",
   "execution_count": null,
   "metadata": {},
   "outputs": [],
   "source": [
    "MIMIC_III_DIR = (\n",
    "    Path.cwd().parent / \"data\" / \"physionet.org\" / \"files\" / \"mimiciii\" / \"1.4\"\n",
    ")"
   ]
  },
  {
   "cell_type": "code",
   "execution_count": null,
   "metadata": {},
   "outputs": [],
   "source": [
    "physician_notes = pd.read_csv(MIMIC_III_DIR / \"physician_notes.csv\")\n",
    "patient_df = pd.read_csv(MIMIC_III_DIR / \"PATIENTS.csv\")\n",
    "admissions_df = pd.read_csv(MIMIC_III_DIR / \"ADMISSIONS.csv\")\n",
    "procedures_df = pd.read_csv(MIMIC_III_DIR / \"PROCEDUREEVENTS_MV.csv\")\n",
    "items_df = pd.read_csv(MIMIC_III_DIR / \"D_ITEMS.csv\")"
   ]
  },
  {
   "cell_type": "code",
   "execution_count": null,
   "metadata": {},
   "outputs": [],
   "source": [
    "hadm_id, _ = next(iter(physician_notes.groupby(\"HADM_ID\")))"
   ]
  },
  {
   "cell_type": "code",
   "execution_count": null,
   "metadata": {},
   "outputs": [],
   "source": [
    "subject_id = admissions_df[admissions_df[\"HADM_ID\"] == hadm_id][\"SUBJECT_ID\"].values[0]\n",
    "subject_id"
   ]
  },
  {
   "cell_type": "code",
   "execution_count": null,
   "metadata": {},
   "outputs": [],
   "source": [
    "sample_patient_row = patient_df[patient_df[\"SUBJECT_ID\"] == subject_id]\n",
    "dob = sample_patient_row[\"DOB\"].values[0].split(\" \")[0]\n",
    "gender = sample_patient_row[\"GENDER\"].values[0]\n",
    "other_identifier = [subject_id]\n",
    "dob, gender"
   ]
  },
  {
   "cell_type": "code",
   "execution_count": null,
   "metadata": {},
   "outputs": [],
   "source": [
    "admissions_df[\"ADMITTIME\"] = pd.to_datetime(\n",
    "    admissions_df[\"ADMITTIME\"], format=\"%Y-%m-%d %H:%M:%S\"\n",
    ")\n",
    "admissions_df[\"DISCHTIME\"] = pd.to_datetime(\n",
    "    admissions_df[\"DISCHTIME\"], format=\"%Y-%m-%d %H:%M:%S\"\n",
    ")"
   ]
  },
  {
   "cell_type": "code",
   "execution_count": null,
   "metadata": {},
   "outputs": [],
   "source": [
    "admission = admissions_df[admissions_df[\"HADM_ID\"] == hadm_id]\n",
    "admission_method = admission[\"ADMISSION_TYPE\"].values[0]\n",
    "source_of_admission = admission[\"ADMISSION_LOCATION\"].values[0]\n",
    "date_time_of_admission = admission[\"ADMITTIME\"].values[0]\n",
    "admission_method, source_of_admission, date_time_of_admission"
   ]
  },
  {
   "cell_type": "code",
   "execution_count": null,
   "metadata": {},
   "outputs": [],
   "source": [
    "procedures_df.head()"
   ]
  },
  {
   "cell_type": "code",
   "execution_count": null,
   "metadata": {},
   "outputs": [],
   "source": [
    "procedures_df.columns"
   ]
  },
  {
   "cell_type": "code",
   "execution_count": null,
   "metadata": {},
   "outputs": [],
   "source": [
    "def location_to_anatomical_site(location: str) -> str:\n",
    "    if location == \"nan\":\n",
    "        return \"\"\n",
    "    return re.sub(\"(?i)^(RIGHT|LEFT|RU|RL|LU|LL|R|L) \", \"\", location)\n",
    "\n",
    "\n",
    "def location_to_laterality(location: str) -> str:\n",
    "    if re.match(\"(?i)^(RIGHT|RU|RL|R) \", location):\n",
    "        return \"Right\"\n",
    "    elif re.match(\"(?i)^(LEFT|LU|LL|L) \", location):\n",
    "        return \"Left\"\n",
    "    else:\n",
    "        return \"\"\n",
    "\n",
    "\n",
    "location_to_laterality(\"Lumbar Arm Upper\")"
   ]
  },
  {
   "cell_type": "code",
   "execution_count": null,
   "metadata": {},
   "outputs": [],
   "source": [
    "filtered_procedures_df = pd.merge(\n",
    "    procedures_df, items_df[[\"ITEMID\", \"LABEL\"]], on=\"ITEMID\", how=\"inner\"\n",
    ")\n",
    "filtered_procedures_df[\"LOCATION\"] = filtered_procedures_df[\"LOCATION\"].astype(str)\n",
    "filtered_procedures_df[\"ANATOMICAL_SITE\"] = filtered_procedures_df[\"LOCATION\"].apply(\n",
    "    location_to_anatomical_site\n",
    ")\n",
    "filtered_procedures_df[\"LATERALITY\"] = filtered_procedures_df[\"LOCATION\"].apply(\n",
    "    location_to_laterality\n",
    ")\n",
    "filtered_procedures_df = filtered_procedures_df[\n",
    "    [\"HADM_ID\", \"LABEL\", \"ANATOMICAL_SITE\", \"LATERALITY\", \"ORDERCATEGORYNAME\"]\n",
    "]\n",
    "filtered_procedures_df = filtered_procedures_df.drop_duplicates()\n",
    "filtered_procedures_df.head()"
   ]
  },
  {
   "cell_type": "code",
   "execution_count": null,
   "metadata": {},
   "outputs": [],
   "source": [
    "procedure_name_to_info = {}\n",
    "for _, procedure_series in filtered_procedures_df[\n",
    "    filtered_procedures_df[\"HADM_ID\"] == hadm_id\n",
    "].iterrows():\n",
    "    if procedure_series[\"LABEL\"] not in procedure_name_to_info:\n",
    "        procedure_name_to_info[procedure_series[\"LABEL\"]] = {\n",
    "            \"anatomical_site\": procedure_series[\"ANATOMICAL_SITE\"],\n",
    "            \"laterality\": procedure_series[\"LATERALITY\"],\n",
    "        }\n",
    "    else:\n",
    "        if procedure_series[\"ANATOMICAL_SITE\"]:\n",
    "            procedure_name_to_info[procedure_series[\"LABEL\"]][\n",
    "                \"anatomical_site\"\n",
    "            ] += f\" and {procedure_series['ANATOMICAL_SITE']}\"\n",
    "        if procedure_series[\"LATERALITY\"]:\n",
    "            procedure_name_to_info[procedure_series[\"LABEL\"]][\n",
    "                \"laterality\"\n",
    "            ] += f\" and {procedure_series['LATERALITY']}\"\n",
    "procedures = [\n",
    "    {\n",
    "        \"name\": procedure_name,\n",
    "        \"anatomical_site\": info[\"anatomical_site\"],\n",
    "        \"laterality\": info[\"laterality\"],\n",
    "    }\n",
    "    for procedure_name, info in procedure_name_to_info.items()\n",
    "]\n",
    "procedures"
   ]
  },
  {
   "cell_type": "code",
   "execution_count": null,
   "metadata": {},
   "outputs": [],
   "source": [
    "prescriptions_df = pd.read_csv(MIMIC_III_DIR / \"PRESCRIPTIONS.csv\")"
   ]
  },
  {
   "cell_type": "code",
   "execution_count": null,
   "metadata": {},
   "outputs": [],
   "source": [
    "prescriptions_df[\"STARTDATE\"] = prescriptions_df[\"STARTDATE\"].apply(\n",
    "    lambda x: str(x).split(\" \")[0]\n",
    ")\n",
    "prescriptions_df[\"ENDDATE\"] = prescriptions_df[\"ENDDATE\"].apply(\n",
    "    lambda x: str(x).split(\" \")[0]\n",
    ")"
   ]
  },
  {
   "cell_type": "code",
   "execution_count": null,
   "metadata": {},
   "outputs": [],
   "source": [
    "prescriptions_df.head()"
   ]
  },
  {
   "cell_type": "code",
   "execution_count": null,
   "metadata": {},
   "outputs": [],
   "source": [
    "discharge_date = np.datetime_as_string(admission[\"DISCHTIME\"].values[0], unit=\"D\")\n",
    "admission_date = np.datetime_as_string(admission[\"ADMITTIME\"].values[0], unit=\"D\")\n",
    "admission_date, discharge_date"
   ]
  },
  {
   "cell_type": "code",
   "execution_count": null,
   "metadata": {},
   "outputs": [],
   "source": [
    "hadm_id_prescriptions_df = prescriptions_df[prescriptions_df[\"HADM_ID\"] == hadm_id]\n",
    "len(hadm_id_prescriptions_df)"
   ]
  },
  {
   "cell_type": "code",
   "execution_count": null,
   "metadata": {},
   "outputs": [],
   "source": [
    "hadm_id_prescriptions_df = hadm_id_prescriptions_df[\n",
    "    ~(\n",
    "        (hadm_id_prescriptions_df[\"STARTDATE\"] > admission_date)\n",
    "        & (hadm_id_prescriptions_df[\"ENDDATE\"] < discharge_date)\n",
    "    )\n",
    "]\n",
    "len(hadm_id_prescriptions_df)"
   ]
  },
  {
   "cell_type": "code",
   "execution_count": null,
   "metadata": {},
   "outputs": [],
   "source": [
    "medication_item_entry = []\n",
    "medication_discontinued_item_entry = []\n",
    "for drug_name, drug_df in hadm_id_prescriptions_df.groupby(\"DRUG\"):\n",
    "    most_recent_prescription = drug_df.sort_values(\"STARTDATE\", ascending=False).iloc[0]\n",
    "\n",
    "    if most_recent_prescription[\"ENDDATE\"] < discharge_date:\n",
    "        medication_discontinued_item_entry.append(\n",
    "            {\n",
    "                \"name_of_discontinued_medication\": drug_name,\n",
    "                \"status\": \"\",\n",
    "                \"indication\": \"\",\n",
    "                \"date_of_latest_change\": drug_df[\"ENDDATE\"].max(),\n",
    "                \"description_of_amendment\": \"Stopped\",\n",
    "                \"comment\": \"\",\n",
    "            }\n",
    "        )\n",
    "    else:\n",
    "        medication_item = {\n",
    "            \"medication_name\": most_recent_prescription[\"DRUG\"],\n",
    "            \"form\": (\n",
    "                most_recent_prescription[\"FORM_UNIT_DISP\"]\n",
    "                if most_recent_prescription[\"FORM_UNIT_DISP\"] != \"mL\"\n",
    "                else \"\"\n",
    "            ),\n",
    "            \"quantity supplied\": [\n",
    "                f'{most_recent_prescription[\"FORM_VAL_DISP\"]} {most_recent_prescription[\"FORM_UNIT_DISP\"]}'\n",
    "            ],\n",
    "            \"route\": [most_recent_prescription[\"ROUTE\"]],\n",
    "            \"site\": \"\",\n",
    "            \"method\": \"\",\n",
    "            \"dose_directions_description\": \"\",\n",
    "            \"dose_amount_description\": (\n",
    "                f'{most_recent_prescription[\"DOSE_VAL_RX\"]} {most_recent_prescription[\"DOSE_UNIT_RX\"]}'\n",
    "            ),\n",
    "            \"dose_timing_description\": \"\",\n",
    "            \"dose_direction_duration\": \"\",\n",
    "            \"additional_instruction\": \"\",\n",
    "        }\n",
    "        if len(drug_df) > 1:\n",
    "            medication_item[\"medication_change_summary_cluster\"] = {\n",
    "                \"status\": \"\",\n",
    "                \"indication\": \"\",\n",
    "                \"date_of_latest_change\": most_recent_prescription[\"STARTDATE\"],\n",
    "                \"description_of_amendment\": \"\",\n",
    "            }\n",
    "\n",
    "        medication_item_entry.append(medication_item)\n",
    "medication_item_entry[:2]"
   ]
  },
  {
   "cell_type": "code",
   "execution_count": null,
   "metadata": {},
   "outputs": [],
   "source": [
    "medication_discontinued_item_entry"
   ]
  }
 ],
 "metadata": {
  "kernelspec": {
   "display_name": ".venv",
   "language": "python",
   "name": "python3"
  },
  "language_info": {
   "codemirror_mode": {
    "name": "ipython",
    "version": 3
   },
   "file_extension": ".py",
   "mimetype": "text/x-python",
   "name": "python",
   "nbconvert_exporter": "python",
   "pygments_lexer": "ipython3",
   "version": "3.8.17"
  }
 },
 "nbformat": 4,
 "nbformat_minor": 2
}
