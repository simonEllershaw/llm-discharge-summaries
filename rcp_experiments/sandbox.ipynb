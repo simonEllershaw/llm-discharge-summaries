{
 "cells": [
  {
   "cell_type": "code",
   "execution_count": null,
   "metadata": {},
   "outputs": [],
   "source": [
    "import json\n",
    "import os\n",
    "from pathlib import Path\n",
    "\n",
    "import jsonschema\n",
    "import pandas as pd\n",
    "from dotenv import load_dotenv\n",
    "\n",
    "from discharge_summaries.openai_llm.chat_models import AzureOpenAIChatModel\n",
    "from discharge_summaries.openai_llm.message import Message, Role\n",
    "from discharge_summaries.openai_llm.token_count import (\n",
    "    num_tokens_from_messages_azure_engine,\n",
    ")\n",
    "from discharge_summaries.schemas.mimic import PhysicianNote\n",
    "from discharge_summaries.schemas.rcp_guidelines import RCPGuidelines"
   ]
  },
  {
   "cell_type": "code",
   "execution_count": null,
   "metadata": {},
   "outputs": [],
   "source": [
    "load_dotenv()"
   ]
  },
  {
   "cell_type": "code",
   "execution_count": null,
   "metadata": {},
   "outputs": [],
   "source": [
    "AZURE_ENGINE = \"gpt-4-32k\"\n",
    "AZURE_API_VERSION = \"2023-07-01-preview\""
   ]
  },
  {
   "cell_type": "code",
   "execution_count": null,
   "metadata": {},
   "outputs": [],
   "source": [
    "rcp_schema = RCPGuidelines.schema()\n",
    "example = json.loads((Path.cwd() / \"example.json\").read_text())\n",
    "jsonschema.validate(example, rcp_schema)"
   ]
  },
  {
   "cell_type": "code",
   "execution_count": null,
   "metadata": {},
   "outputs": [],
   "source": [
    "notes_df = pd.read_excel(\n",
    "    Path.cwd().parent\n",
    "    / \"data\"\n",
    "    / \"rcp\"\n",
    "    / \"5. Activity-practice discharge summary writing task_0.xlsx\",\n",
    "    sheet_name=\"Notes\",\n",
    "    header=4,\n",
    ")\n",
    "notes_df.rename({\"Unnamed: 0\": \"timestamp\", \"Unnamed: 1\": \"text\"}, axis=1, inplace=True)\n",
    "notes_df.head()"
   ]
  },
  {
   "cell_type": "code",
   "execution_count": null,
   "metadata": {},
   "outputs": [],
   "source": [
    "blank_rows = notes_df.isnull().all(axis=1)\n",
    "consecutive_blank_rows = blank_rows & blank_rows.shift(-1)\n",
    "\n",
    "split_dfs = []\n",
    "start_index = 0\n",
    "for end_index in consecutive_blank_rows[consecutive_blank_rows].index:\n",
    "    split_dfs.append(notes_df.iloc[start_index:end_index])\n",
    "    start_index = end_index + 2\n",
    "split_dfs.append(notes_df.iloc[start_index:])"
   ]
  },
  {
   "cell_type": "code",
   "execution_count": null,
   "metadata": {},
   "outputs": [],
   "source": [
    "notes = []\n",
    "\n",
    "for split_df in split_dfs:\n",
    "    notes.append(\n",
    "        PhysicianNote(\n",
    "            timestamp=split_df[\"timestamp\"].tolist()[0],\n",
    "            text=\"\\n\".join(split_df[\"text\"].dropna().tolist()),\n",
    "            hadm_id=\"0\",\n",
    "        )\n",
    "    )"
   ]
  },
  {
   "cell_type": "code",
   "execution_count": null,
   "metadata": {},
   "outputs": [],
   "source": [
    "system_message = Message(\n",
    "    role=Role.SYSTEM,\n",
    "    content=f\"\"\"You are a consultant doctor tasked with writing a patients discharge summary.\n",
    "Only the information in the clinical notes provided by the user can be used for this task.\n",
    "Each clinical note has a title of the format Physician Note [number]: [timestamp].\n",
    "\n",
    "The discharge summary must be written in accordance with the following json schema.\n",
    "{json.dumps(RCPGuidelines.schema_json())}\n",
    "If the information is not present to fill in a field, answer it with an empty string or list.\n",
    "\n",
    "An example of a valid discharge summary is provided below.\n",
    "{json.dumps(example)}\n",
    "\"\"\",\n",
    ")"
   ]
  },
  {
   "cell_type": "code",
   "execution_count": null,
   "metadata": {},
   "outputs": [],
   "source": [
    "notes_string = \"\\n\\n\".join(\n",
    "    f\"Clinical Note {idx+1}: {note.timestamp}\\n{note.text}\"\n",
    "    for idx, note in enumerate(notes)\n",
    ")\n",
    "user_message = Message(\n",
    "    role=Role.USER,\n",
    "    content=f\"\"\"Generate a discharge summary json for the following clinical notes.\n",
    "{notes_string}\"\"\",\n",
    ")"
   ]
  },
  {
   "cell_type": "code",
   "execution_count": null,
   "metadata": {},
   "outputs": [],
   "source": [
    "llm = AzureOpenAIChatModel(\n",
    "    api_base=os.getenv(\"AZURE_OPENAI_ENDPOINT\"),\n",
    "    api_key=os.getenv(\"AZURE_OPENAI_KEY\"),\n",
    "    api_version=AZURE_API_VERSION,\n",
    "    engine=AZURE_ENGINE,\n",
    "    temperature=0,\n",
    "    timeout=20,\n",
    ")"
   ]
  },
  {
   "cell_type": "code",
   "execution_count": null,
   "metadata": {},
   "outputs": [],
   "source": [
    "response = llm.query([system_message, user_message])"
   ]
  },
  {
   "cell_type": "code",
   "execution_count": null,
   "metadata": {},
   "outputs": [],
   "source": []
  },
  {
   "cell_type": "code",
   "execution_count": null,
   "metadata": {},
   "outputs": [],
   "source": [
    "(Path.cwd() / \"output.json\").write_text(\n",
    "    json.dumps(json.loads(response.content), indent=4)\n",
    ")"
   ]
  },
  {
   "cell_type": "code",
   "execution_count": null,
   "metadata": {},
   "outputs": [],
   "source": [
    "num_tokens_from_messages_azure_engine([system_message], AZURE_ENGINE, AZURE_API_VERSION)"
   ]
  }
 ],
 "metadata": {
  "kernelspec": {
   "display_name": ".venv",
   "language": "python",
   "name": "python3"
  },
  "language_info": {
   "codemirror_mode": {
    "name": "ipython",
    "version": 3
   },
   "file_extension": ".py",
   "mimetype": "text/x-python",
   "name": "python",
   "nbconvert_exporter": "python",
   "pygments_lexer": "ipython3",
   "version": "3.8.17"
  }
 },
 "nbformat": 4,
 "nbformat_minor": 2
}
