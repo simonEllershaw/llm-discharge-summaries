{
 "cells": [
  {
   "cell_type": "code",
   "execution_count": null,
   "metadata": {},
   "outputs": [],
   "source": [
    "import json\n",
    "from pathlib import Path\n",
    "\n",
    "import openpyxl\n",
    "import pandas as pd\n",
    "from openpyxl.styles import Font"
   ]
  },
  {
   "cell_type": "code",
   "execution_count": null,
   "metadata": {},
   "outputs": [],
   "source": [
    "OUTPUT_DIR = Path.cwd() / \"output\"\n",
    "\n",
    "MIMIC_III_DIR = (\n",
    "    Path.cwd().parent / \"data\" / \"physionet.org\" / \"files\" / \"mimiciii\" / \"1.4\"\n",
    ")\n",
    "PHYSICIAN_NOTE_FPATH = MIMIC_III_DIR / \"physician_notes_mimic.csv\""
   ]
  },
  {
   "cell_type": "code",
   "execution_count": null,
   "metadata": {},
   "outputs": [],
   "source": [
    "json_fpath = OUTPUT_DIR / \"mimic_154417.json\"\n",
    "json_fpath"
   ]
  },
  {
   "cell_type": "code",
   "execution_count": null,
   "metadata": {},
   "outputs": [],
   "source": [
    "response_json = json.loads(json_fpath.read_text())"
   ]
  },
  {
   "cell_type": "code",
   "execution_count": null,
   "metadata": {},
   "outputs": [],
   "source": [
    "rows = []\n",
    "\n",
    "for section, fields_and_values in response_json.items():\n",
    "    if isinstance(fields_and_values, dict):\n",
    "        for field, value in fields_and_values.items():\n",
    "            if isinstance(value, str):\n",
    "                rows.append([section, field, value])\n",
    "            elif isinstance(value, list):\n",
    "                for item in value:\n",
    "                    rows.append([section, field, item])\n",
    "            else:\n",
    "                raise NotImplementedError\n",
    "    elif isinstance(fields_and_values, list):\n",
    "        for item_idx, item in enumerate(fields_and_values):\n",
    "            if isinstance(item, dict):\n",
    "                for field, value in item.items():\n",
    "                    if isinstance(value, str):\n",
    "                        rows.append([section, f\"{field} {item_idx}\", value])\n",
    "                    else:\n",
    "                        raise NotImplementedError\n",
    "            else:\n",
    "                raise NotImplementedError\n",
    "    rows.append([\"\", \"\", \"\"])"
   ]
  },
  {
   "cell_type": "code",
   "execution_count": null,
   "metadata": {},
   "outputs": [],
   "source": [
    "rows_df = pd.DataFrame(rows, columns=[\"Section\", \"Field\", \"Value\"])"
   ]
  },
  {
   "cell_type": "code",
   "execution_count": null,
   "metadata": {},
   "outputs": [],
   "source": [
    "rows_df[\"Section\"] = rows_df[\"Section\"].drop_duplicates(keep=\"first\")\n",
    "rows_df[\"Field\"] = rows_df[\"Field\"].drop_duplicates(keep=\"first\")\n",
    "\n",
    "rows_df.fillna(\"\", inplace=True)\n",
    "rows_df[[\"Section\", \"Field\"]] = rows_df[[\"Section\", \"Field\"]].applymap(\n",
    "    lambda x: x.replace(\"_\", \" \").title()\n",
    ")"
   ]
  },
  {
   "cell_type": "code",
   "execution_count": null,
   "metadata": {},
   "outputs": [],
   "source": [
    "rows_df"
   ]
  },
  {
   "cell_type": "code",
   "execution_count": null,
   "metadata": {},
   "outputs": [],
   "source": [
    "excel_fpath = json_fpath.with_suffix(\".xlsx\")\n",
    "rows_df.to_excel(excel_fpath, index=False)"
   ]
  },
  {
   "cell_type": "code",
   "execution_count": null,
   "metadata": {},
   "outputs": [],
   "source": [
    "wb = openpyxl.load_workbook(excel_fpath)\n",
    "ws = wb.active"
   ]
  },
  {
   "cell_type": "code",
   "execution_count": null,
   "metadata": {},
   "outputs": [],
   "source": [
    "ws.insert_rows(1)\n",
    "ws.cell(row=1, column=1, value=\"GPT Generation\")\n",
    "ws.cell(row=1, column=5, value=\"Evaluation\")"
   ]
  },
  {
   "cell_type": "code",
   "execution_count": null,
   "metadata": {},
   "outputs": [],
   "source": [
    "for idx, eval_heading in enumerate(\n",
    "    [\n",
    "        \"Missed- Safety Critical\",\n",
    "        \"Missed- Minor\",\n",
    "        \"Added- Hallucination\",\n",
    "        \"Added- Not relevant\",\n",
    "        \"Explanation\",\n",
    "    ]\n",
    "):\n",
    "    ws.cell(row=2, column=5 + idx, value=eval_heading)"
   ]
  },
  {
   "cell_type": "code",
   "execution_count": null,
   "metadata": {},
   "outputs": [],
   "source": [
    "for c in ws[\"A\"]:\n",
    "    c.font = Font(bold=True, sz=11)\n",
    "for cell in ws.iter_rows(min_row=2, max_row=2, values_only=True):\n",
    "    for c in cell:\n",
    "        c.font = Font(bold=True, sz=12)\n",
    "for cell in ws.iter_rows(min_row=1, max_row=1, values_only=True):\n",
    "    for c in cell:\n",
    "        c.font = Font(bold=True, sz=14)"
   ]
  },
  {
   "cell_type": "code",
   "execution_count": null,
   "metadata": {},
   "outputs": [],
   "source": [
    "for column in ws.columns:\n",
    "    ws.column_dimensions[column[0].column_letter].width = 40\n",
    "ws.column_dimensions[\"C\"].width = 80"
   ]
  },
  {
   "cell_type": "code",
   "execution_count": null,
   "metadata": {},
   "outputs": [],
   "source": [
    "for row in ws.iter_rows():\n",
    "    for cell in row:\n",
    "        cell.alignment = openpyxl.styles.Alignment(wrap_text=True)"
   ]
  },
  {
   "cell_type": "code",
   "execution_count": null,
   "metadata": {},
   "outputs": [],
   "source": [
    "wb.save(excel_fpath)"
   ]
  }
 ],
 "metadata": {
  "kernelspec": {
   "display_name": ".venv",
   "language": "python",
   "name": "python3"
  },
  "language_info": {
   "codemirror_mode": {
    "name": "ipython",
    "version": 3
   },
   "file_extension": ".py",
   "mimetype": "text/x-python",
   "name": "python",
   "nbconvert_exporter": "python",
   "pygments_lexer": "ipython3",
   "version": "3.8.17"
  }
 },
 "nbformat": 4,
 "nbformat_minor": 2
}
