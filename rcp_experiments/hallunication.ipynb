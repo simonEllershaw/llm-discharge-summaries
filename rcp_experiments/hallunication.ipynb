{
 "cells": [
  {
   "cell_type": "code",
   "execution_count": null,
   "metadata": {},
   "outputs": [],
   "source": [
    "%load_ext autoreload\n",
    "%autoreload 2"
   ]
  },
  {
   "cell_type": "code",
   "execution_count": null,
   "metadata": {},
   "outputs": [],
   "source": [
    "import json\n",
    "import re\n",
    "from datetime import datetime\n",
    "from pathlib import Path\n",
    "\n",
    "import pandas as pd\n",
    "from dotenv import load_dotenv\n",
    "from medcat.cat import CAT\n",
    "\n",
    "from discharge_summaries.schemas.mimic import PhysicianNote"
   ]
  },
  {
   "cell_type": "code",
   "execution_count": null,
   "metadata": {},
   "outputs": [],
   "source": [
    "load_dotenv()"
   ]
  },
  {
   "cell_type": "code",
   "execution_count": null,
   "metadata": {},
   "outputs": [],
   "source": [
    "EXAMPLE_DIR = Path.cwd() / \"examples\"\n",
    "OUTPUT_DIR = Path.cwd() / \"output\"\n",
    "\n",
    "MODEL_PATH = (\n",
    "    Path.cwd().parent\n",
    "    / \"models\"\n",
    "    / \"mc_modelpack_snomed_int_16_mar_2022_25be3857ba34bdd5.zip\"\n",
    ")"
   ]
  },
  {
   "cell_type": "code",
   "execution_count": null,
   "metadata": {},
   "outputs": [],
   "source": [
    "cat = CAT.load_model_pack(MODEL_PATH)\n",
    "cat.config.ner.min_name_len = 2\n",
    "cat.config.linking.similarity_threshold = 0"
   ]
  },
  {
   "cell_type": "markdown",
   "metadata": {},
   "source": [
    "## RCP Example"
   ]
  },
  {
   "cell_type": "code",
   "execution_count": null,
   "metadata": {},
   "outputs": [],
   "source": [
    "notes_df = pd.read_excel(\n",
    "    Path.cwd().parent\n",
    "    / \"data\"\n",
    "    / \"rcp\"\n",
    "    / \"5. Activity-practice discharge summary writing task_0.xlsx\",\n",
    "    sheet_name=\"Notes\",\n",
    "    header=4,\n",
    ")\n",
    "notes_df.rename({\"Unnamed: 0\": \"timestamp\", \"Unnamed: 1\": \"text\"}, axis=1, inplace=True)\n",
    "notes_df.head()"
   ]
  },
  {
   "cell_type": "code",
   "execution_count": null,
   "metadata": {},
   "outputs": [],
   "source": [
    "blank_rows = notes_df.isnull().all(axis=1)\n",
    "consecutive_blank_rows = blank_rows & blank_rows.shift(-1)\n",
    "\n",
    "split_dfs = []\n",
    "start_index = 0\n",
    "for end_index in consecutive_blank_rows[consecutive_blank_rows].index:\n",
    "    split_dfs.append(notes_df.iloc[start_index:end_index])\n",
    "    start_index = end_index + 2\n",
    "split_dfs.append(notes_df.iloc[start_index:])"
   ]
  },
  {
   "cell_type": "code",
   "execution_count": null,
   "metadata": {},
   "outputs": [],
   "source": [
    "notes = []\n",
    "\n",
    "for split_df in split_dfs:\n",
    "    date_string = split_df[\"timestamp\"].tolist()[0]\n",
    "    date_string_excl_day = date_string.split(\" \", 1)[1]\n",
    "    timestamp = datetime.strptime(date_string_excl_day, \"%d %b %Y %H:%M\")\n",
    "    notes.append(\n",
    "        PhysicianNote(\n",
    "            timestamp=timestamp.strftime(\"%Y-%m-%d %H:%M\"),\n",
    "            text=\"\\n\".join(split_df[\"text\"].dropna().tolist()),\n",
    "            hadm_id=\"0\",\n",
    "        )\n",
    "    )"
   ]
  },
  {
   "cell_type": "code",
   "execution_count": null,
   "metadata": {},
   "outputs": [],
   "source": [
    "response_json = json.loads((EXAMPLE_DIR / \"example_1.json\").read_text())"
   ]
  },
  {
   "cell_type": "code",
   "execution_count": null,
   "metadata": {},
   "outputs": [],
   "source": [
    "def flatten_dict(nested_dict, parent_key=\"\"):\n",
    "    flattened_dict = {}\n",
    "    for key, value in nested_dict.items():\n",
    "        new_key = f\"{parent_key}__{key}\" if parent_key else key\n",
    "        if isinstance(value, dict):\n",
    "            flattened_dict.update(flatten_dict(value, new_key))\n",
    "        else:\n",
    "            flattened_dict[new_key] = value\n",
    "    return flattened_dict\n",
    "\n",
    "\n",
    "def merge_dict_values(dict_with_lists):\n",
    "    merge_value_dict = {}\n",
    "    for k, v in dict_with_lists.items():\n",
    "        if isinstance(v, list):\n",
    "            flat_v = [\n",
    "                \". \".join(sub_v.values()) if isinstance(sub_v, dict) else sub_v\n",
    "                for sub_v in v\n",
    "            ]\n",
    "            merge_value_dict[k] = \". \".join(flat_v)\n",
    "        else:\n",
    "            merge_value_dict[k] = v\n",
    "    return merge_value_dict"
   ]
  },
  {
   "cell_type": "code",
   "execution_count": null,
   "metadata": {},
   "outputs": [],
   "source": [
    "response_json_flat = merge_dict_values(flatten_dict(response_json))\n",
    "response_json_flat"
   ]
  },
  {
   "cell_type": "code",
   "execution_count": null,
   "metadata": {},
   "outputs": [],
   "source": [
    "ignore_type_names = {\"attribute\", \"qualifier value\", \"observable entity\"}\n",
    "keep_type_ids = {\n",
    "    type_id\n",
    "    for type_id, name in cat.cdb.addl_info[\"type_id2name\"].items()\n",
    "    if name not in ignore_type_names\n",
    "}\n",
    "cui_filters = {\n",
    "    cui\n",
    "    for type_ids in keep_type_ids\n",
    "    for cui in cat.cdb.addl_info[\"type_id2cuis\"][type_ids]\n",
    "}\n",
    "cat.cdb.config.linking[\"filters\"][\"cuis\"] = cui_filters"
   ]
  },
  {
   "cell_type": "code",
   "execution_count": null,
   "metadata": {},
   "outputs": [],
   "source": [
    "response_json_ents = cat.multiprocessing(response_json_flat.items())\n",
    "response_json_cuis = {\n",
    "    entity[\"cui\"]\n",
    "    for field_entity_dict in response_json_ents.values()\n",
    "    for entity in field_entity_dict[\"entities\"].values()\n",
    "}"
   ]
  },
  {
   "cell_type": "code",
   "execution_count": null,
   "metadata": {},
   "outputs": [],
   "source": [
    "for field, field_ents in response_json_ents.items():\n",
    "    print(field)\n",
    "    print(response_json_flat[field])\n",
    "    print(\n",
    "        [\n",
    "            (ent[\"pretty_name\"], ent[\"source_value\"])\n",
    "            for ent in field_ents[\"entities\"].values()\n",
    "        ]\n",
    "    )\n",
    "    print()"
   ]
  },
  {
   "cell_type": "code",
   "execution_count": null,
   "metadata": {},
   "outputs": [],
   "source": [
    "cat.cdb.config.linking[\"filters\"][\"cuis\"] = response_json_cuis"
   ]
  },
  {
   "cell_type": "code",
   "execution_count": null,
   "metadata": {},
   "outputs": [],
   "source": [
    "notes_str = \"\\n\".join(n.text for n in notes)\n",
    "note_ents = cat.get_entities(notes_str)"
   ]
  },
  {
   "cell_type": "code",
   "execution_count": null,
   "metadata": {},
   "outputs": [],
   "source": [
    "note_cuis = {entity[\"cui\"] for entity in note_ents[\"entities\"].values()}"
   ]
  },
  {
   "cell_type": "code",
   "execution_count": null,
   "metadata": {},
   "outputs": [],
   "source": [
    "def get_acronym(phrase: str) -> str:\n",
    "    words = re.split(\" |-\", phrase)\n",
    "    acronym = \"\".join(\n",
    "        [\n",
    "            letter\n",
    "            for word in words\n",
    "            for letter_idx, letter in enumerate(word)\n",
    "            if letter_idx == 0 or letter.isupper()\n",
    "        ]\n",
    "    )\n",
    "    return acronym.upper()\n",
    "\n",
    "\n",
    "misses = set()\n",
    "for field, entities in response_json_ents.items():\n",
    "    for ent in entities[\"entities\"].values():\n",
    "        ent_acyronym = get_acronym(ent[\"source_value\"])\n",
    "        if ent[\"cui\"] in note_cuis:\n",
    "            pass\n",
    "        elif ent[\"source_value\"].lower() in notes_str.lower():\n",
    "            pass\n",
    "        elif len(ent_acyronym) > 1 and re.search(\n",
    "            r\"\\s\" + ent_acyronym + r\"\\s\", notes_str, re.S\n",
    "        ):\n",
    "            pass\n",
    "        else:\n",
    "            misses.add(\n",
    "                (ent[\"cui\"], ent[\"pretty_name\"], ent[\"types\"][0], ent[\"source_value\"])\n",
    "            )\n",
    "misses"
   ]
  },
  {
   "cell_type": "code",
   "execution_count": null,
   "metadata": {},
   "outputs": [],
   "source": [
    "print(notes_str)"
   ]
  }
 ],
 "metadata": {
  "kernelspec": {
   "display_name": ".venv",
   "language": "python",
   "name": "python3"
  },
  "language_info": {
   "codemirror_mode": {
    "name": "ipython",
    "version": 3
   },
   "file_extension": ".py",
   "mimetype": "text/x-python",
   "name": "python",
   "nbconvert_exporter": "python",
   "pygments_lexer": "ipython3",
   "version": "3.8.17"
  }
 },
 "nbformat": 4,
 "nbformat_minor": 2
}
