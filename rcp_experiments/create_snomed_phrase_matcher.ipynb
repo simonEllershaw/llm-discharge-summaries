{
 "cells": [
  {
   "cell_type": "code",
   "execution_count": null,
   "metadata": {},
   "outputs": [],
   "source": [
    "%load_ext autoreload\n",
    "%autoreload 2"
   ]
  },
  {
   "cell_type": "markdown",
   "metadata": {},
   "source": [
    "# Create Snomed Phrase Matcher"
   ]
  },
  {
   "cell_type": "markdown",
   "metadata": {},
   "source": [
    "1. Inits SnomedPhraseMatcher\n",
    "2. Add a set of parent cuis\n",
    "3. Check reload works"
   ]
  },
  {
   "cell_type": "code",
   "execution_count": null,
   "metadata": {},
   "outputs": [],
   "source": [
    "import pickle\n",
    "from pathlib import Path\n",
    "\n",
    "import spacy\n",
    "\n",
    "from discharge_summaries.snomed.lookup import SnomedLookup\n",
    "from discharge_summaries.snomed.phrase_matcher import SnomedPhraseMatcher"
   ]
  },
  {
   "cell_type": "code",
   "execution_count": null,
   "metadata": {},
   "outputs": [],
   "source": [
    "SNOMED_DIR = Path.cwd().parent / \"data\" / \"snomed\"\n",
    "OUTPUT_PATH = SNOMED_DIR / \"snomed_phrase_matcher_full.pkl\""
   ]
  },
  {
   "cell_type": "markdown",
   "metadata": {},
   "source": [
    "## 1. Init Phrase Matcher"
   ]
  },
  {
   "cell_type": "code",
   "execution_count": null,
   "metadata": {},
   "outputs": [],
   "source": [
    "snomed_lookup = SnomedLookup.load(SNOMED_DIR)\n",
    "nlp = spacy.load(\"en_core_sci_lg\", disable=[\"ner\", \"parser\"])\n",
    "nlp.add_pipe(\"lower_case_lemmas\", last=True)\n",
    "snomed_matcher = SnomedPhraseMatcher(nlp, use_child_cui_label=True)"
   ]
  },
  {
   "cell_type": "markdown",
   "metadata": {},
   "source": [
    "## 2. Add Set of Parent Cuis"
   ]
  },
  {
   "cell_type": "markdown",
   "metadata": {},
   "source": [
    "Takes ~7 mins"
   ]
  },
  {
   "cell_type": "code",
   "execution_count": null,
   "metadata": {},
   "outputs": [],
   "source": [
    "root_cui = 138875005"
   ]
  },
  {
   "cell_type": "code",
   "execution_count": null,
   "metadata": {},
   "outputs": [],
   "source": [
    "snomed_matcher.add_parent_cui(138875005, snomed_lookup)"
   ]
  },
  {
   "cell_type": "code",
   "execution_count": null,
   "metadata": {},
   "outputs": [],
   "source": [
    "OUTPUT_PATH.write_bytes(pickle.dumps(snomed_matcher))"
   ]
  },
  {
   "cell_type": "markdown",
   "metadata": {},
   "source": [
    "## 2. Check Reload works"
   ]
  },
  {
   "cell_type": "code",
   "execution_count": null,
   "metadata": {},
   "outputs": [],
   "source": [
    "reload_snomed_matcher = pickle.loads(OUTPUT_PATH.read_bytes())"
   ]
  },
  {
   "cell_type": "code",
   "execution_count": null,
   "metadata": {},
   "outputs": [],
   "source": [
    "for parent_cui in {362981000, 900000000000441003}:\n",
    "    reload_snomed_matcher._phrase_matcher.remove(str(parent_cui))\n",
    "    for child_cui in snomed_lookup.get_child_cuis(parent_cui):\n",
    "        reload_snomed_matcher._phrase_matcher.remove(str(child_cui))"
   ]
  },
  {
   "cell_type": "code",
   "execution_count": null,
   "metadata": {},
   "outputs": [],
   "source": [
    "for ent in reload_snomed_matcher(\n",
    "    \"The patient has a history of heart attacks and strokes. HIV positive. arf\"\n",
    ").ents:\n",
    "    print(ent.text, ent.label_)"
   ]
  }
 ],
 "metadata": {
  "kernelspec": {
   "display_name": ".venv",
   "language": "python",
   "name": "python3"
  },
  "language_info": {
   "codemirror_mode": {
    "name": "ipython",
    "version": 3
   },
   "file_extension": ".py",
   "mimetype": "text/x-python",
   "name": "python",
   "nbconvert_exporter": "python",
   "pygments_lexer": "ipython3",
   "version": "3.8.17"
  }
 },
 "nbformat": 4,
 "nbformat_minor": 2
}
