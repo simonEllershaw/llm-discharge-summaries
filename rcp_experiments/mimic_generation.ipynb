{
 "cells": [
  {
   "cell_type": "code",
   "execution_count": null,
   "metadata": {},
   "outputs": [],
   "source": [
    "%load_ext autoreload\n",
    "%autoreload 2"
   ]
  },
  {
   "cell_type": "code",
   "execution_count": null,
   "metadata": {},
   "outputs": [],
   "source": [
    "import json\n",
    "import os\n",
    "from copy import deepcopy\n",
    "from pathlib import Path\n",
    "from random import Random\n",
    "from typing import Dict, List, Set, Union\n",
    "\n",
    "import jsonschema\n",
    "import pandas as pd\n",
    "import tiktoken\n",
    "from dotenv import load_dotenv\n",
    "from tqdm.notebook import tqdm\n",
    "\n",
    "from discharge_summaries.openai_llm.chat_models import AzureOpenAIChatModel\n",
    "from discharge_summaries.openai_llm.prompts import (\n",
    "    generate_rcp_system_message,\n",
    "    generate_rcp_user_message,\n",
    ")\n",
    "from discharge_summaries.schemas.mimic import PhysicianNote\n",
    "from discharge_summaries.schemas.rcp_guidelines import RCPGuidelines\n",
    "from discharge_summaries.utils.deduplicate import deduplicate_physician_notes"
   ]
  },
  {
   "cell_type": "code",
   "execution_count": null,
   "metadata": {},
   "outputs": [],
   "source": [
    "load_dotenv()"
   ]
  },
  {
   "cell_type": "code",
   "execution_count": null,
   "metadata": {},
   "outputs": [],
   "source": [
    "GPT_4_ENGINE = \"gpt-4\"\n",
    "GPT_4_32K_ENGINE = \"gpt-4-32k\"\n",
    "\n",
    "AZURE_API_VERSION = \"2023-07-01-preview\"\n",
    "TOKENIZER_NAME = \"cl100k_base\"\n",
    "EXAMPLE_DIR = Path.cwd() / \"examples\"\n",
    "OUTPUT_DIR = Path.cwd() / \"output\"\n",
    "\n",
    "SNOMED_DIR = Path.cwd().parent / \"data\" / \"snomed\"\n",
    "PHRASE_MATCHER_FPATH = SNOMED_DIR / \"snomed_phrase_matcher_full.pkl\"\n",
    "\n",
    "MIMIC_III_DIR = (\n",
    "    Path.cwd().parent / \"data\" / \"physionet.org\" / \"files\" / \"mimiciii\" / \"1.4\"\n",
    ")\n",
    "PHYSICIAN_NOTE_FPATH = MIMIC_III_DIR / \"physician_notes_mimic.csv\"\n",
    "\n",
    "SAMPLE_SIZE = 5\n",
    "RANDOM_SEED = 23"
   ]
  },
  {
   "cell_type": "code",
   "execution_count": null,
   "metadata": {},
   "outputs": [],
   "source": [
    "rcp_schema = RCPGuidelines.schema()\n",
    "example = json.loads((EXAMPLE_DIR / \"example.json\").read_text())\n",
    "jsonschema.validate(example, rcp_schema)"
   ]
  },
  {
   "cell_type": "code",
   "execution_count": null,
   "metadata": {},
   "outputs": [],
   "source": [
    "def remove_keys_recursive(d: Union[List, Dict], keys: Set[str]):\n",
    "    if isinstance(d, dict):\n",
    "        for key in list(d.keys()):\n",
    "            if key in keys:\n",
    "                del d[key]\n",
    "            else:\n",
    "                remove_keys_recursive(d[key], keys)\n",
    "    elif isinstance(d, list):\n",
    "        for item in d:\n",
    "            remove_keys_recursive(item, keys)\n",
    "    return d\n",
    "\n",
    "\n",
    "# Remove keys \"title\" and \"required\" recursively\n",
    "simplified_rcp_schema = remove_keys_recursive(\n",
    "    deepcopy(rcp_schema), {\"title\", \"required\"}\n",
    ")\n",
    "simplified_rcp_schema"
   ]
  },
  {
   "cell_type": "code",
   "execution_count": null,
   "metadata": {},
   "outputs": [],
   "source": [
    "tokenizer = tiktoken.get_encoding(TOKENIZER_NAME)\n",
    "\n",
    "gpt_4 = AzureOpenAIChatModel(\n",
    "    api_base=os.getenv(\"AZURE_OPENAI_ENDPOINT\"),\n",
    "    api_key=os.getenv(\"AZURE_OPENAI_KEY\"),\n",
    "    api_version=AZURE_API_VERSION,\n",
    "    engine=GPT_4_ENGINE,\n",
    "    temperature=0,\n",
    "    timeout=20,\n",
    ")\n",
    "\n",
    "gpt_4_32k = AzureOpenAIChatModel(\n",
    "    api_base=os.getenv(\"AZURE_OPENAI_ENDPOINT\"),\n",
    "    api_key=os.getenv(\"AZURE_OPENAI_KEY\"),\n",
    "    api_version=AZURE_API_VERSION,\n",
    "    engine=GPT_4_32K_ENGINE,\n",
    "    temperature=0,\n",
    "    timeout=20,\n",
    ")"
   ]
  },
  {
   "cell_type": "code",
   "execution_count": null,
   "metadata": {},
   "outputs": [],
   "source": [
    "notes_df = pd.read_csv(PHYSICIAN_NOTE_FPATH)"
   ]
  },
  {
   "cell_type": "code",
   "execution_count": null,
   "metadata": {},
   "outputs": [],
   "source": [
    "hadm_ids = notes_df[\"HADM_ID\"].unique().tolist()\n",
    "sample_hadm_ids = Random(RANDOM_SEED).sample(hadm_ids, SAMPLE_SIZE)\n",
    "sample_hadm_ids"
   ]
  },
  {
   "cell_type": "code",
   "execution_count": null,
   "metadata": {},
   "outputs": [],
   "source": [
    "for hadm_id in tqdm(sample_hadm_ids):\n",
    "    hadm_id_output_dir = OUTPUT_DIR / str(int(hadm_id))\n",
    "    hadm_id_output_dir.mkdir(parents=True, exist_ok=True)\n",
    "\n",
    "    physician_notes = [\n",
    "        PhysicianNote(\n",
    "            hadm_id=row[\"HADM_ID\"],\n",
    "            title=row[\"DESCRIPTION\"],\n",
    "            timestamp=row[\"CHARTTIME\"],\n",
    "            text=row[\"TEXT\"],\n",
    "        )\n",
    "        for _, row in notes_df[notes_df[\"HADM_ID\"] == hadm_id].iterrows()\n",
    "    ]\n",
    "\n",
    "    deduplicated_physician_notes = deduplicate_physician_notes(physician_notes)\n",
    "    deduplicated_physician_notes = sorted(\n",
    "        deduplicated_physician_notes, key=lambda x: x.timestamp\n",
    "    )\n",
    "\n",
    "    system_message = generate_rcp_system_message(simplified_rcp_schema, example)\n",
    "    user_message = generate_rcp_user_message(deduplicated_physician_notes)\n",
    "\n",
    "    prompt_length = sum(\n",
    "        len(tokenizer.encode(message.content))\n",
    "        for message in [system_message, user_message]\n",
    "    )\n",
    "    tokenizer = tiktoken.get_encoding(TOKENIZER_NAME)\n",
    "\n",
    "    llm = gpt_4 if prompt_length < 7000 else gpt_4_32k\n",
    "\n",
    "    response = llm.query([system_message, user_message])\n",
    "\n",
    "    (hadm_id_output_dir / \"prompt.txt\").write_text(\n",
    "        system_message.content + \"\\n\\n\" + user_message.content\n",
    "    )\n",
    "\n",
    "    (hadm_id_output_dir / \"discharge_summary.json\").write_text(\n",
    "        json.dumps(json.loads(response.content), indent=4)\n",
    "    )"
   ]
  }
 ],
 "metadata": {
  "kernelspec": {
   "display_name": ".venv",
   "language": "python",
   "name": "python3"
  },
  "language_info": {
   "codemirror_mode": {
    "name": "ipython",
    "version": 3
   },
   "file_extension": ".py",
   "mimetype": "text/x-python",
   "name": "python",
   "nbconvert_exporter": "python",
   "pygments_lexer": "ipython3",
   "version": "3.8.17"
  }
 },
 "nbformat": 4,
 "nbformat_minor": 2
}
