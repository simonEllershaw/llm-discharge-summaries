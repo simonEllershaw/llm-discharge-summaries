{
 "cells": [
  {
   "cell_type": "code",
   "execution_count": null,
   "metadata": {},
   "outputs": [],
   "source": [
    "import openai\n",
    "from dotenv import load_dotenv"
   ]
  },
  {
   "cell_type": "code",
   "execution_count": null,
   "metadata": {},
   "outputs": [],
   "source": [
    "load_dotenv()"
   ]
  },
  {
   "cell_type": "code",
   "execution_count": null,
   "metadata": {},
   "outputs": [],
   "source": [
    "from discharge_summaries.llm.models.chat_azure_llm import ChatAzureLLM\n",
    "from discharge_summaries.llm.prompters.summarize_prompter import SummarizePrompter\n",
    "from discharge_summaries.schemas.message import print_messages\n",
    "\n",
    "llm = ChatAzureLLM(\"gpt-35-turbo\")\n",
    "prompter = SummarizePrompter([])"
   ]
  },
  {
   "cell_type": "code",
   "execution_count": null,
   "metadata": {},
   "outputs": [],
   "source": [
    "messages = prompter.create_prompt_messages(\n",
    "    \"Cough\",\n",
    "    [\n",
    "        \"The patient had a cough\",\n",
    "        (\n",
    "            \"We found the patient had bacterial infection causing the cough as well as\"\n",
    "            \" a broken leg\"\n",
    "        ),\n",
    "        \"We gave antibiotics for the cough and the patient made a full recovery\",\n",
    "    ],\n",
    ")\n",
    "print_messages(messages)"
   ]
  },
  {
   "cell_type": "code",
   "execution_count": null,
   "metadata": {},
   "outputs": [],
   "source": [
    "llm.query(messages)"
   ]
  },
  {
   "cell_type": "code",
   "execution_count": null,
   "metadata": {},
   "outputs": [],
   "source": [
    "deployment_name = (  # This will correspond to the custom name you chose for your deployment when you deployed a model.\n",
    "    \"gpt-35-turbo\"\n",
    ")\n",
    "\n",
    "# Send a completion call to generate an answer\n",
    "print(\"Sending a test completion job\")\n",
    "start_phrase = \"Write a tagline for an ice cream shop. \"\n",
    "response = openai.Completion.create(\n",
    "    engine=deployment_name, prompt=start_phrase, max_tokens=10\n",
    ")\n",
    "text = response[\"choices\"][0][\"text\"].replace(\"\\n\", \"\").replace(\" .\", \".\").strip()\n",
    "print(start_phrase + text)"
   ]
  }
 ],
 "metadata": {
  "kernelspec": {
   "display_name": ".venv",
   "language": "python",
   "name": "python3"
  },
  "language_info": {
   "codemirror_mode": {
    "name": "ipython",
    "version": 3
   },
   "file_extension": ".py",
   "mimetype": "text/x-python",
   "name": "python",
   "nbconvert_exporter": "python",
   "pygments_lexer": "ipython3",
   "version": "3.11.4"
  }
 },
 "nbformat": 4,
 "nbformat_minor": 2
}
