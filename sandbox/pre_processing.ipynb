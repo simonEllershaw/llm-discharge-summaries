{
 "cells": [
  {
   "cell_type": "code",
   "execution_count": null,
   "metadata": {},
   "outputs": [],
   "source": [
    "import re\n",
    "from pathlib import Path\n",
    "\n",
    "import pandas as pd\n",
    "from IPython.display import display"
   ]
  },
  {
   "cell_type": "code",
   "execution_count": null,
   "metadata": {},
   "outputs": [],
   "source": [
    "RANDOM_SEED = 23\n",
    "DATA_DIR = Path.cwd().parent / \"data\"\n",
    "MIMIC_DIR = DATA_DIR / \"physionet.org\" / \"files\"\n",
    "\n",
    "MIMIC_III_DIR = MIMIC_DIR / \"mimiciii\" / \"1.4\"\n",
    "MIMIC_IV_DIR = MIMIC_DIR / \"mimiciv\" / \"2.2\" / \"note\"\n",
    "CLEAN_DF_SAVE_PATH = DATA_DIR / \"clean_df.pkl\""
   ]
  },
  {
   "attachments": {},
   "cell_type": "markdown",
   "metadata": {},
   "source": [
    "## Read in MIMIC III notes"
   ]
  },
  {
   "cell_type": "code",
   "execution_count": null,
   "metadata": {},
   "outputs": [],
   "source": [
    "full_df = pd.read_csv(MIMIC_III_DIR / \"NOTEEVENTS.csv\")"
   ]
  },
  {
   "attachments": {},
   "cell_type": "markdown",
   "metadata": {},
   "source": [
    "### Pre processing\n",
    "\n",
    "Remove error and duplicate rows"
   ]
  },
  {
   "cell_type": "code",
   "execution_count": null,
   "metadata": {},
   "outputs": [],
   "source": [
    "full_df = full_df[full_df[\"ISERROR\"] != 1]\n",
    "full_df.drop(\"ISERROR\", axis=1, inplace=True)\n",
    "full_df = full_df.drop_duplicates()\n",
    "full_df.head()"
   ]
  },
  {
   "cell_type": "code",
   "execution_count": null,
   "metadata": {},
   "outputs": [],
   "source": [
    "len(full_df), len(full_df[\"HADM_ID\"].unique())"
   ]
  },
  {
   "attachments": {},
   "cell_type": "markdown",
   "metadata": {},
   "source": [
    "Keep only Physician and discharge notes"
   ]
  },
  {
   "cell_type": "code",
   "execution_count": null,
   "metadata": {},
   "outputs": [],
   "source": [
    "full_df[\"CATEGORY\"].unique()"
   ]
  },
  {
   "cell_type": "code",
   "execution_count": null,
   "metadata": {},
   "outputs": [],
   "source": [
    "full_df = full_df[\n",
    "    (full_df[\"CATEGORY\"] == \"Physician \")\n",
    "    | (\n",
    "        (full_df[\"CATEGORY\"] == \"Discharge summary\")\n",
    "        & (full_df[\"DESCRIPTION\"] == \"Report\")\n",
    "    )\n",
    "]\n",
    "print(len(full_df))"
   ]
  },
  {
   "attachments": {},
   "cell_type": "markdown",
   "metadata": {},
   "source": [
    "Group by HADM_ID and only keep rows with both a discharge summary and physician note"
   ]
  },
  {
   "cell_type": "code",
   "execution_count": null,
   "metadata": {},
   "outputs": [],
   "source": [
    "grouped_df = full_df.groupby(\"HADM_ID\")\n",
    "df = grouped_df.filter(lambda group: len(group[\"CATEGORY\"].unique()) == 2)"
   ]
  },
  {
   "attachments": {},
   "cell_type": "markdown",
   "metadata": {},
   "source": [
    "Clean text, fillna chartimes with date and midnight (to allow sorting by time), then regroup"
   ]
  },
  {
   "cell_type": "code",
   "execution_count": null,
   "metadata": {},
   "outputs": [],
   "source": [
    "def clean_text(text: str) -> str:\n",
    "    cleaned_text = re.sub(r\"\\n\\.\\n\", r\"\\n\\n\", text)\n",
    "    cleaned_text = re.sub(r\"\\n {2,}\", \"\\n\", cleaned_text)\n",
    "    cleaned_text = re.sub(r\"\\n{3,}\", \"\\n\\n\", cleaned_text)\n",
    "    return cleaned_text\n",
    "\n",
    "\n",
    "df[\"TEXT\"] = df[\"TEXT\"].apply(lambda text: clean_text(text))"
   ]
  },
  {
   "cell_type": "code",
   "execution_count": null,
   "metadata": {},
   "outputs": [],
   "source": [
    "df[\"CHARTTIME\"] = df[\"CHARTTIME\"].fillna(full_df[\"CHARTDATE\"] + \" 23:59:59\")\n",
    "df = df.sort_values(by=[\"HADM_ID\", \"CHARTTIME\"])\n",
    "df = df.reset_index(drop=True)\n",
    "len(df), len(df[\"HADM_ID\"].unique())"
   ]
  },
  {
   "cell_type": "code",
   "execution_count": null,
   "metadata": {},
   "outputs": [],
   "source": [
    "def extract_summary_sections(row: pd.Series) -> list[str]:\n",
    "    if row[\"CATEGORY\"] != \"Discharge summary\":\n",
    "        return []\n",
    "\n",
    "    # Extract text\n",
    "    start_pattern = r\"\\nBrief Hospital Course:\\n\"\n",
    "    end_pattern = r\"\\nMedications on Admission:\\n\"\n",
    "    match = re.search(f\"{start_pattern}(.*?){end_pattern}\", row[\"TEXT\"], re.DOTALL)\n",
    "    if not match:\n",
    "        return []\n",
    "    # Split into sections\n",
    "    sections = re.split(\"\\n\\n(?=[^\\n]*:)\", match.group(1))\n",
    "    if len(sections) == 1:\n",
    "        return []\n",
    "    # Remove prefixes such as 1) or #\n",
    "    sections = [\n",
    "        section if idx == 0 else re.sub(r\"\\A[0-9#]+[\\)|\\.]* *\", \"\", section)\n",
    "        for idx, section in enumerate(sections)\n",
    "    ]\n",
    "    return sections if len(sections) > 1 else []\n",
    "\n",
    "\n",
    "df[\"SUMMARY_SECTIONS\"] = df.apply(extract_summary_sections, axis=1)\n",
    "hadm_ids_w_summary_sections = df[\"HADM_ID\"][\n",
    "    df[\"SUMMARY_SECTIONS\"].apply(len) > 0\n",
    "].unique()\n",
    "df = df[df[\"HADM_ID\"].isin(hadm_ids_w_summary_sections)]\n",
    "len(df[\"HADM_ID\"].unique())"
   ]
  },
  {
   "cell_type": "code",
   "execution_count": null,
   "metadata": {},
   "outputs": [],
   "source": [
    "sample_hadm_id = df[\"HADM_ID\"].sample(1, random_state=RANDOM_SEED).values[0]\n",
    "sample_df = df[df[\"HADM_ID\"] == sample_hadm_id]\n",
    "display(sample_df)"
   ]
  },
  {
   "cell_type": "code",
   "execution_count": null,
   "metadata": {},
   "outputs": [],
   "source": [
    "print(sample_df[sample_df[\"CATEGORY\"] == \"Physician \"][\"TEXT\"].values[-1])"
   ]
  },
  {
   "cell_type": "code",
   "execution_count": null,
   "metadata": {},
   "outputs": [],
   "source": [
    "sample_discharge_summary = sample_df[sample_df[\"CATEGORY\"] == \"Discharge summary\"]\n",
    "print(sample_discharge_summary[\"TEXT\"].values[0])\n",
    "for section in sample_discharge_summary[\"SUMMARY_SECTIONS\"].values[0]:\n",
    "    print(f\"\\n{section}\")"
   ]
  },
  {
   "cell_type": "code",
   "execution_count": null,
   "metadata": {},
   "outputs": [],
   "source": [
    "df.to_pickle(CLEAN_DF_SAVE_PATH)"
   ]
  }
 ],
 "metadata": {
  "kernelspec": {
   "display_name": ".venv",
   "language": "python",
   "name": "python3"
  },
  "language_info": {
   "codemirror_mode": {
    "name": "ipython",
    "version": 3
   },
   "file_extension": ".py",
   "mimetype": "text/x-python",
   "name": "python",
   "nbconvert_exporter": "python",
   "pygments_lexer": "ipython3",
   "version": "3.11.3"
  }
 },
 "nbformat": 4,
 "nbformat_minor": 2
}
